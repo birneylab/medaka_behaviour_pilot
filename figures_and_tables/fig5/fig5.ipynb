{
 "cells": [
  {
   "cell_type": "code",
   "execution_count": 2,
   "id": "5cab1853-cb25-40f6-8da1-27d6d3359f7e",
   "metadata": {
    "scrolled": true
   },
   "outputs": [
    {
     "name": "stderr",
     "output_type": "stream",
     "text": [
      "── \u001b[1mAttaching core tidyverse packages\u001b[22m ──────────────────────── tidyverse 2.0.0 ──\n",
      "\u001b[32m✔\u001b[39m \u001b[34mdplyr    \u001b[39m 1.1.4     \u001b[32m✔\u001b[39m \u001b[34mreadr    \u001b[39m 2.1.5\n",
      "\u001b[32m✔\u001b[39m \u001b[34mforcats  \u001b[39m 1.0.0     \u001b[32m✔\u001b[39m \u001b[34mstringr  \u001b[39m 1.5.1\n",
      "\u001b[32m✔\u001b[39m \u001b[34mggplot2  \u001b[39m 3.5.1     \u001b[32m✔\u001b[39m \u001b[34mtibble   \u001b[39m 3.2.1\n",
      "\u001b[32m✔\u001b[39m \u001b[34mlubridate\u001b[39m 1.9.3     \u001b[32m✔\u001b[39m \u001b[34mtidyr    \u001b[39m 1.3.1\n",
      "\u001b[32m✔\u001b[39m \u001b[34mpurrr    \u001b[39m 1.0.2     \n",
      "── \u001b[1mConflicts\u001b[22m ────────────────────────────────────────── tidyverse_conflicts() ──\n",
      "\u001b[31m✖\u001b[39m \u001b[34mdplyr\u001b[39m::\u001b[32mfilter()\u001b[39m masks \u001b[34mstats\u001b[39m::filter()\n",
      "\u001b[31m✖\u001b[39m \u001b[34mdplyr\u001b[39m::\u001b[32mlag()\u001b[39m    masks \u001b[34mstats\u001b[39m::lag()\n",
      "\u001b[36mℹ\u001b[39m Use the conflicted package (\u001b[3m\u001b[34m<http://conflicted.r-lib.org/>\u001b[39m\u001b[23m) to force all conflicts to become errors\n",
      "\n",
      "Attaching package: ‘data.table’\n",
      "\n",
      "\n",
      "The following objects are masked from ‘package:lubridate’:\n",
      "\n",
      "    hour, isoweek, mday, minute, month, quarter, second, wday, week,\n",
      "    yday, year\n",
      "\n",
      "\n",
      "The following objects are masked from ‘package:dplyr’:\n",
      "\n",
      "    between, first, last\n",
      "\n",
      "\n",
      "The following object is masked from ‘package:purrr’:\n",
      "\n",
      "    transpose\n",
      "\n",
      "\n",
      "\n",
      "Attaching package: ‘cowplot’\n",
      "\n",
      "\n",
      "The following object is masked from ‘package:lubridate’:\n",
      "\n",
      "    stamp\n",
      "\n",
      "\n"
     ]
    }
   ],
   "source": [
    "library(\"tidyverse\")\n",
    "library(\"data.table\")\n",
    "library(\"cowplot\")\n",
    "library(\"ggh4x\")\n",
    "library(\"ggrastr\")"
   ]
  },
  {
   "cell_type": "code",
   "execution_count": 3,
   "id": "642b7cb4-3785-4654-812d-820d1203e686",
   "metadata": {},
   "outputs": [],
   "source": [
    "test_hmm_colors <- c(\n",
    "    \"1\" = \"#440154\",\n",
    "    \"2\" = \"#481b6d\",\n",
    "    \"3\" = \"#46327e\",\n",
    "    \"4\" = \"#3f4788\",\n",
    "    \"5\" = \"#365c8d\",\n",
    "    \"6\" = \"#2e6e8e\",\n",
    "    \"7\" = \"#277f8e\",\n",
    "    \"8\" = \"#21918c\",\n",
    "    \"9\" = \"#1fa187\",\n",
    "    \"10\" = \"#2db27d\",\n",
    "    \"11\" = \"#4ac16d\",\n",
    "    \"12\" = \"#73d056\",\n",
    "    \"13\" = \"#a0da39\",\n",
    "    \"14\" = \"#d0e11c\",\n",
    "    \"15\" = \"#fde725\",\n",
    "    \"ns\" = \"gray\"\n",
    ")"
   ]
  },
  {
   "cell_type": "code",
   "execution_count": 4,
   "id": "cfec913f-e027-4f39-acfb-843520bf38f7",
   "metadata": {},
   "outputs": [],
   "source": [
    "test_sig <- list(\n",
    "    \"of\" = c(\"1\", \"2\", \"3\", \"4\", \"5\", \"6\", \"7\", \"8\", \"9\", \"13\", \"14\"),\n",
    "    \"no\" = c(\"1\", \"2\", \"3\", \"4\", \"5\", \"6\", \"7\", \"9\")\n",
    ")"
   ]
  },
  {
   "cell_type": "code",
   "execution_count": 5,
   "id": "cf5c3d83-087b-4bae-b5b4-f7d4ac96fce1",
   "metadata": {},
   "outputs": [],
   "source": [
    "strain_labels <- c(\"iCab\" = \"icab\", \"HdrR\" = \"hdr\", \"Ho5\" = \"ho5\", \"Kaga\" =  \"kaga\", \"HNI\" = \"hni\")"
   ]
  },
  {
   "cell_type": "code",
   "execution_count": null,
   "id": "638993e7-49e7-450c-ace3-65ea03dda287",
   "metadata": {},
   "outputs": [],
   "source": [
    "df <- fread(\"/nfs/research/birney/users/saul/nextflow/medaka_behaviour_pilot/hmm/time_step0.08_n_states15_hmm.csv.gz\")\n",
    "df[, mean_dist := log10(mean(distance)), by = hmm_state]\n",
    "tmp <- df[, .(hmm_state, mean_dist)] |> distinct() |> as.data.table()\n",
    "tmp[, hmm_state_recoded := rank(mean_dist)]\n",
    "df <- merge(df, tmp, by = c(\"hmm_state\", \"mean_dist\"))\n",
    "df[, hmm_state := hmm_state_recoded]\n",
    "df[, hmm_state_recoded := NULL]\n",
    "df <- df |>\n",
    "    separate(\n",
    "        id,\n",
    "        into = c(\"date\", \"time_string\", \"ref_strain\", \"test_strain\", \"tank_side\", \"assay\", \"quadrant\", \"fish_type\"),\n",
    "        sep = \"_\",\n",
    "        remove = FALSE\n",
    "    ) |>\n",
    "    as.data.table()\n",
    "df[, test_strain := fct_recode(test_strain, !!!strain_labels)]\n",
    "df[, test_strain := fct_relevel(test_strain, function(x){names(strain_labels)})]\n",
    "head(df)"
   ]
  },
  {
   "cell_type": "code",
   "execution_count": null,
   "id": "118f523b-5e8d-4282-84c7-49e0540eef1b",
   "metadata": {},
   "outputs": [],
   "source": [
    "f_list <- list.files(\"/nfs/research/birney/users/saul/nextflow/medaka_behaviour_pilot/trajectories_csv/\", full.names = TRUE)\n",
    "df_positions <- lapply(f_list, function(f){fread(f)[, id := basename(f) |> str_remove(\"_traj_with_identities.csv.gz\")]}) |> rbindlist(use.names = TRUE)\n",
    "message(\"Read completed\")\n",
    "df_positions[, is_ref_ref := grepl(\"icab_icab\", id)]\n",
    "df_positions[, frame_n := 1:.N, by = id]\n",
    "df_positions <- melt(\n",
    "    df_positions[, .(id, frame_n, ref_x, ref_y, test_x, test_y)],\n",
    "    id.vars = c(\"id\", \"frame_n\")\n",
    ")[\n",
    "    , .(\n",
    "        id,\n",
    "        frame_n,\n",
    "        axis = str_remove(variable, \"^.*_\"),\n",
    "        fish_type = str_remove(variable, \"_.*$\"),\n",
    "        value\n",
    "    )\n",
    "]\n",
    "message(\"Melt completed\")\n",
    "df_positions <- dcast(df_positions, id + frame_n + fish_type ~ axis, measure.var = \"value\")\n",
    "message(\"Dcast completed\")\n",
    "df_positions <- df_positions |>\n",
    "    separate(\n",
    "        id,\n",
    "        into = c(\"date\", \"time_string\", \"ref_strain\", \"test_strain\", \"tank_side\", \"assay\", \"quadrant\"),\n",
    "        sep = \"_\",\n",
    "        remove = FALSE\n",
    "    ) |>\n",
    "    as.data.table()\n",
    "message(\"Separate completed\")\n",
    "df_positions[, test_strain := fct_recode(test_strain, !!!strain_labels)]\n",
    "df_positions[, test_strain := fct_relevel(test_strain, function(x){names(strain_labels)})]\n",
    "head(df_positions)"
   ]
  },
  {
   "cell_type": "markdown",
   "id": "471b00c9-b2da-4e82-bd77-f01141d32e6c",
   "metadata": {},
   "source": [
    "# Panel A"
   ]
  },
  {
   "cell_type": "code",
   "execution_count": null,
   "id": "0f178ff2-59ab-4465-9f50-49d5537cfead",
   "metadata": {},
   "outputs": [],
   "source": [
    "plt_df <- df[\n",
    "    assay == \"of\" &\n",
    "    (fish_type == \"test\" | test_strain == \"iCab\") # we can use both icab as test fish in icab/icab pairs\n",
    "]"
   ]
  },
  {
   "cell_type": "code",
   "execution_count": null,
   "id": "cbfa8892-abd7-4a79-b789-eaa82d1fbfcf",
   "metadata": {},
   "outputs": [],
   "source": [
    "plt_df_positions <- df_positions[\n",
    "    assay == \"of\" &\n",
    "    (fish_type == \"test\" | test_strain == \"iCab\") # we can use both icab as test fish in icab/icab pairs\n",
    "]"
   ]
  },
  {
   "cell_type": "code",
   "execution_count": null,
   "id": "2dfd7293-7d85-4758-8c7e-9bb6757b11e4",
   "metadata": {},
   "outputs": [],
   "source": [
    "plt_df[, hmm_state_sig := ifelse(as.character(hmm_state) %in% test_sig[[\"of\"]], as.character(hmm_state), \"ns\")]\n",
    "plt_df[\n",
    "    , hmm_state_sig := factor(\n",
    "        hmm_state_sig,\n",
    "        levels = c(unique(hmm_state) |> sort(), \"ns\")\n",
    "    )\n",
    "]"
   ]
  },
  {
   "cell_type": "code",
   "execution_count": null,
   "id": "35094b2d-b6af-4457-8aa2-d43705147c89",
   "metadata": {},
   "outputs": [],
   "source": [
    "pA <- ggplot(plt_df, aes(x = time_s, y = id, fill = as.factor(hmm_state))) +\n",
    "    geom_tile_rast() +\n",
    "    scale_fill_manual(values = test_hmm_colors) +\n",
    "    scale_x_continuous(expand = expansion(mult = c(0, 0))) + \n",
    "    facet_wrap(\n",
    "        ~ test_strain,\n",
    "        scales = \"free_y\",\n",
    "        ncol = 1\n",
    "    ) +\n",
    "    theme_cowplot(15) +\n",
    "    theme(\n",
    "        axis.line = element_blank(),\n",
    "        axis.text.y = element_blank(),\n",
    "        axis.ticks.y = element_blank(),\n",
    "        strip.background = element_blank(),\n",
    "        panel.background = element_rect(fill = \"gray\"),\n",
    "        legend.position = \"none\",\n",
    "        legend.key.width = unit(0.5, \"cm\"),\n",
    "        legend.key.height = unit(0.2, \"cm\"),\n",
    "        axis.text.x = element_text(size = 9),\n",
    "        axis.title.y = element_text(margin = margin(r = 10)),\n",
    "        legend.title = element_text(size = 13, margin = margin(r = 20))\n",
    "    ) +\n",
    "    guides(fill = guide_legend(nrow = 3)) +\n",
    "    labs(y = \"Individual fish\", x = \"Time (s)\", fill = \"HMM state\")"
   ]
  },
  {
   "cell_type": "code",
   "execution_count": null,
   "id": "e0322b24-77b3-44c2-84f9-b77ebeb41e55",
   "metadata": {},
   "outputs": [],
   "source": [
    "options(repr.plot.width = 5, repr.plot.height = 8)\n",
    "pA"
   ]
  },
  {
   "cell_type": "markdown",
   "id": "3bfd50ac-8b67-43f2-9d13-8827fa246131",
   "metadata": {},
   "source": [
    "# Panel B-alt"
   ]
  },
  {
   "cell_type": "code",
   "execution_count": null,
   "id": "2cbcc2cf-141f-4de0-ba53-d608b8f57530",
   "metadata": {},
   "outputs": [],
   "source": [
    "pB_alt <- ggplot(plt_df, aes(x = time_s, fill = as.factor(hmm_state))) +\n",
    "    geom_density(position = \"fill\") +\n",
    "    scale_fill_manual(values = test_hmm_colors) +\n",
    "    scale_x_continuous(expand = expansion(mult = c(0, 0))) + \n",
    "    scale_y_continuous(expand = expansion(mult = c(0, 0))) + \n",
    "    facet_wrap(\n",
    "        ~ test_strain,\n",
    "        scales = \"free_y\",\n",
    "        ncol = 1\n",
    "    ) +\n",
    "    theme_cowplot(15) +\n",
    "    theme(\n",
    "        axis.line = element_blank(),\n",
    "        legend.position = \"left\",\n",
    "        strip.background = element_blank(),\n",
    "        panel.background = element_rect(fill = \"gray\"),\n",
    "        axis.title.y = element_text(margin = margin(r = 10)),\n",
    "        axis.text = element_text(size = 9),\n",
    "    ) +\n",
    "    guides(fill = guide_legend(ncol = 1, override.aes = list(color = NA))) +\n",
    "    labs(y = \"Density\", x = \"Time (s)\", fill = \"HMM state\")"
   ]
  },
  {
   "cell_type": "code",
   "execution_count": null,
   "id": "2e46c775-d571-4b76-9fdf-8da67eb9760d",
   "metadata": {},
   "outputs": [],
   "source": [
    "options(repr.plot.width = 6, repr.plot.height = 8)\n",
    "pB_alt"
   ]
  },
  {
   "cell_type": "markdown",
   "id": "9c109acb-e4d8-425a-ac99-536636c2e28f",
   "metadata": {},
   "source": [
    "# Panel B"
   ]
  },
  {
   "cell_type": "code",
   "execution_count": null,
   "id": "ef20793e-4eab-49ed-aa29-ea2f9880d354",
   "metadata": {},
   "outputs": [],
   "source": [
    "pB <- ggplot(plt_df, aes(x = time_s, fill = hmm_state_sig)) +\n",
    "    geom_density(position = \"fill\", show.legend = TRUE) +\n",
    "    scale_fill_manual(\n",
    "        values = test_hmm_colors,\n",
    "        drop = FALSE,\n",
    "        labels = function(x){\n",
    "            ifelse(x == \"ns\", \"Not sig.\", x)\n",
    "        }\n",
    "    ) +\n",
    "    scale_x_continuous(expand = expansion(mult = c(0, 0))) + \n",
    "    scale_y_continuous(expand = expansion(mult = c(0, 0))) + \n",
    "    facet_wrap(\n",
    "        ~ test_strain,\n",
    "        scales = \"free_y\",\n",
    "        ncol = 1\n",
    "    ) +\n",
    "    theme_cowplot(15) +\n",
    "    theme(\n",
    "        axis.line = element_blank(),\n",
    "        legend.position = \"left\",\n",
    "        strip.background = element_blank(),\n",
    "        axis.title.y = element_text(margin = margin(r = 10)),\n",
    "        axis.text = element_text(size = 9),\n",
    "    ) +\n",
    "    guides(fill = guide_legend(ncol = 1, override.aes = list(color = NA))) +\n",
    "    labs(y = \"Density\", x = \"Time (s)\", fill = \"HMM state\")"
   ]
  },
  {
   "cell_type": "code",
   "execution_count": null,
   "id": "10a9f23d-297e-4438-84c1-bfee287d0743",
   "metadata": {},
   "outputs": [],
   "source": [
    "options(repr.plot.width = 6, repr.plot.height = 8)\n",
    "pB"
   ]
  },
  {
   "cell_type": "markdown",
   "id": "2781304a-4a21-4efd-9745-10044f4fbe45",
   "metadata": {},
   "source": [
    "# Panel C"
   ]
  },
  {
   "cell_type": "code",
   "execution_count": null,
   "id": "44fef369-593e-4d7c-a6bb-d5e8a5b51f33",
   "metadata": {},
   "outputs": [],
   "source": [
    "pC <- ggplot(plt_df_positions, aes(x = x, y = y)) +\n",
    "    stat_density_2d(aes(fill = after_stat(density)), geom = \"raster\", contour = FALSE) +\n",
    "    scale_x_continuous(expand = expansion(mult = c(0, 0))) +\n",
    "    scale_y_reverse(expand = expansion(mult = c(0, 0))) + # y is up to down\n",
    "    scale_fill_distiller(palette = \"RdBu\") +\n",
    "    facet_wrap(\n",
    "        ~ test_strain,\n",
    "        ncol = 1\n",
    "    ) +\n",
    "    theme_cowplot(15) +\n",
    "    theme(\n",
    "        axis.line = element_blank(),\n",
    "        strip.background = element_blank(),\n",
    "        panel.background = element_rect(fill = \"gray\"),\n",
    "        legend.position = \"right\",\n",
    "        legend.text = element_text(size = 9),\n",
    "        axis.title.x = element_text(margin = margin(t = 4)),\n",
    "        axis.title.y = element_text(margin = margin(r = 10)),\n",
    "        axis.text = element_text(size = 9),\n",
    "        legend.title = element_text(size = 13, margin = margin(b = 20))\n",
    "    ) +\n",
    "    labs(y = \"Position y (px)\", x = \"Position x (px)\", fill = \"Density\")"
   ]
  },
  {
   "cell_type": "code",
   "execution_count": null,
   "id": "64042ccc-3a8f-4870-b8bb-db24f97ae277",
   "metadata": {},
   "outputs": [],
   "source": [
    "options(repr.plot.width = 3, repr.plot.height = 8)\n",
    "pC"
   ]
  },
  {
   "cell_type": "markdown",
   "id": "b615b06e-7ffd-494e-a87c-77e457dc349f",
   "metadata": {},
   "source": [
    "# ABC panel"
   ]
  },
  {
   "cell_type": "code",
   "execution_count": null,
   "id": "3ca8b024-4082-427a-b11f-d3860b92c952",
   "metadata": {},
   "outputs": [],
   "source": [
    "pABC <- plot_grid(\n",
    "    pA, pB_alt, pC,\n",
    "    nrow = 1,\n",
    "    rel_widths = c(5, 6, 3),\n",
    "    align = \"h\",\n",
    "    axis = \"tb\",\n",
    "    labels = c(\"A\", \"B\", \"C\"),\n",
    "    label_x = c(0, 0.2, 0)\n",
    ")"
   ]
  },
  {
   "cell_type": "code",
   "execution_count": null,
   "id": "ba90fcf9-d163-4f6d-80c9-72c23624b2c3",
   "metadata": {},
   "outputs": [],
   "source": [
    "options(repr.plot.width = 14, repr.plot.height = 8)\n",
    "pABC"
   ]
  },
  {
   "cell_type": "code",
   "execution_count": null,
   "id": "7b0dccfb-5979-460d-bf69-4c570083eba5",
   "metadata": {},
   "outputs": [],
   "source": [
    "title_ABC <- ggdraw() + \n",
    "  draw_label(\n",
    "    \"Open field assay\",\n",
    "    fontface = 'bold',\n",
    "    x = 0.5,\n",
    "    hjust = 0.5,\n",
    "    size = 18\n",
    "  ) +\n",
    "  theme(\n",
    "    # add margin on the left of the drawing canvas,\n",
    "    # so title is aligned with left edge of first plot\n",
    "    plot.margin = margin(0, 0, 0, 7)\n",
    "  )"
   ]
  },
  {
   "cell_type": "code",
   "execution_count": null,
   "id": "28237628-32fa-48f9-ad98-6b3477547105",
   "metadata": {},
   "outputs": [],
   "source": [
    "options(repr.plot.width = 14, repr.plot.height = 0.5)\n",
    "title_ABC"
   ]
  },
  {
   "cell_type": "code",
   "execution_count": null,
   "id": "5f9b3198-e041-46ea-a608-40a3b2af9bcb",
   "metadata": {},
   "outputs": [],
   "source": [
    "pABC_title <- plot_grid(\n",
    "    title_ABC,\n",
    "    pABC,\n",
    "    rel_heights = c(0.5, 8.5),\n",
    "    ncol = 1\n",
    ")"
   ]
  },
  {
   "cell_type": "code",
   "execution_count": null,
   "id": "287a2305-2b39-415b-adcf-8112e6cafe6b",
   "metadata": {},
   "outputs": [],
   "source": [
    "options(repr.plot.width = 14, repr.plot.height = 9)\n",
    "pABC_title"
   ]
  },
  {
   "cell_type": "markdown",
   "id": "6d5930a4-b529-4efc-a5d9-f6adf8ea8d2b",
   "metadata": {},
   "source": [
    "# Panel D"
   ]
  },
  {
   "cell_type": "code",
   "execution_count": null,
   "id": "3fd2b067-4587-48ba-9e95-9212c3a6550f",
   "metadata": {},
   "outputs": [],
   "source": [
    "plt_df <- df[\n",
    "    assay == \"no\" &\n",
    "    (fish_type == \"test\" | test_strain == \"iCab\") # we can use both icab as test fish in icab/icab pairs\n",
    "]"
   ]
  },
  {
   "cell_type": "code",
   "execution_count": null,
   "id": "742a455a-e65f-41b3-9aa7-ee498fc1f5b4",
   "metadata": {},
   "outputs": [],
   "source": [
    "plt_df_positions <- df_positions[\n",
    "    assay == \"no\" &\n",
    "    (fish_type == \"test\" | test_strain == \"iCab\") # we can use both icab as test fish in icab/icab pairs\n",
    "]"
   ]
  },
  {
   "cell_type": "code",
   "execution_count": null,
   "id": "a5cba0fa-7ee3-4f0d-b66b-80ccf6f359a8",
   "metadata": {},
   "outputs": [],
   "source": [
    "plt_df[, hmm_state_sig := ifelse(as.character(hmm_state) %in% test_sig[[\"no\"]], as.character(hmm_state), \"ns\")]\n",
    "plt_df[\n",
    "    , hmm_state_sig := factor(\n",
    "        hmm_state_sig,\n",
    "        levels = c(unique(hmm_state) |> sort(), \"ns\")\n",
    "    )\n",
    "]"
   ]
  },
  {
   "cell_type": "code",
   "execution_count": null,
   "id": "4c73bc0d-1023-41df-a454-3248eb4f0f67",
   "metadata": {},
   "outputs": [],
   "source": [
    "pD <- ggplot(plt_df, aes(x = time_s, y = id, fill = as.factor(hmm_state))) +\n",
    "    geom_tile_rast() +\n",
    "    scale_fill_manual(values = test_hmm_colors) +\n",
    "    scale_x_continuous(expand = expansion(mult = c(0, 0))) + \n",
    "    facet_wrap(\n",
    "        ~ test_strain,\n",
    "        scales = \"free_y\",\n",
    "        ncol = 1\n",
    "    ) +\n",
    "    theme_cowplot(15) +\n",
    "    theme(\n",
    "        axis.line = element_blank(),\n",
    "        axis.text.y = element_blank(),\n",
    "        axis.ticks.y = element_blank(),\n",
    "        strip.background = element_blank(),\n",
    "        panel.background = element_rect(fill = \"gray\"),\n",
    "        legend.position = \"none\",\n",
    "        legend.key.width = unit(0.5, \"cm\"),\n",
    "        legend.key.height = unit(0.2, \"cm\"),\n",
    "        axis.text.x = element_text(size = 9),\n",
    "        axis.title.y = element_text(margin = margin(r = 10)),\n",
    "        legend.title = element_text(size = 13, margin = margin(r = 20))\n",
    "    ) +\n",
    "    guides(fill = guide_legend(nrow = 3)) +\n",
    "    labs(y = \"Individual fish\", x = \"Time (s)\", fill = \"HMM state\")"
   ]
  },
  {
   "cell_type": "code",
   "execution_count": null,
   "id": "9c9628e4-79d4-4dee-a473-97e438b3da59",
   "metadata": {},
   "outputs": [],
   "source": [
    "options(repr.plot.width = 5, repr.plot.height = 8)\n",
    "pD"
   ]
  },
  {
   "cell_type": "markdown",
   "id": "816c1057-aea9-4130-8e55-99284020f7c1",
   "metadata": {},
   "source": [
    "# Panel E-alt"
   ]
  },
  {
   "cell_type": "code",
   "execution_count": null,
   "id": "6378ba8f-9517-4634-b03f-34fcf4fce4cd",
   "metadata": {},
   "outputs": [],
   "source": [
    "pE_alt <- ggplot(plt_df, aes(x = time_s, fill = as.factor(hmm_state))) +\n",
    "    geom_density(position = \"fill\") +\n",
    "    scale_fill_manual(values = test_hmm_colors) +\n",
    "    scale_x_continuous(expand = expansion(mult = c(0, 0))) + \n",
    "    scale_y_continuous(expand = expansion(mult = c(0, 0))) + \n",
    "    facet_wrap(\n",
    "        ~ test_strain,\n",
    "        scales = \"free_y\",\n",
    "        ncol = 1\n",
    "    ) +\n",
    "    theme_cowplot(15) +\n",
    "    theme(\n",
    "        axis.line = element_blank(),\n",
    "        legend.position = \"left\",\n",
    "        strip.background = element_blank(),\n",
    "        panel.background = element_rect(fill = \"gray\"),\n",
    "        axis.title.y = element_text(margin = margin(r = 10)),\n",
    "        axis.text = element_text(size = 9),\n",
    "    ) +\n",
    "    guides(fill = guide_legend(ncol = 1, override.aes = list(color = NA))) +\n",
    "    labs(y = \"Density\", x = \"Time (s)\", fill = \"HMM state\")"
   ]
  },
  {
   "cell_type": "code",
   "execution_count": null,
   "id": "5fbcd135-cb2f-4c69-9839-2aeaf0d5ec64",
   "metadata": {},
   "outputs": [],
   "source": [
    "options(repr.plot.width = 6, repr.plot.height = 8)\n",
    "pE_alt"
   ]
  },
  {
   "cell_type": "markdown",
   "id": "37c75153-7f62-4137-8921-b37d7d32b6c4",
   "metadata": {},
   "source": [
    "# Panel E"
   ]
  },
  {
   "cell_type": "code",
   "execution_count": null,
   "id": "acaeadbf-8e36-4f4e-aebf-2d9efc7ac047",
   "metadata": {},
   "outputs": [],
   "source": [
    "pE <- ggplot(plt_df, aes(x = time_s, fill = hmm_state_sig)) +\n",
    "    geom_density(position = \"fill\", show.legend = TRUE) +\n",
    "    scale_fill_manual(\n",
    "        values = test_hmm_colors,\n",
    "        drop = FALSE,\n",
    "        labels = function(x){\n",
    "            ifelse(x == \"ns\", \"Not sig.\", x)\n",
    "        }\n",
    "    ) + \n",
    "    scale_x_continuous(expand = expansion(mult = c(0, 0))) + \n",
    "    scale_y_continuous(expand = expansion(mult = c(0, 0))) + \n",
    "    facet_wrap(\n",
    "        ~ test_strain,\n",
    "        scales = \"free_y\",\n",
    "        ncol = 1\n",
    "    ) +\n",
    "    theme_cowplot(15) +\n",
    "    theme(\n",
    "        axis.line = element_blank(),\n",
    "        legend.position = \"left\",\n",
    "        strip.background = element_blank(),\n",
    "        panel.background = element_rect(fill = \"gray\"),\n",
    "        axis.title.y = element_text(margin = margin(r = 10)),\n",
    "        axis.text = element_text(size = 9),\n",
    "    ) +\n",
    "    guides(fill = guide_legend(ncol = 1, override.aes = list(color = NA))) +\n",
    "    labs(y = \"Density\", x = \"Time (s)\", fill = \"HMM state\")"
   ]
  },
  {
   "cell_type": "code",
   "execution_count": null,
   "id": "89915bfb-d9fb-408a-a925-910933c0a4db",
   "metadata": {},
   "outputs": [],
   "source": [
    "options(repr.plot.width = 6, repr.plot.height = 8)\n",
    "pE"
   ]
  },
  {
   "cell_type": "markdown",
   "id": "5dbe92c8-7815-4172-ba5b-cf0b46450156",
   "metadata": {},
   "source": [
    "# Panel F"
   ]
  },
  {
   "cell_type": "code",
   "execution_count": null,
   "id": "e1c761fa-af4d-4d1f-a8fb-47b5711e2a40",
   "metadata": {},
   "outputs": [],
   "source": [
    "pF <- ggplot(plt_df_positions, aes(x = x, y = y)) +\n",
    "    stat_density_2d(aes(fill = after_stat(density)), geom = \"raster\", contour = FALSE) +\n",
    "    scale_x_continuous(expand = expansion(mult = c(0, 0))) +\n",
    "    scale_y_reverse(expand = expansion(mult = c(0, 0))) + # y is up to down\n",
    "    scale_fill_distiller(palette = \"RdBu\") +\n",
    "    facet_wrap(\n",
    "        ~ test_strain,\n",
    "        ncol = 1\n",
    "    ) +\n",
    "    theme_cowplot(15) +\n",
    "    theme(\n",
    "        axis.line = element_blank(),\n",
    "        strip.background = element_blank(),\n",
    "        panel.background = element_rect(fill = \"gray\"),\n",
    "        legend.position = \"right\",\n",
    "        legend.text = element_text(size = 9),\n",
    "        axis.title.x = element_text(margin = margin(t = 4)),\n",
    "        axis.title.y = element_text(margin = margin(r = 10)),\n",
    "        axis.text = element_text(size = 9),\n",
    "        legend.title = element_text(size = 13, margin = margin(b = 20))\n",
    "    ) +\n",
    "    labs(y = \"Position y (px)\", x = \"Position x (px)\", fill = \"Density\")"
   ]
  },
  {
   "cell_type": "code",
   "execution_count": null,
   "id": "9aefffb0-feae-42e4-a0ac-2c21b4fdf5b4",
   "metadata": {},
   "outputs": [],
   "source": [
    "options(repr.plot.width = 3, repr.plot.height = 8)\n",
    "pF"
   ]
  },
  {
   "cell_type": "markdown",
   "id": "212e48b1-82f3-46c3-9680-bffd9cb94059",
   "metadata": {},
   "source": [
    "# DEF panel"
   ]
  },
  {
   "cell_type": "code",
   "execution_count": null,
   "id": "1d7ed7ae-12ae-4d55-b01f-a55b7076625d",
   "metadata": {},
   "outputs": [],
   "source": [
    "pDEF <- plot_grid(\n",
    "    pD, pE_alt, pF,\n",
    "    nrow = 1,\n",
    "    rel_widths = c(5, 6, 3),\n",
    "    align = \"h\",\n",
    "    axis = \"tb\",\n",
    "    labels = c(\"D\", \"E\", \"F\"),\n",
    "    label_x = c(0, 0.2, 0)\n",
    ")"
   ]
  },
  {
   "cell_type": "code",
   "execution_count": null,
   "id": "6a0771ea-4501-46e6-92ce-fda5b6a567b7",
   "metadata": {},
   "outputs": [],
   "source": [
    "options(repr.plot.width = 14, repr.plot.height = 8)\n",
    "pDEF"
   ]
  },
  {
   "cell_type": "code",
   "execution_count": null,
   "id": "831e84d0-bb40-4879-9675-424f673e22d5",
   "metadata": {},
   "outputs": [],
   "source": [
    "title_DEF <- ggdraw() + \n",
    "  draw_label(\n",
    "    \"Novel object assay\",\n",
    "    fontface = 'bold',\n",
    "    x = 0.5,\n",
    "    hjust = 0.5,\n",
    "    size = 18\n",
    "  ) +\n",
    "  theme(\n",
    "    # add margin on the left of the drawing canvas,\n",
    "    # so title is aligned with left edge of first plot\n",
    "    plot.margin = margin(0, 0, 0, 7)\n",
    "  )"
   ]
  },
  {
   "cell_type": "code",
   "execution_count": null,
   "id": "078f7250-6107-41ea-b26d-3a3597677712",
   "metadata": {},
   "outputs": [],
   "source": [
    "options(repr.plot.width = 14, repr.plot.height = 0.5)\n",
    "title_DEF"
   ]
  },
  {
   "cell_type": "code",
   "execution_count": null,
   "id": "914753e2-9d6c-4e0b-9308-e2ce0e0ceb35",
   "metadata": {},
   "outputs": [],
   "source": [
    "pDEF_title <- plot_grid(\n",
    "    title_DEF,\n",
    "    pDEF,\n",
    "    rel_heights = c(0.5, 8.5),\n",
    "    ncol = 1\n",
    ")"
   ]
  },
  {
   "cell_type": "code",
   "execution_count": null,
   "id": "9c1a76aa-cb54-445b-b78d-a11d4d10ebc0",
   "metadata": {},
   "outputs": [],
   "source": [
    "options(repr.plot.width = 14, repr.plot.height = 9)\n",
    "pDEF_title"
   ]
  },
  {
   "cell_type": "markdown",
   "id": "9ab77e26-ba71-48d6-86a9-a7f72f344d83",
   "metadata": {},
   "source": [
    "# Final"
   ]
  },
  {
   "cell_type": "code",
   "execution_count": null,
   "id": "416c52bd-2081-4db7-ba29-4696e722365b",
   "metadata": {},
   "outputs": [],
   "source": [
    "p <- plot_grid(pABC_title, pDEF_title, ncol = 1)"
   ]
  },
  {
   "cell_type": "code",
   "execution_count": null,
   "id": "3fd0f67f-793c-4c82-add3-caa399a1ec7d",
   "metadata": {},
   "outputs": [],
   "source": [
    "options(repr.plot.width = 14, repr.plot.height = 18)\n",
    "p"
   ]
  },
  {
   "cell_type": "code",
   "execution_count": null,
   "id": "96f5fb4c-7a84-43f3-a44d-74815ce3a2b8",
   "metadata": {},
   "outputs": [],
   "source": [
    "ggsave(\"fig5.pdf\", p, width = 14, height = 18)"
   ]
  }
 ],
 "metadata": {
  "kernelspec": {
   "display_name": "r_data_science",
   "language": "R",
   "name": "r_data_science"
  },
  "language_info": {
   "codemirror_mode": "r",
   "file_extension": ".r",
   "mimetype": "text/x-r-source",
   "name": "R",
   "pygments_lexer": "r",
   "version": "4.3.3"
  }
 },
 "nbformat": 4,
 "nbformat_minor": 5
}
