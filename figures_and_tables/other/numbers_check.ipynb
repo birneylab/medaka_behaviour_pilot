{
 "cells": [
  {
   "cell_type": "code",
   "execution_count": 3,
   "id": "98632d1f-a087-49e7-a923-e8dd4a0dbd94",
   "metadata": {},
   "outputs": [],
   "source": [
    "library(\"tidyverse\")\n",
    "library(\"data.table\")"
   ]
  },
  {
   "cell_type": "markdown",
   "id": "b7a41fd9-b15f-4f14-b613-6322dc2c7f70",
   "metadata": {},
   "source": [
    "# Fish numbers"
   ]
  },
  {
   "cell_type": "code",
   "execution_count": 6,
   "id": "b5895a5d-2c93-4d44-b18f-7aa39051717a",
   "metadata": {},
   "outputs": [],
   "source": [
    "df <- fread(\"/nfs/research/birney/users/saul/nextflow/medaka_behaviour_pilot/hmm/time_step0.08_n_states15_hmm.csv.gz\")"
   ]
  },
  {
   "cell_type": "code",
   "execution_count": 7,
   "id": "ffe6203d-37bb-4626-bd19-3fdd69b51e10",
   "metadata": {},
   "outputs": [],
   "source": [
    "ids <- df[, unique(id)]"
   ]
  },
  {
   "cell_type": "code",
   "execution_count": 8,
   "id": "f946bf8e-00ea-4634-b928-497b971b2f1a",
   "metadata": {},
   "outputs": [],
   "source": [
    "pairs <- str_remove(ids, \"_q.\") |> str_remove(\"_(L|R)\") |> str_remove(\"^[0-9]*_[0-9]*_\") |> table()"
   ]
  },
  {
   "cell_type": "code",
   "execution_count": 9,
   "id": "a26d6114-f293-4691-b689-979a70ecd773",
   "metadata": {},
   "outputs": [
    {
     "data": {
      "text/plain": [
       "\n",
       "  icab_hdr_no_ref  icab_hdr_no_test   icab_hdr_of_ref  icab_hdr_of_test \n",
       "               60                60                60                60 \n",
       "  icab_hni_no_ref  icab_hni_no_test   icab_hni_of_ref  icab_hni_of_test \n",
       "               76                76                76                76 \n",
       "  icab_ho5_no_ref  icab_ho5_no_test   icab_ho5_of_ref  icab_ho5_of_test \n",
       "               56                56                56                56 \n",
       " icab_icab_no_ref icab_icab_no_test  icab_icab_of_ref icab_icab_of_test \n",
       "               68                68                68                68 \n",
       " icab_kaga_no_ref icab_kaga_no_test  icab_kaga_of_ref icab_kaga_of_test \n",
       "               47                47                47                47 "
      ]
     },
     "metadata": {},
     "output_type": "display_data"
    }
   ],
   "source": [
    "pairs"
   ]
  },
  {
   "cell_type": "code",
   "execution_count": 10,
   "id": "1926504f-6845-4698-af8e-9546838d40cf",
   "metadata": {},
   "outputs": [
    {
     "data": {
      "text/plain": [
       "\n",
       " icab_hdr_of_ref  icab_hni_of_ref  icab_ho5_of_ref icab_icab_of_ref \n",
       "              60               76               56               68 \n",
       "icab_kaga_of_ref \n",
       "              47 "
      ]
     },
     "metadata": {},
     "output_type": "display_data"
    }
   ],
   "source": [
    "pairs[grepl(\"of_ref\", names(pairs))]"
   ]
  },
  {
   "cell_type": "code",
   "execution_count": 24,
   "id": "cd77cdfc-f471-4774-b1da-97545d9b68be",
   "metadata": {},
   "outputs": [
    {
     "data": {
      "text/plain": [
       "\n",
       " icab_hdr_no_ref  icab_hni_no_ref  icab_ho5_no_ref icab_icab_no_ref \n",
       "              60               76               56               68 \n",
       "icab_kaga_no_ref \n",
       "              47 "
      ]
     },
     "metadata": {},
     "output_type": "display_data"
    }
   ],
   "source": [
    "pairs[grepl(\"no_ref\", names(pairs))]"
   ]
  },
  {
   "cell_type": "markdown",
   "id": "c7d2f6e5-1f5c-431c-96c9-145131a5a454",
   "metadata": {},
   "source": [
    "# Tracking accuracy"
   ]
  },
  {
   "cell_type": "code",
   "execution_count": 2,
   "id": "e2813349-6313-4978-b1c9-46db3e0ec7d9",
   "metadata": {},
   "outputs": [],
   "source": [
    "f_list <- list.files(\"/lts/research/birney/users/saul/nextflow/medaka_behaviour_pilot/trajectories_csv/\", full.names = TRUE)"
   ]
  },
  {
   "cell_type": "code",
   "execution_count": 3,
   "id": "deb39efa-d5b2-4d73-b32d-161e96710f89",
   "metadata": {},
   "outputs": [],
   "source": [
    "df <- lapply(\n",
    "    f_list,\n",
    "    function(f){\n",
    "        fread(f)[, id := str_remove(basename(f), \"_traj_(with_identities)?.csv.gz\")]\n",
    "    }\n",
    ") |> rbindlist(use.names = TRUE, fill = TRUE)"
   ]
  },
  {
   "cell_type": "code",
   "execution_count": 4,
   "id": "7ee7db1c-3d7f-431d-9fa1-6cdb8a074281",
   "metadata": {},
   "outputs": [],
   "source": [
    "df <- df[, .(frame = 1:.N, ref_x, ref_y, test_x, test_y), by = id]"
   ]
  },
  {
   "cell_type": "code",
   "execution_count": 5,
   "id": "43121987-b559-488c-afb6-e69730a694f2",
   "metadata": {},
   "outputs": [],
   "source": [
    "df <- melt(df, id.vars = c(\"id\", \"frame\"))"
   ]
  },
  {
   "cell_type": "code",
   "execution_count": 6,
   "id": "d24e5a53-eaf0-4c3f-886e-d59cad5c1bc4",
   "metadata": {},
   "outputs": [],
   "source": [
    "df[, fish := str_remove(variable, \"_(x|y)\")]\n",
    "df[, variable := str_remove(variable, \"(ref|test)_\")]"
   ]
  },
  {
   "cell_type": "code",
   "execution_count": 7,
   "id": "ff662bfc-20d1-451d-a2ff-2c95b95e0b1c",
   "metadata": {},
   "outputs": [],
   "source": [
    "df <- dcast(df, id + frame + fish ~ variable, value.var = \"value\")"
   ]
  },
  {
   "cell_type": "code",
   "execution_count": 8,
   "id": "e1f485bd-e00e-4391-a9c6-2b3cde5d0e2a",
   "metadata": {},
   "outputs": [],
   "source": [
    "summary <- df[, .(tracked_fraction = mean(!is.na(x) & !is.na(y))), by = c(\"id\", \"fish\")]\n",
    "remove(df)"
   ]
  },
  {
   "cell_type": "code",
   "execution_count": 9,
   "id": "0d84f587-e501-4dd7-a632-3b177f363665",
   "metadata": {},
   "outputs": [
    {
     "data": {
      "text/html": [
       "0.780055555555556"
      ],
      "text/latex": [
       "0.780055555555556"
      ],
      "text/markdown": [
       "0.780055555555556"
      ],
      "text/plain": [
       "[1] 0.7800556"
      ]
     },
     "metadata": {},
     "output_type": "display_data"
    }
   ],
   "source": [
    "summary[, min(tracked_fraction)]"
   ]
  },
  {
   "cell_type": "code",
   "execution_count": 11,
   "id": "319730eb-5f45-4644-8020-acfad6ba6950",
   "metadata": {},
   "outputs": [
    {
     "data": {
      "text/html": [
       "0.88029315960912"
      ],
      "text/latex": [
       "0.88029315960912"
      ],
      "text/markdown": [
       "0.88029315960912"
      ],
      "text/plain": [
       "[1] 0.8802932"
      ]
     },
     "metadata": {},
     "output_type": "display_data"
    }
   ],
   "source": [
    "summary[, mean(tracked_fraction >= 0.99)]"
   ]
  }
 ],
 "metadata": {
  "kernelspec": {
   "display_name": "r_data_science",
   "language": "R",
   "name": "r_data_science"
  },
  "language_info": {
   "codemirror_mode": "r",
   "file_extension": ".r",
   "mimetype": "text/x-r-source",
   "name": "R",
   "pygments_lexer": "r",
   "version": "4.3.3"
  }
 },
 "nbformat": 4,
 "nbformat_minor": 5
}
