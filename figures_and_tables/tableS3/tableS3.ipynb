{
 "cells": [
  {
   "cell_type": "code",
   "execution_count": 1,
   "id": "5cab1853-cb25-40f6-8da1-27d6d3359f7e",
   "metadata": {
    "scrolled": true
   },
   "outputs": [
    {
     "name": "stderr",
     "output_type": "stream",
     "text": [
      "── \u001b[1mAttaching core tidyverse packages\u001b[22m ──────────────────────── tidyverse 2.0.0 ──\n",
      "\u001b[32m✔\u001b[39m \u001b[34mdplyr    \u001b[39m 1.1.4     \u001b[32m✔\u001b[39m \u001b[34mreadr    \u001b[39m 2.1.5\n",
      "\u001b[32m✔\u001b[39m \u001b[34mforcats  \u001b[39m 1.0.0     \u001b[32m✔\u001b[39m \u001b[34mstringr  \u001b[39m 1.5.1\n",
      "\u001b[32m✔\u001b[39m \u001b[34mggplot2  \u001b[39m 3.5.1     \u001b[32m✔\u001b[39m \u001b[34mtibble   \u001b[39m 3.2.1\n",
      "\u001b[32m✔\u001b[39m \u001b[34mlubridate\u001b[39m 1.9.3     \u001b[32m✔\u001b[39m \u001b[34mtidyr    \u001b[39m 1.3.1\n",
      "\u001b[32m✔\u001b[39m \u001b[34mpurrr    \u001b[39m 1.0.2     \n",
      "── \u001b[1mConflicts\u001b[22m ────────────────────────────────────────── tidyverse_conflicts() ──\n",
      "\u001b[31m✖\u001b[39m \u001b[34mdplyr\u001b[39m::\u001b[32mfilter()\u001b[39m masks \u001b[34mstats\u001b[39m::filter()\n",
      "\u001b[31m✖\u001b[39m \u001b[34mdplyr\u001b[39m::\u001b[32mlag()\u001b[39m    masks \u001b[34mstats\u001b[39m::lag()\n",
      "\u001b[36mℹ\u001b[39m Use the conflicted package (\u001b[3m\u001b[34m<http://conflicted.r-lib.org/>\u001b[39m\u001b[23m) to force all conflicts to become errors\n",
      "\n",
      "Attaching package: ‘data.table’\n",
      "\n",
      "\n",
      "The following objects are masked from ‘package:lubridate’:\n",
      "\n",
      "    hour, isoweek, mday, minute, month, quarter, second, wday, week,\n",
      "    yday, year\n",
      "\n",
      "\n",
      "The following objects are masked from ‘package:dplyr’:\n",
      "\n",
      "    between, first, last\n",
      "\n",
      "\n",
      "The following object is masked from ‘package:purrr’:\n",
      "\n",
      "    transpose\n",
      "\n",
      "\n",
      "\n",
      "Attaching package: ‘cowplot’\n",
      "\n",
      "\n",
      "The following object is masked from ‘package:lubridate’:\n",
      "\n",
      "    stamp\n",
      "\n",
      "\n"
     ]
    }
   ],
   "source": [
    "library(\"tidyverse\")\n",
    "library(\"data.table\")\n",
    "library(\"cowplot\")\n",
    "library(\"ggh4x\")\n",
    "library(\"ggrastr\")"
   ]
  },
  {
   "cell_type": "code",
   "execution_count": 3,
   "id": "638993e7-49e7-450c-ace3-65ea03dda287",
   "metadata": {},
   "outputs": [
    {
     "data": {
      "text/html": [
       "<table class=\"dataframe\">\n",
       "<caption>A data.table: 6 × 15</caption>\n",
       "<thead>\n",
       "\t<tr><th scope=col>hmm_state</th><th scope=col>mean_dist</th><th scope=col>id</th><th scope=col>date</th><th scope=col>time_string</th><th scope=col>ref_strain</th><th scope=col>test_strain</th><th scope=col>tank_side</th><th scope=col>assay</th><th scope=col>quadrant</th><th scope=col>fish_type</th><th scope=col>frame_n</th><th scope=col>time_s</th><th scope=col>distance</th><th scope=col>angle</th></tr>\n",
       "\t<tr><th scope=col>&lt;dbl&gt;</th><th scope=col>&lt;dbl&gt;</th><th scope=col>&lt;chr&gt;</th><th scope=col>&lt;chr&gt;</th><th scope=col>&lt;chr&gt;</th><th scope=col>&lt;chr&gt;</th><th scope=col>&lt;fct&gt;</th><th scope=col>&lt;chr&gt;</th><th scope=col>&lt;chr&gt;</th><th scope=col>&lt;chr&gt;</th><th scope=col>&lt;chr&gt;</th><th scope=col>&lt;int&gt;</th><th scope=col>&lt;dbl&gt;</th><th scope=col>&lt;dbl&gt;</th><th scope=col>&lt;dbl&gt;</th></tr>\n",
       "</thead>\n",
       "<tbody>\n",
       "\t<tr><td>6</td><td>0.1005448</td><td>20190611_1331_icab_icab_R_no_q1_ref</td><td>20190611</td><td>1331</td><td>icab</td><td>iCab</td><td>R</td><td>no</td><td>q1</td><td>ref</td><td> 757</td><td>25.23333</td><td>0.2083191</td><td> 0.0000000</td></tr>\n",
       "\t<tr><td>6</td><td>0.1005448</td><td>20190611_1331_icab_icab_R_no_q1_ref</td><td>20190611</td><td>1331</td><td>icab</td><td>iCab</td><td>R</td><td>no</td><td>q1</td><td>ref</td><td> 761</td><td>25.36667</td><td>0.4425455</td><td> 0.0000000</td></tr>\n",
       "\t<tr><td>6</td><td>0.1005448</td><td>20190611_1331_icab_icab_R_no_q1_ref</td><td>20190611</td><td>1331</td><td>icab</td><td>iCab</td><td>R</td><td>no</td><td>q1</td><td>ref</td><td>1755</td><td>58.50000</td><td>1.2756671</td><td>-0.4597774</td></tr>\n",
       "\t<tr><td>6</td><td>0.1005448</td><td>20190611_1331_icab_icab_R_no_q1_ref</td><td>20190611</td><td>1331</td><td>icab</td><td>iCab</td><td>R</td><td>no</td><td>q1</td><td>ref</td><td>1779</td><td>59.30000</td><td>1.3794776</td><td>-0.1900450</td></tr>\n",
       "\t<tr><td>6</td><td>0.1005448</td><td>20190611_1331_icab_icab_R_no_q1_ref</td><td>20190611</td><td>1331</td><td>icab</td><td>iCab</td><td>R</td><td>no</td><td>q1</td><td>ref</td><td>1781</td><td>59.36667</td><td>1.3745458</td><td>-0.3463498</td></tr>\n",
       "\t<tr><td>6</td><td>0.1005448</td><td>20190611_1331_icab_icab_R_no_q1_ref</td><td>20190611</td><td>1331</td><td>icab</td><td>iCab</td><td>R</td><td>no</td><td>q1</td><td>ref</td><td>1787</td><td>59.56667</td><td>1.4936201</td><td>-0.3414281</td></tr>\n",
       "</tbody>\n",
       "</table>\n"
      ],
      "text/latex": [
       "A data.table: 6 × 15\n",
       "\\begin{tabular}{lllllllllllllll}\n",
       " hmm\\_state & mean\\_dist & id & date & time\\_string & ref\\_strain & test\\_strain & tank\\_side & assay & quadrant & fish\\_type & frame\\_n & time\\_s & distance & angle\\\\\n",
       " <dbl> & <dbl> & <chr> & <chr> & <chr> & <chr> & <fct> & <chr> & <chr> & <chr> & <chr> & <int> & <dbl> & <dbl> & <dbl>\\\\\n",
       "\\hline\n",
       "\t 6 & 0.1005448 & 20190611\\_1331\\_icab\\_icab\\_R\\_no\\_q1\\_ref & 20190611 & 1331 & icab & iCab & R & no & q1 & ref &  757 & 25.23333 & 0.2083191 &  0.0000000\\\\\n",
       "\t 6 & 0.1005448 & 20190611\\_1331\\_icab\\_icab\\_R\\_no\\_q1\\_ref & 20190611 & 1331 & icab & iCab & R & no & q1 & ref &  761 & 25.36667 & 0.4425455 &  0.0000000\\\\\n",
       "\t 6 & 0.1005448 & 20190611\\_1331\\_icab\\_icab\\_R\\_no\\_q1\\_ref & 20190611 & 1331 & icab & iCab & R & no & q1 & ref & 1755 & 58.50000 & 1.2756671 & -0.4597774\\\\\n",
       "\t 6 & 0.1005448 & 20190611\\_1331\\_icab\\_icab\\_R\\_no\\_q1\\_ref & 20190611 & 1331 & icab & iCab & R & no & q1 & ref & 1779 & 59.30000 & 1.3794776 & -0.1900450\\\\\n",
       "\t 6 & 0.1005448 & 20190611\\_1331\\_icab\\_icab\\_R\\_no\\_q1\\_ref & 20190611 & 1331 & icab & iCab & R & no & q1 & ref & 1781 & 59.36667 & 1.3745458 & -0.3463498\\\\\n",
       "\t 6 & 0.1005448 & 20190611\\_1331\\_icab\\_icab\\_R\\_no\\_q1\\_ref & 20190611 & 1331 & icab & iCab & R & no & q1 & ref & 1787 & 59.56667 & 1.4936201 & -0.3414281\\\\\n",
       "\\end{tabular}\n"
      ],
      "text/markdown": [
       "\n",
       "A data.table: 6 × 15\n",
       "\n",
       "| hmm_state &lt;dbl&gt; | mean_dist &lt;dbl&gt; | id &lt;chr&gt; | date &lt;chr&gt; | time_string &lt;chr&gt; | ref_strain &lt;chr&gt; | test_strain &lt;fct&gt; | tank_side &lt;chr&gt; | assay &lt;chr&gt; | quadrant &lt;chr&gt; | fish_type &lt;chr&gt; | frame_n &lt;int&gt; | time_s &lt;dbl&gt; | distance &lt;dbl&gt; | angle &lt;dbl&gt; |\n",
       "|---|---|---|---|---|---|---|---|---|---|---|---|---|---|---|\n",
       "| 6 | 0.1005448 | 20190611_1331_icab_icab_R_no_q1_ref | 20190611 | 1331 | icab | iCab | R | no | q1 | ref |  757 | 25.23333 | 0.2083191 |  0.0000000 |\n",
       "| 6 | 0.1005448 | 20190611_1331_icab_icab_R_no_q1_ref | 20190611 | 1331 | icab | iCab | R | no | q1 | ref |  761 | 25.36667 | 0.4425455 |  0.0000000 |\n",
       "| 6 | 0.1005448 | 20190611_1331_icab_icab_R_no_q1_ref | 20190611 | 1331 | icab | iCab | R | no | q1 | ref | 1755 | 58.50000 | 1.2756671 | -0.4597774 |\n",
       "| 6 | 0.1005448 | 20190611_1331_icab_icab_R_no_q1_ref | 20190611 | 1331 | icab | iCab | R | no | q1 | ref | 1779 | 59.30000 | 1.3794776 | -0.1900450 |\n",
       "| 6 | 0.1005448 | 20190611_1331_icab_icab_R_no_q1_ref | 20190611 | 1331 | icab | iCab | R | no | q1 | ref | 1781 | 59.36667 | 1.3745458 | -0.3463498 |\n",
       "| 6 | 0.1005448 | 20190611_1331_icab_icab_R_no_q1_ref | 20190611 | 1331 | icab | iCab | R | no | q1 | ref | 1787 | 59.56667 | 1.4936201 | -0.3414281 |\n",
       "\n"
      ],
      "text/plain": [
       "  hmm_state mean_dist id                                  date     time_string\n",
       "1 6         0.1005448 20190611_1331_icab_icab_R_no_q1_ref 20190611 1331       \n",
       "2 6         0.1005448 20190611_1331_icab_icab_R_no_q1_ref 20190611 1331       \n",
       "3 6         0.1005448 20190611_1331_icab_icab_R_no_q1_ref 20190611 1331       \n",
       "4 6         0.1005448 20190611_1331_icab_icab_R_no_q1_ref 20190611 1331       \n",
       "5 6         0.1005448 20190611_1331_icab_icab_R_no_q1_ref 20190611 1331       \n",
       "6 6         0.1005448 20190611_1331_icab_icab_R_no_q1_ref 20190611 1331       \n",
       "  ref_strain test_strain tank_side assay quadrant fish_type frame_n time_s  \n",
       "1 icab       iCab        R         no    q1       ref        757    25.23333\n",
       "2 icab       iCab        R         no    q1       ref        761    25.36667\n",
       "3 icab       iCab        R         no    q1       ref       1755    58.50000\n",
       "4 icab       iCab        R         no    q1       ref       1779    59.30000\n",
       "5 icab       iCab        R         no    q1       ref       1781    59.36667\n",
       "6 icab       iCab        R         no    q1       ref       1787    59.56667\n",
       "  distance  angle     \n",
       "1 0.2083191  0.0000000\n",
       "2 0.4425455  0.0000000\n",
       "3 1.2756671 -0.4597774\n",
       "4 1.3794776 -0.1900450\n",
       "5 1.3745458 -0.3463498\n",
       "6 1.4936201 -0.3414281"
      ]
     },
     "metadata": {},
     "output_type": "display_data"
    }
   ],
   "source": [
    "df <- fread(\"/nfs/research/birney/users/saul/nextflow/medaka_behaviour_pilot/hmm/time_step0.08_n_states15_hmm.csv.gz\")\n",
    "df[, mean_dist := log10(mean(distance)), by = hmm_state]\n",
    "tmp <- df[, .(hmm_state, mean_dist)] |> distinct() |> as.data.table()\n",
    "tmp[, hmm_state_recoded := rank(mean_dist)]\n",
    "df <- merge(df, tmp, by = c(\"hmm_state\", \"mean_dist\"))\n",
    "df[, hmm_state := hmm_state_recoded]\n",
    "df[, hmm_state_recoded := NULL]\n",
    "df <- df |>\n",
    "    separate(\n",
    "        id,\n",
    "        into = c(\"date\", \"time_string\", \"ref_strain\", \"test_strain\", \"tank_side\", \"assay\", \"quadrant\", \"fish_type\"),\n",
    "        sep = \"_\",\n",
    "        remove = FALSE\n",
    "    ) |>\n",
    "    as.data.table()\n",
    "df[, test_strain := fct_recode(test_strain, !!!strain_labels)]\n",
    "df[, test_strain := fct_relevel(test_strain, function(x){names(strain_labels)})]\n",
    "head(df)"
   ]
  },
  {
   "cell_type": "code",
   "execution_count": 4,
   "id": "d55b479c-0415-4990-bfad-03cb99fd0ef5",
   "metadata": {},
   "outputs": [],
   "source": [
    "run_kw <- function(the_state, the_assay, data){\n",
    "    fit <- kruskal.test(f ~ test_strain, data = data[assay == the_assay & hmm_state == the_state])\n",
    "    ret <- data.table(\n",
    "        assay = the_assay,\n",
    "        hmm_state = the_state,\n",
    "        pval = fit[[\"p.value\"]],\n",
    "        pval = fit[[\"p.value\"]]\n",
    "    )\n",
    "    return(ret)\n",
    "}"
   ]
  },
  {
   "cell_type": "code",
   "execution_count": 6,
   "id": "31955087-2c80-49f6-901e-d82e465f5750",
   "metadata": {},
   "outputs": [
    {
     "data": {
      "text/html": [
       "<table class=\"dataframe\">\n",
       "<caption>A data.table: 6 × 4</caption>\n",
       "<thead>\n",
       "\t<tr><th scope=col>test_strain</th><th scope=col>assay</th><th scope=col>hmm_state</th><th scope=col>f</th></tr>\n",
       "\t<tr><th scope=col>&lt;fct&gt;</th><th scope=col>&lt;chr&gt;</th><th scope=col>&lt;dbl&gt;</th><th scope=col>&lt;dbl&gt;</th></tr>\n",
       "</thead>\n",
       "<tbody>\n",
       "\t<tr><td>iCab</td><td>no</td><td>1</td><td>0.035341187</td></tr>\n",
       "\t<tr><td>iCab</td><td>no</td><td>4</td><td>0.015114470</td></tr>\n",
       "\t<tr><td>iCab</td><td>no</td><td>7</td><td>0.005779062</td></tr>\n",
       "\t<tr><td>iCab</td><td>no</td><td>2</td><td>0.006001334</td></tr>\n",
       "\t<tr><td>iCab</td><td>no</td><td>3</td><td>0.006668148</td></tr>\n",
       "\t<tr><td>iCab</td><td>no</td><td>6</td><td>0.007890642</td></tr>\n",
       "</tbody>\n",
       "</table>\n"
      ],
      "text/latex": [
       "A data.table: 6 × 4\n",
       "\\begin{tabular}{llll}\n",
       " test\\_strain & assay & hmm\\_state & f\\\\\n",
       " <fct> & <chr> & <dbl> & <dbl>\\\\\n",
       "\\hline\n",
       "\t iCab & no & 1 & 0.035341187\\\\\n",
       "\t iCab & no & 4 & 0.015114470\\\\\n",
       "\t iCab & no & 7 & 0.005779062\\\\\n",
       "\t iCab & no & 2 & 0.006001334\\\\\n",
       "\t iCab & no & 3 & 0.006668148\\\\\n",
       "\t iCab & no & 6 & 0.007890642\\\\\n",
       "\\end{tabular}\n"
      ],
      "text/markdown": [
       "\n",
       "A data.table: 6 × 4\n",
       "\n",
       "| test_strain &lt;fct&gt; | assay &lt;chr&gt; | hmm_state &lt;dbl&gt; | f &lt;dbl&gt; |\n",
       "|---|---|---|---|\n",
       "| iCab | no | 1 | 0.035341187 |\n",
       "| iCab | no | 4 | 0.015114470 |\n",
       "| iCab | no | 7 | 0.005779062 |\n",
       "| iCab | no | 2 | 0.006001334 |\n",
       "| iCab | no | 3 | 0.006668148 |\n",
       "| iCab | no | 6 | 0.007890642 |\n",
       "\n"
      ],
      "text/plain": [
       "  test_strain assay hmm_state f          \n",
       "1 iCab        no    1         0.035341187\n",
       "2 iCab        no    4         0.015114470\n",
       "3 iCab        no    7         0.005779062\n",
       "4 iCab        no    2         0.006001334\n",
       "5 iCab        no    3         0.006668148\n",
       "6 iCab        no    6         0.007890642"
      ]
     },
     "metadata": {},
     "output_type": "display_data"
    }
   ],
   "source": [
    "# NOTE: here we run each id independently differently from fig7!\n",
    "summ <- df[\n",
    "    , .(id = str_remove(id, \"_(ref|test)$\"), test_strain, fish_type, assay, frame_n, hmm_state)\n",
    "]\n",
    "summ <- dcast(summ, id + test_strain + assay + frame_n ~ fish_type, value.var = \"hmm_state\")[!is.na(test) & !is.na(ref)]\n",
    "summ <- summ[, .(n = .N), by = c(\"ref\", \"test\", \"test_strain\", \"assay\", \"id\")]\n",
    "summ <- summ[, .(test, ref, n, n_tot = sum(n)), by = c(\"test_strain\", \"assay\", \"id\")]\n",
    "summ[, f := n/n_tot]\n",
    "summ <- summ[ref == test, .(test_strain, assay, hmm_state = test, f)]\n",
    "head(summ)"
   ]
  },
  {
   "cell_type": "code",
   "execution_count": 8,
   "id": "4cb3e894-29d8-49c6-a765-b6a8ab5c334b",
   "metadata": {},
   "outputs": [],
   "source": [
    "res <- c(\n",
    "    lapply(summ[, unique(hmm_state)], run_kw, the_assay = \"of\", data = summ),\n",
    "    lapply(summ[, unique(hmm_state)], run_kw, the_assay = \"no\", data = summ)\n",
    ") |>\n",
    "    rbindlist()"
   ]
  },
  {
   "cell_type": "code",
   "execution_count": 9,
   "id": "1aefb774-9648-4815-b754-19dc07f64058",
   "metadata": {},
   "outputs": [],
   "source": [
    "res[, q := p.adjust(pval, method = \"fdr\")]\n",
    "res[, sig := q < 0.05]"
   ]
  },
  {
   "cell_type": "code",
   "execution_count": 10,
   "id": "5ab62e8d-6ae3-474e-b084-6e3ab1d2843f",
   "metadata": {},
   "outputs": [
    {
     "data": {
      "text/html": [
       "<table class=\"dataframe\">\n",
       "<caption>A data.table: 4 × 5</caption>\n",
       "<thead>\n",
       "\t<tr><th scope=col>sig</th><th scope=col>assay</th><th scope=col>n</th><th scope=col>min</th><th scope=col>max</th></tr>\n",
       "\t<tr><th scope=col>&lt;lgl&gt;</th><th scope=col>&lt;chr&gt;</th><th scope=col>&lt;int&gt;</th><th scope=col>&lt;dbl&gt;</th><th scope=col>&lt;dbl&gt;</th></tr>\n",
       "</thead>\n",
       "<tbody>\n",
       "\t<tr><td> TRUE</td><td>of</td><td> 7</td><td>1.68e-07</td><td>0.0483</td></tr>\n",
       "\t<tr><td>FALSE</td><td>of</td><td> 8</td><td>2.82e-01</td><td>0.7830</td></tr>\n",
       "\t<tr><td> TRUE</td><td>no</td><td> 5</td><td>2.54e-07</td><td>0.0483</td></tr>\n",
       "\t<tr><td>FALSE</td><td>no</td><td>10</td><td>9.10e-02</td><td>0.8800</td></tr>\n",
       "</tbody>\n",
       "</table>\n"
      ],
      "text/latex": [
       "A data.table: 4 × 5\n",
       "\\begin{tabular}{lllll}\n",
       " sig & assay & n & min & max\\\\\n",
       " <lgl> & <chr> & <int> & <dbl> & <dbl>\\\\\n",
       "\\hline\n",
       "\t  TRUE & of &  7 & 1.68e-07 & 0.0483\\\\\n",
       "\t FALSE & of &  8 & 2.82e-01 & 0.7830\\\\\n",
       "\t  TRUE & no &  5 & 2.54e-07 & 0.0483\\\\\n",
       "\t FALSE & no & 10 & 9.10e-02 & 0.8800\\\\\n",
       "\\end{tabular}\n"
      ],
      "text/markdown": [
       "\n",
       "A data.table: 4 × 5\n",
       "\n",
       "| sig &lt;lgl&gt; | assay &lt;chr&gt; | n &lt;int&gt; | min &lt;dbl&gt; | max &lt;dbl&gt; |\n",
       "|---|---|---|---|---|\n",
       "|  TRUE | of |  7 | 1.68e-07 | 0.0483 |\n",
       "| FALSE | of |  8 | 2.82e-01 | 0.7830 |\n",
       "|  TRUE | no |  5 | 2.54e-07 | 0.0483 |\n",
       "| FALSE | no | 10 | 9.10e-02 | 0.8800 |\n",
       "\n"
      ],
      "text/plain": [
       "  sig   assay n  min      max   \n",
       "1  TRUE of     7 1.68e-07 0.0483\n",
       "2 FALSE of     8 2.82e-01 0.7830\n",
       "3  TRUE no     5 2.54e-07 0.0483\n",
       "4 FALSE no    10 9.10e-02 0.8800"
      ]
     },
     "metadata": {},
     "output_type": "display_data"
    }
   ],
   "source": [
    "res[, .(n = .N, min = min(q) |> signif(3), max = max(q) |> signif(3)), by = c(\"sig\", \"assay\")]"
   ]
  },
  {
   "cell_type": "code",
   "execution_count": 18,
   "id": "e143da8c-049a-42e3-8b49-5c2d97267469",
   "metadata": {},
   "outputs": [
    {
     "data": {
      "text/html": [
       "<table class=\"dataframe\">\n",
       "<caption>A data.table: 30 × 3</caption>\n",
       "<thead>\n",
       "\t<tr><th scope=col>Assay component</th><th scope=col>HMM State</th><th scope=col>p-value (FDR-adjusted)</th></tr>\n",
       "\t<tr><th scope=col>&lt;chr&gt;</th><th scope=col>&lt;dbl&gt;</th><th scope=col>&lt;chr&gt;</th></tr>\n",
       "</thead>\n",
       "<tbody>\n",
       "\t<tr><td>Open field  </td><td> 1</td><td>1.68e-07</td></tr>\n",
       "\t<tr><td>Open field  </td><td> 2</td><td>1.30e-02</td></tr>\n",
       "\t<tr><td>Open field  </td><td> 3</td><td>8.03e-03</td></tr>\n",
       "\t<tr><td>Open field  </td><td> 4</td><td>7.98e-06</td></tr>\n",
       "\t<tr><td>Open field  </td><td> 5</td><td>6.85e-01</td></tr>\n",
       "\t<tr><td>Open field  </td><td> 6</td><td>5.42e-01</td></tr>\n",
       "\t<tr><td>Open field  </td><td> 7</td><td>1.30e-02</td></tr>\n",
       "\t<tr><td>Open field  </td><td> 8</td><td>2.82e-01</td></tr>\n",
       "\t<tr><td>Open field  </td><td> 9</td><td>3.69e-01</td></tr>\n",
       "\t<tr><td>Open field  </td><td>10</td><td>4.83e-02</td></tr>\n",
       "\t<tr><td>Open field  </td><td>11</td><td>2.82e-01</td></tr>\n",
       "\t<tr><td>Open field  </td><td>12</td><td>3.07e-01</td></tr>\n",
       "\t<tr><td>Open field  </td><td>13</td><td>7.30e-01</td></tr>\n",
       "\t<tr><td>Open field  </td><td>14</td><td>7.83e-01</td></tr>\n",
       "\t<tr><td>Open field  </td><td>15</td><td>1.30e-02</td></tr>\n",
       "\t<tr><td>Novel object</td><td> 1</td><td>2.54e-07</td></tr>\n",
       "\t<tr><td>Novel object</td><td> 2</td><td>1.30e-02</td></tr>\n",
       "\t<tr><td>Novel object</td><td> 3</td><td>4.83e-02</td></tr>\n",
       "\t<tr><td>Novel object</td><td> 4</td><td>4.79e-07</td></tr>\n",
       "\t<tr><td>Novel object</td><td> 5</td><td>9.10e-02</td></tr>\n",
       "\t<tr><td>Novel object</td><td> 6</td><td>9.10e-02</td></tr>\n",
       "\t<tr><td>Novel object</td><td> 7</td><td>8.03e-03</td></tr>\n",
       "\t<tr><td>Novel object</td><td> 8</td><td>7.76e-01</td></tr>\n",
       "\t<tr><td>Novel object</td><td> 9</td><td>9.10e-02</td></tr>\n",
       "\t<tr><td>Novel object</td><td>10</td><td>8.80e-01</td></tr>\n",
       "\t<tr><td>Novel object</td><td>11</td><td>7.54e-01</td></tr>\n",
       "\t<tr><td>Novel object</td><td>12</td><td>7.54e-01</td></tr>\n",
       "\t<tr><td>Novel object</td><td>13</td><td>7.76e-01</td></tr>\n",
       "\t<tr><td>Novel object</td><td>14</td><td>5.66e-01</td></tr>\n",
       "\t<tr><td>Novel object</td><td>15</td><td>3.64e-01</td></tr>\n",
       "</tbody>\n",
       "</table>\n"
      ],
      "text/latex": [
       "A data.table: 30 × 3\n",
       "\\begin{tabular}{lll}\n",
       " Assay component & HMM State & p-value (FDR-adjusted)\\\\\n",
       " <chr> & <dbl> & <chr>\\\\\n",
       "\\hline\n",
       "\t Open field   &  1 & 1.68e-07\\\\\n",
       "\t Open field   &  2 & 1.30e-02\\\\\n",
       "\t Open field   &  3 & 8.03e-03\\\\\n",
       "\t Open field   &  4 & 7.98e-06\\\\\n",
       "\t Open field   &  5 & 6.85e-01\\\\\n",
       "\t Open field   &  6 & 5.42e-01\\\\\n",
       "\t Open field   &  7 & 1.30e-02\\\\\n",
       "\t Open field   &  8 & 2.82e-01\\\\\n",
       "\t Open field   &  9 & 3.69e-01\\\\\n",
       "\t Open field   & 10 & 4.83e-02\\\\\n",
       "\t Open field   & 11 & 2.82e-01\\\\\n",
       "\t Open field   & 12 & 3.07e-01\\\\\n",
       "\t Open field   & 13 & 7.30e-01\\\\\n",
       "\t Open field   & 14 & 7.83e-01\\\\\n",
       "\t Open field   & 15 & 1.30e-02\\\\\n",
       "\t Novel object &  1 & 2.54e-07\\\\\n",
       "\t Novel object &  2 & 1.30e-02\\\\\n",
       "\t Novel object &  3 & 4.83e-02\\\\\n",
       "\t Novel object &  4 & 4.79e-07\\\\\n",
       "\t Novel object &  5 & 9.10e-02\\\\\n",
       "\t Novel object &  6 & 9.10e-02\\\\\n",
       "\t Novel object &  7 & 8.03e-03\\\\\n",
       "\t Novel object &  8 & 7.76e-01\\\\\n",
       "\t Novel object &  9 & 9.10e-02\\\\\n",
       "\t Novel object & 10 & 8.80e-01\\\\\n",
       "\t Novel object & 11 & 7.54e-01\\\\\n",
       "\t Novel object & 12 & 7.54e-01\\\\\n",
       "\t Novel object & 13 & 7.76e-01\\\\\n",
       "\t Novel object & 14 & 5.66e-01\\\\\n",
       "\t Novel object & 15 & 3.64e-01\\\\\n",
       "\\end{tabular}\n"
      ],
      "text/markdown": [
       "\n",
       "A data.table: 30 × 3\n",
       "\n",
       "| Assay component &lt;chr&gt; | HMM State &lt;dbl&gt; | p-value (FDR-adjusted) &lt;chr&gt; |\n",
       "|---|---|---|\n",
       "| Open field   |  1 | 1.68e-07 |\n",
       "| Open field   |  2 | 1.30e-02 |\n",
       "| Open field   |  3 | 8.03e-03 |\n",
       "| Open field   |  4 | 7.98e-06 |\n",
       "| Open field   |  5 | 6.85e-01 |\n",
       "| Open field   |  6 | 5.42e-01 |\n",
       "| Open field   |  7 | 1.30e-02 |\n",
       "| Open field   |  8 | 2.82e-01 |\n",
       "| Open field   |  9 | 3.69e-01 |\n",
       "| Open field   | 10 | 4.83e-02 |\n",
       "| Open field   | 11 | 2.82e-01 |\n",
       "| Open field   | 12 | 3.07e-01 |\n",
       "| Open field   | 13 | 7.30e-01 |\n",
       "| Open field   | 14 | 7.83e-01 |\n",
       "| Open field   | 15 | 1.30e-02 |\n",
       "| Novel object |  1 | 2.54e-07 |\n",
       "| Novel object |  2 | 1.30e-02 |\n",
       "| Novel object |  3 | 4.83e-02 |\n",
       "| Novel object |  4 | 4.79e-07 |\n",
       "| Novel object |  5 | 9.10e-02 |\n",
       "| Novel object |  6 | 9.10e-02 |\n",
       "| Novel object |  7 | 8.03e-03 |\n",
       "| Novel object |  8 | 7.76e-01 |\n",
       "| Novel object |  9 | 9.10e-02 |\n",
       "| Novel object | 10 | 8.80e-01 |\n",
       "| Novel object | 11 | 7.54e-01 |\n",
       "| Novel object | 12 | 7.54e-01 |\n",
       "| Novel object | 13 | 7.76e-01 |\n",
       "| Novel object | 14 | 5.66e-01 |\n",
       "| Novel object | 15 | 3.64e-01 |\n",
       "\n"
      ],
      "text/plain": [
       "   Assay component HMM State p-value (FDR-adjusted)\n",
       "1  Open field       1        1.68e-07              \n",
       "2  Open field       2        1.30e-02              \n",
       "3  Open field       3        8.03e-03              \n",
       "4  Open field       4        7.98e-06              \n",
       "5  Open field       5        6.85e-01              \n",
       "6  Open field       6        5.42e-01              \n",
       "7  Open field       7        1.30e-02              \n",
       "8  Open field       8        2.82e-01              \n",
       "9  Open field       9        3.69e-01              \n",
       "10 Open field      10        4.83e-02              \n",
       "11 Open field      11        2.82e-01              \n",
       "12 Open field      12        3.07e-01              \n",
       "13 Open field      13        7.30e-01              \n",
       "14 Open field      14        7.83e-01              \n",
       "15 Open field      15        1.30e-02              \n",
       "16 Novel object     1        2.54e-07              \n",
       "17 Novel object     2        1.30e-02              \n",
       "18 Novel object     3        4.83e-02              \n",
       "19 Novel object     4        4.79e-07              \n",
       "20 Novel object     5        9.10e-02              \n",
       "21 Novel object     6        9.10e-02              \n",
       "22 Novel object     7        8.03e-03              \n",
       "23 Novel object     8        7.76e-01              \n",
       "24 Novel object     9        9.10e-02              \n",
       "25 Novel object    10        8.80e-01              \n",
       "26 Novel object    11        7.54e-01              \n",
       "27 Novel object    12        7.54e-01              \n",
       "28 Novel object    13        7.76e-01              \n",
       "29 Novel object    14        5.66e-01              \n",
       "30 Novel object    15        3.64e-01              "
      ]
     },
     "metadata": {},
     "output_type": "display_data"
    }
   ],
   "source": [
    "pretty_df <- res[\n",
    "    , .(\n",
    "        `Assay component` = ifelse(assay == \"of\", \"Open field\", \"Novel object\"),\n",
    "        `HMM State` = hmm_state,\n",
    "        `p-value (FDR-adjusted)` = signif(q, 3) |> format(scientific = TRUE)\n",
    "    )\n",
    "][order(`HMM State`), .SD, by = `Assay component`]\n",
    "\n",
    "pretty_df"
   ]
  },
  {
   "cell_type": "code",
   "execution_count": 19,
   "id": "63dfae9a-a6c2-449f-983f-7ad89b6b0751",
   "metadata": {},
   "outputs": [],
   "source": [
    "fwrite(pretty_df, \"tableS3.csv\")"
   ]
  }
 ],
 "metadata": {
  "kernelspec": {
   "display_name": "r_data_science",
   "language": "R",
   "name": "r_data_science"
  },
  "language_info": {
   "codemirror_mode": "r",
   "file_extension": ".r",
   "mimetype": "text/x-r-source",
   "name": "R",
   "pygments_lexer": "r",
   "version": "4.3.3"
  }
 },
 "nbformat": 4,
 "nbformat_minor": 5
}
