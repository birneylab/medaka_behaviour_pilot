{
 "cells": [
  {
   "cell_type": "code",
   "execution_count": 1,
   "id": "14cb6345-af05-4b2c-acb6-c9c2792d03fb",
   "metadata": {
    "scrolled": true
   },
   "outputs": [
    {
     "name": "stderr",
     "output_type": "stream",
     "text": [
      "── \u001b[1mAttaching core tidyverse packages\u001b[22m ──────────────────────── tidyverse 2.0.0 ──\n",
      "\u001b[32m✔\u001b[39m \u001b[34mdplyr    \u001b[39m 1.1.4     \u001b[32m✔\u001b[39m \u001b[34mreadr    \u001b[39m 2.1.5\n",
      "\u001b[32m✔\u001b[39m \u001b[34mforcats  \u001b[39m 1.0.0     \u001b[32m✔\u001b[39m \u001b[34mstringr  \u001b[39m 1.5.1\n",
      "\u001b[32m✔\u001b[39m \u001b[34mggplot2  \u001b[39m 3.5.1     \u001b[32m✔\u001b[39m \u001b[34mtibble   \u001b[39m 3.2.1\n",
      "\u001b[32m✔\u001b[39m \u001b[34mlubridate\u001b[39m 1.9.3     \u001b[32m✔\u001b[39m \u001b[34mtidyr    \u001b[39m 1.3.1\n",
      "\u001b[32m✔\u001b[39m \u001b[34mpurrr    \u001b[39m 1.0.2     \n",
      "── \u001b[1mConflicts\u001b[22m ────────────────────────────────────────── tidyverse_conflicts() ──\n",
      "\u001b[31m✖\u001b[39m \u001b[34mdplyr\u001b[39m::\u001b[32mfilter()\u001b[39m masks \u001b[34mstats\u001b[39m::filter()\n",
      "\u001b[31m✖\u001b[39m \u001b[34mdplyr\u001b[39m::\u001b[32mlag()\u001b[39m    masks \u001b[34mstats\u001b[39m::lag()\n",
      "\u001b[36mℹ\u001b[39m Use the conflicted package (\u001b[3m\u001b[34m<http://conflicted.r-lib.org/>\u001b[39m\u001b[23m) to force all conflicts to become errors\n",
      "\n",
      "Attaching package: ‘data.table’\n",
      "\n",
      "\n",
      "The following objects are masked from ‘package:lubridate’:\n",
      "\n",
      "    hour, isoweek, mday, minute, month, quarter, second, wday, week,\n",
      "    yday, year\n",
      "\n",
      "\n",
      "The following objects are masked from ‘package:dplyr’:\n",
      "\n",
      "    between, first, last\n",
      "\n",
      "\n",
      "The following object is masked from ‘package:purrr’:\n",
      "\n",
      "    transpose\n",
      "\n",
      "\n",
      "\n",
      "Attaching package: ‘cowplot’\n",
      "\n",
      "\n",
      "The following object is masked from ‘package:lubridate’:\n",
      "\n",
      "    stamp\n",
      "\n",
      "\n"
     ]
    }
   ],
   "source": [
    "library(\"tidyverse\")\n",
    "library(\"data.table\")\n",
    "library(\"cowplot\")"
   ]
  },
  {
   "cell_type": "code",
   "execution_count": 2,
   "id": "dccaddd9-84b6-4c0f-bbaf-e61ed4a98e9e",
   "metadata": {},
   "outputs": [],
   "source": [
    "invnorm <- function(x) {\n",
    "  res <- rank(x)\n",
    "  res <- qnorm(res/(length(res)+0.5))\n",
    "  return(res)\n",
    "}"
   ]
  },
  {
   "cell_type": "code",
   "execution_count": 3,
   "id": "1631e2c6-2487-42ae-a7a3-f09c94a5487c",
   "metadata": {},
   "outputs": [],
   "source": [
    "extract_info <- function(the_var, sst, data, the_assay, the_state) {\n",
    "    pval <- data[the_var, \"Pr(>F)\"]\n",
    "    ss <- data[\"test_strain\", \"Sum Sq\"]\n",
    "    var_exp <- ss/sst\n",
    "    ret <- data.table(assay = the_assay, var_name = the_var, hmm_state = the_state, pval = pval, var_exp = var_exp)\n",
    "}"
   ]
  },
  {
   "cell_type": "code",
   "execution_count": 4,
   "id": "c2ebfaf5-4c33-4075-aafd-f1e37c777b21",
   "metadata": {},
   "outputs": [],
   "source": [
    "run_anova <- function(the_state, the_assay, data){\n",
    "    fit <- lm(f_state_norm ~ date + time_numeric + tank_side + quadrant + test_strain, data = data[assay == the_assay & hmm_state == the_state])\n",
    "    res <- aov(fit) |> summary()\n",
    "    sst <- res[[1]][, \"Sum Sq\"] |> sum()\n",
    "    ret <- lapply(\n",
    "        rownames(res[[1]]) |> trimws(), \n",
    "        extract_info,\n",
    "        sst = sst,\n",
    "        data = res[[1]],\n",
    "        the_assay = the_assay,\n",
    "        the_state = the_state\n",
    "    ) |> rbindlist()\n",
    "    return(ret)\n",
    "}"
   ]
  },
  {
   "cell_type": "code",
   "execution_count": 5,
   "id": "1d506fb4-1374-4579-ab21-54576d216221",
   "metadata": {},
   "outputs": [
    {
     "data": {
      "text/html": [
       "<table class=\"dataframe\">\n",
       "<caption>A data.table: 6 × 8</caption>\n",
       "<thead>\n",
       "\t<tr><th scope=col>hmm_state</th><th scope=col>mean_dist</th><th scope=col>id</th><th scope=col>frame_n</th><th scope=col>time_s</th><th scope=col>distance</th><th scope=col>angle</th><th scope=col>hmm_state_recoded</th></tr>\n",
       "\t<tr><th scope=col>&lt;int&gt;</th><th scope=col>&lt;dbl&gt;</th><th scope=col>&lt;chr&gt;</th><th scope=col>&lt;int&gt;</th><th scope=col>&lt;dbl&gt;</th><th scope=col>&lt;dbl&gt;</th><th scope=col>&lt;dbl&gt;</th><th scope=col>&lt;dbl&gt;</th></tr>\n",
       "</thead>\n",
       "<tbody>\n",
       "\t<tr><td>0</td><td>0.1005448</td><td>20190611_1331_icab_icab_R_no_q1_ref</td><td> 757</td><td>25.23333</td><td>0.2083191</td><td> 0.0000000</td><td>6</td></tr>\n",
       "\t<tr><td>0</td><td>0.1005448</td><td>20190611_1331_icab_icab_R_no_q1_ref</td><td> 761</td><td>25.36667</td><td>0.4425455</td><td> 0.0000000</td><td>6</td></tr>\n",
       "\t<tr><td>0</td><td>0.1005448</td><td>20190611_1331_icab_icab_R_no_q1_ref</td><td>1755</td><td>58.50000</td><td>1.2756671</td><td>-0.4597774</td><td>6</td></tr>\n",
       "\t<tr><td>0</td><td>0.1005448</td><td>20190611_1331_icab_icab_R_no_q1_ref</td><td>1779</td><td>59.30000</td><td>1.3794776</td><td>-0.1900450</td><td>6</td></tr>\n",
       "\t<tr><td>0</td><td>0.1005448</td><td>20190611_1331_icab_icab_R_no_q1_ref</td><td>1781</td><td>59.36667</td><td>1.3745458</td><td>-0.3463498</td><td>6</td></tr>\n",
       "\t<tr><td>0</td><td>0.1005448</td><td>20190611_1331_icab_icab_R_no_q1_ref</td><td>1787</td><td>59.56667</td><td>1.4936201</td><td>-0.3414281</td><td>6</td></tr>\n",
       "</tbody>\n",
       "</table>\n"
      ],
      "text/latex": [
       "A data.table: 6 × 8\n",
       "\\begin{tabular}{llllllll}\n",
       " hmm\\_state & mean\\_dist & id & frame\\_n & time\\_s & distance & angle & hmm\\_state\\_recoded\\\\\n",
       " <int> & <dbl> & <chr> & <int> & <dbl> & <dbl> & <dbl> & <dbl>\\\\\n",
       "\\hline\n",
       "\t 0 & 0.1005448 & 20190611\\_1331\\_icab\\_icab\\_R\\_no\\_q1\\_ref &  757 & 25.23333 & 0.2083191 &  0.0000000 & 6\\\\\n",
       "\t 0 & 0.1005448 & 20190611\\_1331\\_icab\\_icab\\_R\\_no\\_q1\\_ref &  761 & 25.36667 & 0.4425455 &  0.0000000 & 6\\\\\n",
       "\t 0 & 0.1005448 & 20190611\\_1331\\_icab\\_icab\\_R\\_no\\_q1\\_ref & 1755 & 58.50000 & 1.2756671 & -0.4597774 & 6\\\\\n",
       "\t 0 & 0.1005448 & 20190611\\_1331\\_icab\\_icab\\_R\\_no\\_q1\\_ref & 1779 & 59.30000 & 1.3794776 & -0.1900450 & 6\\\\\n",
       "\t 0 & 0.1005448 & 20190611\\_1331\\_icab\\_icab\\_R\\_no\\_q1\\_ref & 1781 & 59.36667 & 1.3745458 & -0.3463498 & 6\\\\\n",
       "\t 0 & 0.1005448 & 20190611\\_1331\\_icab\\_icab\\_R\\_no\\_q1\\_ref & 1787 & 59.56667 & 1.4936201 & -0.3414281 & 6\\\\\n",
       "\\end{tabular}\n"
      ],
      "text/markdown": [
       "\n",
       "A data.table: 6 × 8\n",
       "\n",
       "| hmm_state &lt;int&gt; | mean_dist &lt;dbl&gt; | id &lt;chr&gt; | frame_n &lt;int&gt; | time_s &lt;dbl&gt; | distance &lt;dbl&gt; | angle &lt;dbl&gt; | hmm_state_recoded &lt;dbl&gt; |\n",
       "|---|---|---|---|---|---|---|---|\n",
       "| 0 | 0.1005448 | 20190611_1331_icab_icab_R_no_q1_ref |  757 | 25.23333 | 0.2083191 |  0.0000000 | 6 |\n",
       "| 0 | 0.1005448 | 20190611_1331_icab_icab_R_no_q1_ref |  761 | 25.36667 | 0.4425455 |  0.0000000 | 6 |\n",
       "| 0 | 0.1005448 | 20190611_1331_icab_icab_R_no_q1_ref | 1755 | 58.50000 | 1.2756671 | -0.4597774 | 6 |\n",
       "| 0 | 0.1005448 | 20190611_1331_icab_icab_R_no_q1_ref | 1779 | 59.30000 | 1.3794776 | -0.1900450 | 6 |\n",
       "| 0 | 0.1005448 | 20190611_1331_icab_icab_R_no_q1_ref | 1781 | 59.36667 | 1.3745458 | -0.3463498 | 6 |\n",
       "| 0 | 0.1005448 | 20190611_1331_icab_icab_R_no_q1_ref | 1787 | 59.56667 | 1.4936201 | -0.3414281 | 6 |\n",
       "\n"
      ],
      "text/plain": [
       "  hmm_state mean_dist id                                  frame_n time_s  \n",
       "1 0         0.1005448 20190611_1331_icab_icab_R_no_q1_ref  757    25.23333\n",
       "2 0         0.1005448 20190611_1331_icab_icab_R_no_q1_ref  761    25.36667\n",
       "3 0         0.1005448 20190611_1331_icab_icab_R_no_q1_ref 1755    58.50000\n",
       "4 0         0.1005448 20190611_1331_icab_icab_R_no_q1_ref 1779    59.30000\n",
       "5 0         0.1005448 20190611_1331_icab_icab_R_no_q1_ref 1781    59.36667\n",
       "6 0         0.1005448 20190611_1331_icab_icab_R_no_q1_ref 1787    59.56667\n",
       "  distance  angle      hmm_state_recoded\n",
       "1 0.2083191  0.0000000 6                \n",
       "2 0.4425455  0.0000000 6                \n",
       "3 1.2756671 -0.4597774 6                \n",
       "4 1.3794776 -0.1900450 6                \n",
       "5 1.3745458 -0.3463498 6                \n",
       "6 1.4936201 -0.3414281 6                "
      ]
     },
     "metadata": {},
     "output_type": "display_data"
    }
   ],
   "source": [
    "df <- fread(\"/nfs/research/birney/users/saul/nextflow/medaka_behaviour_pilot/hmm/time_step0.08_n_states15_hmm.csv.gz\")\n",
    "df[, mean_dist := log10(mean(distance)), by = hmm_state]\n",
    "tmp <- df[, .(hmm_state, mean_dist)] |> distinct() |> as.data.table()\n",
    "tmp[, hmm_state_recoded := rank(mean_dist)]\n",
    "df <- merge(df, tmp, by = c(\"hmm_state\", \"mean_dist\"))\n",
    "head(df)"
   ]
  },
  {
   "cell_type": "code",
   "execution_count": 6,
   "id": "2120d3e4-181a-474a-b649-38d27681573f",
   "metadata": {},
   "outputs": [
    {
     "data": {
      "text/html": [
       "<table class=\"dataframe\">\n",
       "<caption>A data.table: 6 × 13</caption>\n",
       "<thead>\n",
       "\t<tr><th scope=col>id</th><th scope=col>date</th><th scope=col>time_string</th><th scope=col>ref_strain</th><th scope=col>test_strain</th><th scope=col>tank_side</th><th scope=col>assay</th><th scope=col>quadrant</th><th scope=col>fish_type</th><th scope=col>hmm_state</th><th scope=col>time_numeric_h</th><th scope=col>time_numeric_m</th><th scope=col>time_numeric</th></tr>\n",
       "\t<tr><th scope=col>&lt;chr&gt;</th><th scope=col>&lt;chr&gt;</th><th scope=col>&lt;chr&gt;</th><th scope=col>&lt;chr&gt;</th><th scope=col>&lt;chr&gt;</th><th scope=col>&lt;chr&gt;</th><th scope=col>&lt;chr&gt;</th><th scope=col>&lt;chr&gt;</th><th scope=col>&lt;chr&gt;</th><th scope=col>&lt;dbl&gt;</th><th scope=col>&lt;dbl&gt;</th><th scope=col>&lt;dbl&gt;</th><th scope=col>&lt;dbl&gt;</th></tr>\n",
       "</thead>\n",
       "<tbody>\n",
       "\t<tr><td>20190611_1331_icab_icab_R_no_q1_ref</td><td>20190611</td><td>1331</td><td>icab</td><td>icab</td><td>R</td><td>no</td><td>q1</td><td>ref</td><td>6</td><td>13</td><td>31</td><td>13.51667</td></tr>\n",
       "\t<tr><td>20190611_1331_icab_icab_R_no_q1_ref</td><td>20190611</td><td>1331</td><td>icab</td><td>icab</td><td>R</td><td>no</td><td>q1</td><td>ref</td><td>6</td><td>13</td><td>31</td><td>13.51667</td></tr>\n",
       "\t<tr><td>20190611_1331_icab_icab_R_no_q1_ref</td><td>20190611</td><td>1331</td><td>icab</td><td>icab</td><td>R</td><td>no</td><td>q1</td><td>ref</td><td>6</td><td>13</td><td>31</td><td>13.51667</td></tr>\n",
       "\t<tr><td>20190611_1331_icab_icab_R_no_q1_ref</td><td>20190611</td><td>1331</td><td>icab</td><td>icab</td><td>R</td><td>no</td><td>q1</td><td>ref</td><td>6</td><td>13</td><td>31</td><td>13.51667</td></tr>\n",
       "\t<tr><td>20190611_1331_icab_icab_R_no_q1_ref</td><td>20190611</td><td>1331</td><td>icab</td><td>icab</td><td>R</td><td>no</td><td>q1</td><td>ref</td><td>6</td><td>13</td><td>31</td><td>13.51667</td></tr>\n",
       "\t<tr><td>20190611_1331_icab_icab_R_no_q1_ref</td><td>20190611</td><td>1331</td><td>icab</td><td>icab</td><td>R</td><td>no</td><td>q1</td><td>ref</td><td>6</td><td>13</td><td>31</td><td>13.51667</td></tr>\n",
       "</tbody>\n",
       "</table>\n"
      ],
      "text/latex": [
       "A data.table: 6 × 13\n",
       "\\begin{tabular}{lllllllllllll}\n",
       " id & date & time\\_string & ref\\_strain & test\\_strain & tank\\_side & assay & quadrant & fish\\_type & hmm\\_state & time\\_numeric\\_h & time\\_numeric\\_m & time\\_numeric\\\\\n",
       " <chr> & <chr> & <chr> & <chr> & <chr> & <chr> & <chr> & <chr> & <chr> & <dbl> & <dbl> & <dbl> & <dbl>\\\\\n",
       "\\hline\n",
       "\t 20190611\\_1331\\_icab\\_icab\\_R\\_no\\_q1\\_ref & 20190611 & 1331 & icab & icab & R & no & q1 & ref & 6 & 13 & 31 & 13.51667\\\\\n",
       "\t 20190611\\_1331\\_icab\\_icab\\_R\\_no\\_q1\\_ref & 20190611 & 1331 & icab & icab & R & no & q1 & ref & 6 & 13 & 31 & 13.51667\\\\\n",
       "\t 20190611\\_1331\\_icab\\_icab\\_R\\_no\\_q1\\_ref & 20190611 & 1331 & icab & icab & R & no & q1 & ref & 6 & 13 & 31 & 13.51667\\\\\n",
       "\t 20190611\\_1331\\_icab\\_icab\\_R\\_no\\_q1\\_ref & 20190611 & 1331 & icab & icab & R & no & q1 & ref & 6 & 13 & 31 & 13.51667\\\\\n",
       "\t 20190611\\_1331\\_icab\\_icab\\_R\\_no\\_q1\\_ref & 20190611 & 1331 & icab & icab & R & no & q1 & ref & 6 & 13 & 31 & 13.51667\\\\\n",
       "\t 20190611\\_1331\\_icab\\_icab\\_R\\_no\\_q1\\_ref & 20190611 & 1331 & icab & icab & R & no & q1 & ref & 6 & 13 & 31 & 13.51667\\\\\n",
       "\\end{tabular}\n"
      ],
      "text/markdown": [
       "\n",
       "A data.table: 6 × 13\n",
       "\n",
       "| id &lt;chr&gt; | date &lt;chr&gt; | time_string &lt;chr&gt; | ref_strain &lt;chr&gt; | test_strain &lt;chr&gt; | tank_side &lt;chr&gt; | assay &lt;chr&gt; | quadrant &lt;chr&gt; | fish_type &lt;chr&gt; | hmm_state &lt;dbl&gt; | time_numeric_h &lt;dbl&gt; | time_numeric_m &lt;dbl&gt; | time_numeric &lt;dbl&gt; |\n",
       "|---|---|---|---|---|---|---|---|---|---|---|---|---|\n",
       "| 20190611_1331_icab_icab_R_no_q1_ref | 20190611 | 1331 | icab | icab | R | no | q1 | ref | 6 | 13 | 31 | 13.51667 |\n",
       "| 20190611_1331_icab_icab_R_no_q1_ref | 20190611 | 1331 | icab | icab | R | no | q1 | ref | 6 | 13 | 31 | 13.51667 |\n",
       "| 20190611_1331_icab_icab_R_no_q1_ref | 20190611 | 1331 | icab | icab | R | no | q1 | ref | 6 | 13 | 31 | 13.51667 |\n",
       "| 20190611_1331_icab_icab_R_no_q1_ref | 20190611 | 1331 | icab | icab | R | no | q1 | ref | 6 | 13 | 31 | 13.51667 |\n",
       "| 20190611_1331_icab_icab_R_no_q1_ref | 20190611 | 1331 | icab | icab | R | no | q1 | ref | 6 | 13 | 31 | 13.51667 |\n",
       "| 20190611_1331_icab_icab_R_no_q1_ref | 20190611 | 1331 | icab | icab | R | no | q1 | ref | 6 | 13 | 31 | 13.51667 |\n",
       "\n"
      ],
      "text/plain": [
       "  id                                  date     time_string ref_strain\n",
       "1 20190611_1331_icab_icab_R_no_q1_ref 20190611 1331        icab      \n",
       "2 20190611_1331_icab_icab_R_no_q1_ref 20190611 1331        icab      \n",
       "3 20190611_1331_icab_icab_R_no_q1_ref 20190611 1331        icab      \n",
       "4 20190611_1331_icab_icab_R_no_q1_ref 20190611 1331        icab      \n",
       "5 20190611_1331_icab_icab_R_no_q1_ref 20190611 1331        icab      \n",
       "6 20190611_1331_icab_icab_R_no_q1_ref 20190611 1331        icab      \n",
       "  test_strain tank_side assay quadrant fish_type hmm_state time_numeric_h\n",
       "1 icab        R         no    q1       ref       6         13            \n",
       "2 icab        R         no    q1       ref       6         13            \n",
       "3 icab        R         no    q1       ref       6         13            \n",
       "4 icab        R         no    q1       ref       6         13            \n",
       "5 icab        R         no    q1       ref       6         13            \n",
       "6 icab        R         no    q1       ref       6         13            \n",
       "  time_numeric_m time_numeric\n",
       "1 31             13.51667    \n",
       "2 31             13.51667    \n",
       "3 31             13.51667    \n",
       "4 31             13.51667    \n",
       "5 31             13.51667    \n",
       "6 31             13.51667    "
      ]
     },
     "metadata": {},
     "output_type": "display_data"
    }
   ],
   "source": [
    "df_sum <- df[, .(id, hmm_state = hmm_state_recoded)] |>\n",
    "    separate(\n",
    "        id,\n",
    "        into = c(\"date\", \"time_string\", \"ref_strain\", \"test_strain\", \"tank_side\", \"assay\", \"quadrant\", \"fish_type\"),\n",
    "        sep = \"_\",\n",
    "        remove = FALSE\n",
    "    ) |>\n",
    "    as.data.table()\n",
    "\n",
    "df_sum[, time_numeric_h := str_remove(time_string, \"..$\") |> as.numeric()]\n",
    "df_sum[, time_numeric_m := str_remove(time_string, \"^..\") |> as.numeric()]\n",
    "df_sum[, time_numeric := time_numeric_h + (time_numeric_m/60)]\n",
    "\n",
    "head(df_sum)"
   ]
  },
  {
   "cell_type": "code",
   "execution_count": 7,
   "id": "1993101c-7420-4980-864d-63409f5f22be",
   "metadata": {},
   "outputs": [
    {
     "data": {
      "text/html": [
       "<table class=\"dataframe\">\n",
       "<caption>A data.table: 6 × 10</caption>\n",
       "<thead>\n",
       "\t<tr><th scope=col>hmm_state</th><th scope=col>id</th><th scope=col>date</th><th scope=col>time_numeric</th><th scope=col>test_strain</th><th scope=col>tank_side</th><th scope=col>assay</th><th scope=col>quadrant</th><th scope=col>fish_type</th><th scope=col>f_state</th></tr>\n",
       "\t<tr><th scope=col>&lt;dbl&gt;</th><th scope=col>&lt;chr&gt;</th><th scope=col>&lt;chr&gt;</th><th scope=col>&lt;dbl&gt;</th><th scope=col>&lt;chr&gt;</th><th scope=col>&lt;chr&gt;</th><th scope=col>&lt;chr&gt;</th><th scope=col>&lt;chr&gt;</th><th scope=col>&lt;chr&gt;</th><th scope=col>&lt;dbl&gt;</th></tr>\n",
       "</thead>\n",
       "<tbody>\n",
       "\t<tr><td> 6</td><td>20190611_1331_icab_icab_R_no_q1_ref</td><td>20190611</td><td>13.51667</td><td>icab</td><td>R</td><td>no</td><td>q1</td><td>ref</td><td>0.06634808</td></tr>\n",
       "\t<tr><td>10</td><td>20190611_1331_icab_icab_R_no_q1_ref</td><td>20190611</td><td>13.51667</td><td>icab</td><td>R</td><td>no</td><td>q1</td><td>ref</td><td>0.02256057</td></tr>\n",
       "\t<tr><td>11</td><td>20190611_1331_icab_icab_R_no_q1_ref</td><td>20190611</td><td>13.51667</td><td>icab</td><td>R</td><td>no</td><td>q1</td><td>ref</td><td>0.06868193</td></tr>\n",
       "\t<tr><td> 3</td><td>20190611_1331_icab_icab_R_no_q1_ref</td><td>20190611</td><td>13.51667</td><td>icab</td><td>R</td><td>no</td><td>q1</td><td>ref</td><td>0.06490331</td></tr>\n",
       "\t<tr><td> 9</td><td>20190611_1331_icab_icab_R_no_q1_ref</td><td>20190611</td><td>13.51667</td><td>icab</td><td>R</td><td>no</td><td>q1</td><td>ref</td><td>0.17470549</td></tr>\n",
       "\t<tr><td> 2</td><td>20190611_1331_icab_icab_R_no_q1_ref</td><td>20190611</td><td>13.51667</td><td>icab</td><td>R</td><td>no</td><td>q1</td><td>ref</td><td>0.06645921</td></tr>\n",
       "</tbody>\n",
       "</table>\n"
      ],
      "text/latex": [
       "A data.table: 6 × 10\n",
       "\\begin{tabular}{llllllllll}\n",
       " hmm\\_state & id & date & time\\_numeric & test\\_strain & tank\\_side & assay & quadrant & fish\\_type & f\\_state\\\\\n",
       " <dbl> & <chr> & <chr> & <dbl> & <chr> & <chr> & <chr> & <chr> & <chr> & <dbl>\\\\\n",
       "\\hline\n",
       "\t  6 & 20190611\\_1331\\_icab\\_icab\\_R\\_no\\_q1\\_ref & 20190611 & 13.51667 & icab & R & no & q1 & ref & 0.06634808\\\\\n",
       "\t 10 & 20190611\\_1331\\_icab\\_icab\\_R\\_no\\_q1\\_ref & 20190611 & 13.51667 & icab & R & no & q1 & ref & 0.02256057\\\\\n",
       "\t 11 & 20190611\\_1331\\_icab\\_icab\\_R\\_no\\_q1\\_ref & 20190611 & 13.51667 & icab & R & no & q1 & ref & 0.06868193\\\\\n",
       "\t  3 & 20190611\\_1331\\_icab\\_icab\\_R\\_no\\_q1\\_ref & 20190611 & 13.51667 & icab & R & no & q1 & ref & 0.06490331\\\\\n",
       "\t  9 & 20190611\\_1331\\_icab\\_icab\\_R\\_no\\_q1\\_ref & 20190611 & 13.51667 & icab & R & no & q1 & ref & 0.17470549\\\\\n",
       "\t  2 & 20190611\\_1331\\_icab\\_icab\\_R\\_no\\_q1\\_ref & 20190611 & 13.51667 & icab & R & no & q1 & ref & 0.06645921\\\\\n",
       "\\end{tabular}\n"
      ],
      "text/markdown": [
       "\n",
       "A data.table: 6 × 10\n",
       "\n",
       "| hmm_state &lt;dbl&gt; | id &lt;chr&gt; | date &lt;chr&gt; | time_numeric &lt;dbl&gt; | test_strain &lt;chr&gt; | tank_side &lt;chr&gt; | assay &lt;chr&gt; | quadrant &lt;chr&gt; | fish_type &lt;chr&gt; | f_state &lt;dbl&gt; |\n",
       "|---|---|---|---|---|---|---|---|---|---|\n",
       "|  6 | 20190611_1331_icab_icab_R_no_q1_ref | 20190611 | 13.51667 | icab | R | no | q1 | ref | 0.06634808 |\n",
       "| 10 | 20190611_1331_icab_icab_R_no_q1_ref | 20190611 | 13.51667 | icab | R | no | q1 | ref | 0.02256057 |\n",
       "| 11 | 20190611_1331_icab_icab_R_no_q1_ref | 20190611 | 13.51667 | icab | R | no | q1 | ref | 0.06868193 |\n",
       "|  3 | 20190611_1331_icab_icab_R_no_q1_ref | 20190611 | 13.51667 | icab | R | no | q1 | ref | 0.06490331 |\n",
       "|  9 | 20190611_1331_icab_icab_R_no_q1_ref | 20190611 | 13.51667 | icab | R | no | q1 | ref | 0.17470549 |\n",
       "|  2 | 20190611_1331_icab_icab_R_no_q1_ref | 20190611 | 13.51667 | icab | R | no | q1 | ref | 0.06645921 |\n",
       "\n"
      ],
      "text/plain": [
       "  hmm_state id                                  date     time_numeric\n",
       "1  6        20190611_1331_icab_icab_R_no_q1_ref 20190611 13.51667    \n",
       "2 10        20190611_1331_icab_icab_R_no_q1_ref 20190611 13.51667    \n",
       "3 11        20190611_1331_icab_icab_R_no_q1_ref 20190611 13.51667    \n",
       "4  3        20190611_1331_icab_icab_R_no_q1_ref 20190611 13.51667    \n",
       "5  9        20190611_1331_icab_icab_R_no_q1_ref 20190611 13.51667    \n",
       "6  2        20190611_1331_icab_icab_R_no_q1_ref 20190611 13.51667    \n",
       "  test_strain tank_side assay quadrant fish_type f_state   \n",
       "1 icab        R         no    q1       ref       0.06634808\n",
       "2 icab        R         no    q1       ref       0.02256057\n",
       "3 icab        R         no    q1       ref       0.06868193\n",
       "4 icab        R         no    q1       ref       0.06490331\n",
       "5 icab        R         no    q1       ref       0.17470549\n",
       "6 icab        R         no    q1       ref       0.06645921"
      ]
     },
     "metadata": {},
     "output_type": "display_data"
    }
   ],
   "source": [
    "df_dge <- df_sum[\n",
    "    fish_type == \"test\" | test_strain == \"icab\", # I can use both fish in icab/icab pairs\n",
    "    .(hmm_state, n_tot = .N), by = c(\"id\", \"date\", \"time_numeric\", \"test_strain\", \"tank_side\", \"assay\", \"quadrant\", \"fish_type\")\n",
    "][\n",
    "    , .(f_state = .N/unique(n_tot)), by = c(\"hmm_state\", \"id\", \"date\", \"time_numeric\", \"test_strain\", \"tank_side\", \"assay\", \"quadrant\", \"fish_type\")\n",
    "]\n",
    "head(df_dge)"
   ]
  },
  {
   "cell_type": "code",
   "execution_count": 8,
   "id": "78c582bf-1636-42c1-9736-cb9e5d8e049f",
   "metadata": {},
   "outputs": [
    {
     "data": {
      "text/html": [
       "<table class=\"dataframe\">\n",
       "<caption>A data.table: 5 × 2</caption>\n",
       "<thead>\n",
       "\t<tr><th scope=col>test_strain</th><th scope=col>N</th></tr>\n",
       "\t<tr><th scope=col>&lt;chr&gt;</th><th scope=col>&lt;int&gt;</th></tr>\n",
       "</thead>\n",
       "<tbody>\n",
       "\t<tr><td>icab</td><td>4043</td></tr>\n",
       "\t<tr><td>kaga</td><td>1389</td></tr>\n",
       "\t<tr><td>hni </td><td>2232</td></tr>\n",
       "\t<tr><td>hdr </td><td>1723</td></tr>\n",
       "\t<tr><td>ho5 </td><td>1652</td></tr>\n",
       "</tbody>\n",
       "</table>\n"
      ],
      "text/latex": [
       "A data.table: 5 × 2\n",
       "\\begin{tabular}{ll}\n",
       " test\\_strain & N\\\\\n",
       " <chr> & <int>\\\\\n",
       "\\hline\n",
       "\t icab & 4043\\\\\n",
       "\t kaga & 1389\\\\\n",
       "\t hni  & 2232\\\\\n",
       "\t hdr  & 1723\\\\\n",
       "\t ho5  & 1652\\\\\n",
       "\\end{tabular}\n"
      ],
      "text/markdown": [
       "\n",
       "A data.table: 5 × 2\n",
       "\n",
       "| test_strain &lt;chr&gt; | N &lt;int&gt; |\n",
       "|---|---|\n",
       "| icab | 4043 |\n",
       "| kaga | 1389 |\n",
       "| hni  | 2232 |\n",
       "| hdr  | 1723 |\n",
       "| ho5  | 1652 |\n",
       "\n"
      ],
      "text/plain": [
       "  test_strain N   \n",
       "1 icab        4043\n",
       "2 kaga        1389\n",
       "3 hni         2232\n",
       "4 hdr         1723\n",
       "5 ho5         1652"
      ]
     },
     "metadata": {},
     "output_type": "display_data"
    }
   ],
   "source": [
    "df_dge[, .N, by = test_strain]"
   ]
  },
  {
   "cell_type": "code",
   "execution_count": 9,
   "id": "23b7e145-2003-45c1-855f-d3a1bff0e79c",
   "metadata": {},
   "outputs": [
    {
     "data": {
      "text/html": [
       "<table class=\"dataframe\">\n",
       "<caption>A data.table: 2 × 2</caption>\n",
       "<thead>\n",
       "\t<tr><th scope=col>fish_type</th><th scope=col>N</th></tr>\n",
       "\t<tr><th scope=col>&lt;chr&gt;</th><th scope=col>&lt;int&gt;</th></tr>\n",
       "</thead>\n",
       "<tbody>\n",
       "\t<tr><td>ref </td><td>2017</td></tr>\n",
       "\t<tr><td>test</td><td>9022</td></tr>\n",
       "</tbody>\n",
       "</table>\n"
      ],
      "text/latex": [
       "A data.table: 2 × 2\n",
       "\\begin{tabular}{ll}\n",
       " fish\\_type & N\\\\\n",
       " <chr> & <int>\\\\\n",
       "\\hline\n",
       "\t ref  & 2017\\\\\n",
       "\t test & 9022\\\\\n",
       "\\end{tabular}\n"
      ],
      "text/markdown": [
       "\n",
       "A data.table: 2 × 2\n",
       "\n",
       "| fish_type &lt;chr&gt; | N &lt;int&gt; |\n",
       "|---|---|\n",
       "| ref  | 2017 |\n",
       "| test | 9022 |\n",
       "\n"
      ],
      "text/plain": [
       "  fish_type N   \n",
       "1 ref       2017\n",
       "2 test      9022"
      ]
     },
     "metadata": {},
     "output_type": "display_data"
    }
   ],
   "source": [
    "df_dge[, .N, by = fish_type]"
   ]
  },
  {
   "cell_type": "code",
   "execution_count": 10,
   "id": "22a13bbc-a79e-48c6-bd3d-ddadc4865855",
   "metadata": {},
   "outputs": [],
   "source": [
    "df_dge[, .(res = sum(f_state) - 1 < .Machine$double.eps), by = id][, all(res)] |> stopifnot()"
   ]
  },
  {
   "cell_type": "code",
   "execution_count": 11,
   "id": "dde7105a-7ef2-4661-921e-0318a88a0b0e",
   "metadata": {},
   "outputs": [],
   "source": [
    "df_dge[, f_state_norm := invnorm(f_state), by = c(\"assay\", \"hmm_state\")]"
   ]
  },
  {
   "cell_type": "code",
   "execution_count": 12,
   "id": "c59b814a-10a8-4985-96af-2bcf66be9b0c",
   "metadata": {},
   "outputs": [],
   "source": [
    "res <- list(\n",
    "    of = lapply(1:15, run_anova, data = df_dge, the_assay = \"of\"),\n",
    "    no = lapply(1:15, run_anova, data = df_dge, the_assay = \"no\")\n",
    ") |>\n",
    "    lapply(rbindlist) |>\n",
    "    rbindlist()"
   ]
  },
  {
   "cell_type": "code",
   "execution_count": 13,
   "id": "96038127-3a41-4730-807a-c41e7fa0bd5a",
   "metadata": {},
   "outputs": [
    {
     "data": {
      "text/html": [
       "<table class=\"dataframe\">\n",
       "<caption>A data.table: 6 × 5</caption>\n",
       "<thead>\n",
       "\t<tr><th scope=col>assay</th><th scope=col>var_name</th><th scope=col>hmm_state</th><th scope=col>pval</th><th scope=col>var_exp</th></tr>\n",
       "\t<tr><th scope=col>&lt;chr&gt;</th><th scope=col>&lt;chr&gt;</th><th scope=col>&lt;int&gt;</th><th scope=col>&lt;dbl&gt;</th><th scope=col>&lt;dbl&gt;</th></tr>\n",
       "</thead>\n",
       "<tbody>\n",
       "\t<tr><td>of</td><td>date        </td><td>1</td><td>3.448927e-01</td><td>0.2974121</td></tr>\n",
       "\t<tr><td>of</td><td>time_numeric</td><td>1</td><td>4.041694e-01</td><td>0.2974121</td></tr>\n",
       "\t<tr><td>of</td><td>tank_side   </td><td>1</td><td>9.265892e-01</td><td>0.2974121</td></tr>\n",
       "\t<tr><td>of</td><td>quadrant    </td><td>1</td><td>3.202357e-01</td><td>0.2974121</td></tr>\n",
       "\t<tr><td>of</td><td>test_strain </td><td>1</td><td>7.831160e-27</td><td>0.2974121</td></tr>\n",
       "\t<tr><td>of</td><td>Residuals   </td><td>1</td><td>          NA</td><td>0.2974121</td></tr>\n",
       "</tbody>\n",
       "</table>\n"
      ],
      "text/latex": [
       "A data.table: 6 × 5\n",
       "\\begin{tabular}{lllll}\n",
       " assay & var\\_name & hmm\\_state & pval & var\\_exp\\\\\n",
       " <chr> & <chr> & <int> & <dbl> & <dbl>\\\\\n",
       "\\hline\n",
       "\t of & date         & 1 & 3.448927e-01 & 0.2974121\\\\\n",
       "\t of & time\\_numeric & 1 & 4.041694e-01 & 0.2974121\\\\\n",
       "\t of & tank\\_side    & 1 & 9.265892e-01 & 0.2974121\\\\\n",
       "\t of & quadrant     & 1 & 3.202357e-01 & 0.2974121\\\\\n",
       "\t of & test\\_strain  & 1 & 7.831160e-27 & 0.2974121\\\\\n",
       "\t of & Residuals    & 1 &           NA & 0.2974121\\\\\n",
       "\\end{tabular}\n"
      ],
      "text/markdown": [
       "\n",
       "A data.table: 6 × 5\n",
       "\n",
       "| assay &lt;chr&gt; | var_name &lt;chr&gt; | hmm_state &lt;int&gt; | pval &lt;dbl&gt; | var_exp &lt;dbl&gt; |\n",
       "|---|---|---|---|---|\n",
       "| of | date         | 1 | 3.448927e-01 | 0.2974121 |\n",
       "| of | time_numeric | 1 | 4.041694e-01 | 0.2974121 |\n",
       "| of | tank_side    | 1 | 9.265892e-01 | 0.2974121 |\n",
       "| of | quadrant     | 1 | 3.202357e-01 | 0.2974121 |\n",
       "| of | test_strain  | 1 | 7.831160e-27 | 0.2974121 |\n",
       "| of | Residuals    | 1 |           NA | 0.2974121 |\n",
       "\n"
      ],
      "text/plain": [
       "  assay var_name     hmm_state pval         var_exp  \n",
       "1 of    date         1         3.448927e-01 0.2974121\n",
       "2 of    time_numeric 1         4.041694e-01 0.2974121\n",
       "3 of    tank_side    1         9.265892e-01 0.2974121\n",
       "4 of    quadrant     1         3.202357e-01 0.2974121\n",
       "5 of    test_strain  1         7.831160e-27 0.2974121\n",
       "6 of    Residuals    1                   NA 0.2974121"
      ]
     },
     "metadata": {},
     "output_type": "display_data"
    }
   ],
   "source": [
    "head(res)"
   ]
  },
  {
   "cell_type": "code",
   "execution_count": 14,
   "id": "7f51b3bd-107a-4757-953d-e30db4da08df",
   "metadata": {},
   "outputs": [],
   "source": [
    "res <- res[var_name != \"Residuals\"]"
   ]
  },
  {
   "cell_type": "code",
   "execution_count": 15,
   "id": "c6738b67-7eaa-4747-beba-a05d3db4cd12",
   "metadata": {},
   "outputs": [],
   "source": [
    "res[, q := p.adjust(pval, method = \"fdr\")]\n",
    "res[, sig := q < 0.05]"
   ]
  },
  {
   "cell_type": "code",
   "execution_count": 16,
   "id": "495de1db-99b8-467b-9d47-6f3ecd5607f1",
   "metadata": {},
   "outputs": [
    {
     "data": {
      "text/html": [
       "<table class=\"dataframe\">\n",
       "<caption>A data.table: 4 × 5</caption>\n",
       "<thead>\n",
       "\t<tr><th scope=col>sig</th><th scope=col>assay</th><th scope=col>n</th><th scope=col>min</th><th scope=col>max</th></tr>\n",
       "\t<tr><th scope=col>&lt;lgl&gt;</th><th scope=col>&lt;chr&gt;</th><th scope=col>&lt;int&gt;</th><th scope=col>&lt;dbl&gt;</th><th scope=col>&lt;dbl&gt;</th></tr>\n",
       "</thead>\n",
       "<tbody>\n",
       "\t<tr><td> TRUE</td><td>of</td><td>11</td><td>1.17e-24</td><td>0.023600</td></tr>\n",
       "\t<tr><td>FALSE</td><td>of</td><td> 4</td><td>1.98e-01</td><td>0.380000</td></tr>\n",
       "\t<tr><td> TRUE</td><td>no</td><td> 8</td><td>2.79e-13</td><td>0.000156</td></tr>\n",
       "\t<tr><td>FALSE</td><td>no</td><td> 7</td><td>2.93e-01</td><td>0.868000</td></tr>\n",
       "</tbody>\n",
       "</table>\n"
      ],
      "text/latex": [
       "A data.table: 4 × 5\n",
       "\\begin{tabular}{lllll}\n",
       " sig & assay & n & min & max\\\\\n",
       " <lgl> & <chr> & <int> & <dbl> & <dbl>\\\\\n",
       "\\hline\n",
       "\t  TRUE & of & 11 & 1.17e-24 & 0.023600\\\\\n",
       "\t FALSE & of &  4 & 1.98e-01 & 0.380000\\\\\n",
       "\t  TRUE & no &  8 & 2.79e-13 & 0.000156\\\\\n",
       "\t FALSE & no &  7 & 2.93e-01 & 0.868000\\\\\n",
       "\\end{tabular}\n"
      ],
      "text/markdown": [
       "\n",
       "A data.table: 4 × 5\n",
       "\n",
       "| sig &lt;lgl&gt; | assay &lt;chr&gt; | n &lt;int&gt; | min &lt;dbl&gt; | max &lt;dbl&gt; |\n",
       "|---|---|---|---|---|\n",
       "|  TRUE | of | 11 | 1.17e-24 | 0.023600 |\n",
       "| FALSE | of |  4 | 1.98e-01 | 0.380000 |\n",
       "|  TRUE | no |  8 | 2.79e-13 | 0.000156 |\n",
       "| FALSE | no |  7 | 2.93e-01 | 0.868000 |\n",
       "\n"
      ],
      "text/plain": [
       "  sig   assay n  min      max     \n",
       "1  TRUE of    11 1.17e-24 0.023600\n",
       "2 FALSE of     4 1.98e-01 0.380000\n",
       "3  TRUE no     8 2.79e-13 0.000156\n",
       "4 FALSE no     7 2.93e-01 0.868000"
      ]
     },
     "metadata": {},
     "output_type": "display_data"
    }
   ],
   "source": [
    "res[var_name == \"test_strain\", .(n = .N, min = min(q) |> signif(3), max = max(q) |> signif(3)), by = c(\"sig\", \"assay\")]"
   ]
  },
  {
   "cell_type": "code",
   "execution_count": 17,
   "id": "6e953fa3-0f57-464a-a24f-3c86cf2032db",
   "metadata": {},
   "outputs": [
    {
     "data": {
      "text/html": [
       "0.297"
      ],
      "text/latex": [
       "0.297"
      ],
      "text/markdown": [
       "0.297"
      ],
      "text/plain": [
       "[1] 0.297"
      ]
     },
     "metadata": {},
     "output_type": "display_data"
    }
   ],
   "source": [
    "res[var_name == \"test_strain\", max(var_exp) |> signif(3)]"
   ]
  },
  {
   "cell_type": "code",
   "execution_count": 18,
   "id": "49402403-67f4-4538-bd7f-bcfa91c60a29",
   "metadata": {},
   "outputs": [
    {
     "data": {
      "text/html": [
       "<table class=\"dataframe\">\n",
       "<caption>A data.table: 3 × 4</caption>\n",
       "<thead>\n",
       "\t<tr><th scope=col>assay</th><th scope=col>var_name</th><th scope=col>max</th><th scope=col>min</th></tr>\n",
       "\t<tr><th scope=col>&lt;chr&gt;</th><th scope=col>&lt;chr&gt;</th><th scope=col>&lt;dbl&gt;</th><th scope=col>&lt;dbl&gt;</th></tr>\n",
       "</thead>\n",
       "<tbody>\n",
       "\t<tr><td>of</td><td>date    </td><td>0.03938738</td><td>2.805763e-07</td></tr>\n",
       "\t<tr><td>no</td><td>quadrant</td><td>0.03221769</td><td>1.812955e-02</td></tr>\n",
       "\t<tr><td>no</td><td>date    </td><td>0.04457375</td><td>4.417953e-08</td></tr>\n",
       "</tbody>\n",
       "</table>\n"
      ],
      "text/latex": [
       "A data.table: 3 × 4\n",
       "\\begin{tabular}{llll}\n",
       " assay & var\\_name & max & min\\\\\n",
       " <chr> & <chr> & <dbl> & <dbl>\\\\\n",
       "\\hline\n",
       "\t of & date     & 0.03938738 & 2.805763e-07\\\\\n",
       "\t no & quadrant & 0.03221769 & 1.812955e-02\\\\\n",
       "\t no & date     & 0.04457375 & 4.417953e-08\\\\\n",
       "\\end{tabular}\n"
      ],
      "text/markdown": [
       "\n",
       "A data.table: 3 × 4\n",
       "\n",
       "| assay &lt;chr&gt; | var_name &lt;chr&gt; | max &lt;dbl&gt; | min &lt;dbl&gt; |\n",
       "|---|---|---|---|\n",
       "| of | date     | 0.03938738 | 2.805763e-07 |\n",
       "| no | quadrant | 0.03221769 | 1.812955e-02 |\n",
       "| no | date     | 0.04457375 | 4.417953e-08 |\n",
       "\n"
      ],
      "text/plain": [
       "  assay var_name max        min         \n",
       "1 of    date     0.03938738 2.805763e-07\n",
       "2 no    quadrant 0.03221769 1.812955e-02\n",
       "3 no    date     0.04457375 4.417953e-08"
      ]
     },
     "metadata": {},
     "output_type": "display_data"
    }
   ],
   "source": [
    "res[var_name != \"test_strain\" & sig == TRUE, .(max = max(q), min = min(q)), by = c(\"assay\", \"var_name\")]"
   ]
  },
  {
   "cell_type": "code",
   "execution_count": 19,
   "id": "2fab503b-546f-48d0-8981-07b151dd327e",
   "metadata": {},
   "outputs": [
    {
     "data": {
      "text/html": [
       "<table class=\"dataframe\">\n",
       "<caption>A data.table: 2 × 3</caption>\n",
       "<thead>\n",
       "\t<tr><th scope=col>assay</th><th scope=col>max</th><th scope=col>min</th></tr>\n",
       "\t<tr><th scope=col>&lt;chr&gt;</th><th scope=col>&lt;dbl&gt;</th><th scope=col>&lt;dbl&gt;</th></tr>\n",
       "</thead>\n",
       "<tbody>\n",
       "\t<tr><td>of</td><td>0.899</td><td>2.81e-07</td></tr>\n",
       "\t<tr><td>no</td><td>0.968</td><td>4.42e-08</td></tr>\n",
       "</tbody>\n",
       "</table>\n"
      ],
      "text/latex": [
       "A data.table: 2 × 3\n",
       "\\begin{tabular}{lll}\n",
       " assay & max & min\\\\\n",
       " <chr> & <dbl> & <dbl>\\\\\n",
       "\\hline\n",
       "\t of & 0.899 & 2.81e-07\\\\\n",
       "\t no & 0.968 & 4.42e-08\\\\\n",
       "\\end{tabular}\n"
      ],
      "text/markdown": [
       "\n",
       "A data.table: 2 × 3\n",
       "\n",
       "| assay &lt;chr&gt; | max &lt;dbl&gt; | min &lt;dbl&gt; |\n",
       "|---|---|---|\n",
       "| of | 0.899 | 2.81e-07 |\n",
       "| no | 0.968 | 4.42e-08 |\n",
       "\n"
      ],
      "text/plain": [
       "  assay max   min     \n",
       "1 of    0.899 2.81e-07\n",
       "2 no    0.968 4.42e-08"
      ]
     },
     "metadata": {},
     "output_type": "display_data"
    }
   ],
   "source": [
    "res[var_name %in% c(\"quadrant\", \"date\"), .(max = max(q) |> signif(3), min = min(q) |> signif(3)), by = c(\"assay\")]"
   ]
  },
  {
   "cell_type": "code",
   "execution_count": 22,
   "id": "d83ae696-ac16-4538-93ca-87785f831a7a",
   "metadata": {},
   "outputs": [
    {
     "data": {
      "text/html": [
       "<table class=\"dataframe\">\n",
       "<caption>A data.table: 30 × 4</caption>\n",
       "<thead>\n",
       "\t<tr><th scope=col>Assay component</th><th scope=col>HMM State</th><th scope=col>p-value (FDR-adjusted)</th><th scope=col>Variance explained</th></tr>\n",
       "\t<tr><th scope=col>&lt;chr&gt;</th><th scope=col>&lt;int&gt;</th><th scope=col>&lt;chr&gt;</th><th scope=col>&lt;dbl&gt;</th></tr>\n",
       "</thead>\n",
       "<tbody>\n",
       "\t<tr><td>Open field  </td><td> 1</td><td>1.17e-24</td><td>0.29700</td></tr>\n",
       "\t<tr><td>Open field  </td><td> 2</td><td>4.75e-07</td><td>0.10100</td></tr>\n",
       "\t<tr><td>Open field  </td><td> 3</td><td>6.42e-07</td><td>0.09770</td></tr>\n",
       "\t<tr><td>Open field  </td><td> 4</td><td>6.06e-21</td><td>0.26100</td></tr>\n",
       "\t<tr><td>Open field  </td><td> 5</td><td>2.36e-02</td><td>0.03580</td></tr>\n",
       "\t<tr><td>Open field  </td><td> 6</td><td>1.73e-02</td><td>0.03840</td></tr>\n",
       "\t<tr><td>Open field  </td><td> 7</td><td>5.54e-07</td><td>0.09640</td></tr>\n",
       "\t<tr><td>Open field  </td><td> 8</td><td>3.76e-05</td><td>0.06990</td></tr>\n",
       "\t<tr><td>Open field  </td><td> 9</td><td>8.54e-05</td><td>0.06730</td></tr>\n",
       "\t<tr><td>Open field  </td><td>10</td><td>3.80e-01</td><td>0.01610</td></tr>\n",
       "\t<tr><td>Open field  </td><td>11</td><td>2.36e-01</td><td>0.02090</td></tr>\n",
       "\t<tr><td>Open field  </td><td>12</td><td>3.11e-01</td><td>0.01850</td></tr>\n",
       "\t<tr><td>Open field  </td><td>13</td><td>5.35e-03</td><td>0.04520</td></tr>\n",
       "\t<tr><td>Open field  </td><td>14</td><td>2.01e-02</td><td>0.04060</td></tr>\n",
       "\t<tr><td>Open field  </td><td>15</td><td>1.98e-01</td><td>0.02210</td></tr>\n",
       "\t<tr><td>Novel object</td><td> 1</td><td>2.79e-13</td><td>0.17500</td></tr>\n",
       "\t<tr><td>Novel object</td><td> 2</td><td>1.53e-07</td><td>0.10900</td></tr>\n",
       "\t<tr><td>Novel object</td><td> 3</td><td>2.25e-07</td><td>0.10600</td></tr>\n",
       "\t<tr><td>Novel object</td><td> 4</td><td>5.85e-10</td><td>0.13900</td></tr>\n",
       "\t<tr><td>Novel object</td><td> 5</td><td>1.48e-04</td><td>0.06810</td></tr>\n",
       "\t<tr><td>Novel object</td><td> 6</td><td>1.56e-04</td><td>0.06810</td></tr>\n",
       "\t<tr><td>Novel object</td><td> 7</td><td>2.25e-07</td><td>0.10300</td></tr>\n",
       "\t<tr><td>Novel object</td><td> 8</td><td>7.52e-01</td><td>0.00636</td></tr>\n",
       "\t<tr><td>Novel object</td><td> 9</td><td>2.01e-06</td><td>0.09440</td></tr>\n",
       "\t<tr><td>Novel object</td><td>10</td><td>2.93e-01</td><td>0.01900</td></tr>\n",
       "\t<tr><td>Novel object</td><td>11</td><td>3.87e-01</td><td>0.01540</td></tr>\n",
       "\t<tr><td>Novel object</td><td>12</td><td>4.75e-01</td><td>0.01350</td></tr>\n",
       "\t<tr><td>Novel object</td><td>13</td><td>3.62e-01</td><td>0.01480</td></tr>\n",
       "\t<tr><td>Novel object</td><td>14</td><td>8.68e-01</td><td>0.00513</td></tr>\n",
       "\t<tr><td>Novel object</td><td>15</td><td>6.97e-01</td><td>0.00938</td></tr>\n",
       "</tbody>\n",
       "</table>\n"
      ],
      "text/latex": [
       "A data.table: 30 × 4\n",
       "\\begin{tabular}{llll}\n",
       " Assay component & HMM State & p-value (FDR-adjusted) & Variance explained\\\\\n",
       " <chr> & <int> & <chr> & <dbl>\\\\\n",
       "\\hline\n",
       "\t Open field   &  1 & 1.17e-24 & 0.29700\\\\\n",
       "\t Open field   &  2 & 4.75e-07 & 0.10100\\\\\n",
       "\t Open field   &  3 & 6.42e-07 & 0.09770\\\\\n",
       "\t Open field   &  4 & 6.06e-21 & 0.26100\\\\\n",
       "\t Open field   &  5 & 2.36e-02 & 0.03580\\\\\n",
       "\t Open field   &  6 & 1.73e-02 & 0.03840\\\\\n",
       "\t Open field   &  7 & 5.54e-07 & 0.09640\\\\\n",
       "\t Open field   &  8 & 3.76e-05 & 0.06990\\\\\n",
       "\t Open field   &  9 & 8.54e-05 & 0.06730\\\\\n",
       "\t Open field   & 10 & 3.80e-01 & 0.01610\\\\\n",
       "\t Open field   & 11 & 2.36e-01 & 0.02090\\\\\n",
       "\t Open field   & 12 & 3.11e-01 & 0.01850\\\\\n",
       "\t Open field   & 13 & 5.35e-03 & 0.04520\\\\\n",
       "\t Open field   & 14 & 2.01e-02 & 0.04060\\\\\n",
       "\t Open field   & 15 & 1.98e-01 & 0.02210\\\\\n",
       "\t Novel object &  1 & 2.79e-13 & 0.17500\\\\\n",
       "\t Novel object &  2 & 1.53e-07 & 0.10900\\\\\n",
       "\t Novel object &  3 & 2.25e-07 & 0.10600\\\\\n",
       "\t Novel object &  4 & 5.85e-10 & 0.13900\\\\\n",
       "\t Novel object &  5 & 1.48e-04 & 0.06810\\\\\n",
       "\t Novel object &  6 & 1.56e-04 & 0.06810\\\\\n",
       "\t Novel object &  7 & 2.25e-07 & 0.10300\\\\\n",
       "\t Novel object &  8 & 7.52e-01 & 0.00636\\\\\n",
       "\t Novel object &  9 & 2.01e-06 & 0.09440\\\\\n",
       "\t Novel object & 10 & 2.93e-01 & 0.01900\\\\\n",
       "\t Novel object & 11 & 3.87e-01 & 0.01540\\\\\n",
       "\t Novel object & 12 & 4.75e-01 & 0.01350\\\\\n",
       "\t Novel object & 13 & 3.62e-01 & 0.01480\\\\\n",
       "\t Novel object & 14 & 8.68e-01 & 0.00513\\\\\n",
       "\t Novel object & 15 & 6.97e-01 & 0.00938\\\\\n",
       "\\end{tabular}\n"
      ],
      "text/markdown": [
       "\n",
       "A data.table: 30 × 4\n",
       "\n",
       "| Assay component &lt;chr&gt; | HMM State &lt;int&gt; | p-value (FDR-adjusted) &lt;chr&gt; | Variance explained &lt;dbl&gt; |\n",
       "|---|---|---|---|\n",
       "| Open field   |  1 | 1.17e-24 | 0.29700 |\n",
       "| Open field   |  2 | 4.75e-07 | 0.10100 |\n",
       "| Open field   |  3 | 6.42e-07 | 0.09770 |\n",
       "| Open field   |  4 | 6.06e-21 | 0.26100 |\n",
       "| Open field   |  5 | 2.36e-02 | 0.03580 |\n",
       "| Open field   |  6 | 1.73e-02 | 0.03840 |\n",
       "| Open field   |  7 | 5.54e-07 | 0.09640 |\n",
       "| Open field   |  8 | 3.76e-05 | 0.06990 |\n",
       "| Open field   |  9 | 8.54e-05 | 0.06730 |\n",
       "| Open field   | 10 | 3.80e-01 | 0.01610 |\n",
       "| Open field   | 11 | 2.36e-01 | 0.02090 |\n",
       "| Open field   | 12 | 3.11e-01 | 0.01850 |\n",
       "| Open field   | 13 | 5.35e-03 | 0.04520 |\n",
       "| Open field   | 14 | 2.01e-02 | 0.04060 |\n",
       "| Open field   | 15 | 1.98e-01 | 0.02210 |\n",
       "| Novel object |  1 | 2.79e-13 | 0.17500 |\n",
       "| Novel object |  2 | 1.53e-07 | 0.10900 |\n",
       "| Novel object |  3 | 2.25e-07 | 0.10600 |\n",
       "| Novel object |  4 | 5.85e-10 | 0.13900 |\n",
       "| Novel object |  5 | 1.48e-04 | 0.06810 |\n",
       "| Novel object |  6 | 1.56e-04 | 0.06810 |\n",
       "| Novel object |  7 | 2.25e-07 | 0.10300 |\n",
       "| Novel object |  8 | 7.52e-01 | 0.00636 |\n",
       "| Novel object |  9 | 2.01e-06 | 0.09440 |\n",
       "| Novel object | 10 | 2.93e-01 | 0.01900 |\n",
       "| Novel object | 11 | 3.87e-01 | 0.01540 |\n",
       "| Novel object | 12 | 4.75e-01 | 0.01350 |\n",
       "| Novel object | 13 | 3.62e-01 | 0.01480 |\n",
       "| Novel object | 14 | 8.68e-01 | 0.00513 |\n",
       "| Novel object | 15 | 6.97e-01 | 0.00938 |\n",
       "\n"
      ],
      "text/plain": [
       "   Assay component HMM State p-value (FDR-adjusted) Variance explained\n",
       "1  Open field       1        1.17e-24               0.29700           \n",
       "2  Open field       2        4.75e-07               0.10100           \n",
       "3  Open field       3        6.42e-07               0.09770           \n",
       "4  Open field       4        6.06e-21               0.26100           \n",
       "5  Open field       5        2.36e-02               0.03580           \n",
       "6  Open field       6        1.73e-02               0.03840           \n",
       "7  Open field       7        5.54e-07               0.09640           \n",
       "8  Open field       8        3.76e-05               0.06990           \n",
       "9  Open field       9        8.54e-05               0.06730           \n",
       "10 Open field      10        3.80e-01               0.01610           \n",
       "11 Open field      11        2.36e-01               0.02090           \n",
       "12 Open field      12        3.11e-01               0.01850           \n",
       "13 Open field      13        5.35e-03               0.04520           \n",
       "14 Open field      14        2.01e-02               0.04060           \n",
       "15 Open field      15        1.98e-01               0.02210           \n",
       "16 Novel object     1        2.79e-13               0.17500           \n",
       "17 Novel object     2        1.53e-07               0.10900           \n",
       "18 Novel object     3        2.25e-07               0.10600           \n",
       "19 Novel object     4        5.85e-10               0.13900           \n",
       "20 Novel object     5        1.48e-04               0.06810           \n",
       "21 Novel object     6        1.56e-04               0.06810           \n",
       "22 Novel object     7        2.25e-07               0.10300           \n",
       "23 Novel object     8        7.52e-01               0.00636           \n",
       "24 Novel object     9        2.01e-06               0.09440           \n",
       "25 Novel object    10        2.93e-01               0.01900           \n",
       "26 Novel object    11        3.87e-01               0.01540           \n",
       "27 Novel object    12        4.75e-01               0.01350           \n",
       "28 Novel object    13        3.62e-01               0.01480           \n",
       "29 Novel object    14        8.68e-01               0.00513           \n",
       "30 Novel object    15        6.97e-01               0.00938           "
      ]
     },
     "metadata": {},
     "output_type": "display_data"
    }
   ],
   "source": [
    "pretty_df <- res[\n",
    "    var_name == \"test_strain\",\n",
    "    .(\n",
    "        `Assay component` = ifelse(assay == \"of\", \"Open field\", \"Novel object\"),\n",
    "        `HMM State` = hmm_state,\n",
    "        `p-value (FDR-adjusted)` = signif(q, 3) |> format(scientific = TRUE),\n",
    "        `Variance explained` = signif(var_exp, 3)\n",
    "    )\n",
    "]\n",
    "\n",
    "pretty_df"
   ]
  },
  {
   "cell_type": "code",
   "execution_count": 23,
   "id": "5851b055-0b98-4d50-b18a-f9b54bbfdbfd",
   "metadata": {},
   "outputs": [],
   "source": [
    "fwrite(pretty_df, \"tableS1.csv\")"
   ]
  }
 ],
 "metadata": {
  "kernelspec": {
   "display_name": "r_data_science",
   "language": "R",
   "name": "r_data_science"
  },
  "language_info": {
   "codemirror_mode": "r",
   "file_extension": ".r",
   "mimetype": "text/x-r-source",
   "name": "R",
   "pygments_lexer": "r",
   "version": "4.3.3"
  }
 },
 "nbformat": 4,
 "nbformat_minor": 5
}
