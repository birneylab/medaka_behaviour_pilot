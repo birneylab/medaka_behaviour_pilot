{
 "cells": [
  {
   "cell_type": "code",
   "execution_count": 1,
   "id": "14cb6345-af05-4b2c-acb6-c9c2792d03fb",
   "metadata": {
    "scrolled": true
   },
   "outputs": [
    {
     "name": "stderr",
     "output_type": "stream",
     "text": [
      "── \u001b[1mAttaching core tidyverse packages\u001b[22m ──────────────────────── tidyverse 2.0.0 ──\n",
      "\u001b[32m✔\u001b[39m \u001b[34mdplyr    \u001b[39m 1.1.4     \u001b[32m✔\u001b[39m \u001b[34mreadr    \u001b[39m 2.1.5\n",
      "\u001b[32m✔\u001b[39m \u001b[34mforcats  \u001b[39m 1.0.0     \u001b[32m✔\u001b[39m \u001b[34mstringr  \u001b[39m 1.5.1\n",
      "\u001b[32m✔\u001b[39m \u001b[34mggplot2  \u001b[39m 3.5.1     \u001b[32m✔\u001b[39m \u001b[34mtibble   \u001b[39m 3.2.1\n",
      "\u001b[32m✔\u001b[39m \u001b[34mlubridate\u001b[39m 1.9.3     \u001b[32m✔\u001b[39m \u001b[34mtidyr    \u001b[39m 1.3.1\n",
      "\u001b[32m✔\u001b[39m \u001b[34mpurrr    \u001b[39m 1.0.2     \n",
      "── \u001b[1mConflicts\u001b[22m ────────────────────────────────────────── tidyverse_conflicts() ──\n",
      "\u001b[31m✖\u001b[39m \u001b[34mdplyr\u001b[39m::\u001b[32mfilter()\u001b[39m masks \u001b[34mstats\u001b[39m::filter()\n",
      "\u001b[31m✖\u001b[39m \u001b[34mdplyr\u001b[39m::\u001b[32mlag()\u001b[39m    masks \u001b[34mstats\u001b[39m::lag()\n",
      "\u001b[36mℹ\u001b[39m Use the conflicted package (\u001b[3m\u001b[34m<http://conflicted.r-lib.org/>\u001b[39m\u001b[23m) to force all conflicts to become errors\n",
      "\n",
      "Attaching package: ‘data.table’\n",
      "\n",
      "\n",
      "The following objects are masked from ‘package:lubridate’:\n",
      "\n",
      "    hour, isoweek, mday, minute, month, quarter, second, wday, week,\n",
      "    yday, year\n",
      "\n",
      "\n",
      "The following objects are masked from ‘package:dplyr’:\n",
      "\n",
      "    between, first, last\n",
      "\n",
      "\n",
      "The following object is masked from ‘package:purrr’:\n",
      "\n",
      "    transpose\n",
      "\n",
      "\n",
      "\n",
      "Attaching package: ‘cowplot’\n",
      "\n",
      "\n",
      "The following object is masked from ‘package:lubridate’:\n",
      "\n",
      "    stamp\n",
      "\n",
      "\n"
     ]
    }
   ],
   "source": [
    "library(\"tidyverse\")\n",
    "library(\"data.table\")\n",
    "library(\"cowplot\")"
   ]
  },
  {
   "cell_type": "code",
   "execution_count": 2,
   "id": "dccaddd9-84b6-4c0f-bbaf-e61ed4a98e9e",
   "metadata": {},
   "outputs": [],
   "source": [
    "invnorm <- function(x) {\n",
    "  res <- rank(x)\n",
    "  res <- qnorm(res/(length(res)+0.5))\n",
    "  return(res)\n",
    "}"
   ]
  },
  {
   "cell_type": "code",
   "execution_count": 3,
   "id": "1631e2c6-2487-42ae-a7a3-f09c94a5487c",
   "metadata": {},
   "outputs": [],
   "source": [
    "extract_info <- function(the_var, sst, data, the_assay, the_state) {\n",
    "    pval <- data[the_var, \"Pr(>F)\"]\n",
    "    ss <- data[\"test_strain\", \"Sum Sq\"]\n",
    "    var_exp <- ss/sst\n",
    "    ret <- data.table(assay = the_assay, var_name = the_var, hmm_state = the_state, pval = pval, var_exp = var_exp)\n",
    "}"
   ]
  },
  {
   "cell_type": "code",
   "execution_count": 4,
   "id": "c2ebfaf5-4c33-4075-aafd-f1e37c777b21",
   "metadata": {},
   "outputs": [],
   "source": [
    "run_anova <- function(the_state, the_assay, data){\n",
    "    fit <- lm(f_state_norm ~ date + time_numeric + tank_side + quadrant + test_strain, data = data[assay == the_assay & hmm_state == the_state])\n",
    "    res <- aov(fit) |> summary()\n",
    "    sst <- res[[1]][, \"Sum Sq\"] |> sum()\n",
    "    ret <- lapply(\n",
    "        rownames(res[[1]]) |> trimws(), \n",
    "        extract_info,\n",
    "        sst = sst,\n",
    "        data = res[[1]],\n",
    "        the_assay = the_assay,\n",
    "        the_state = the_state\n",
    "    ) |> rbindlist()\n",
    "    return(ret)\n",
    "}"
   ]
  },
  {
   "cell_type": "code",
   "execution_count": 5,
   "id": "1d506fb4-1374-4579-ab21-54576d216221",
   "metadata": {},
   "outputs": [
    {
     "data": {
      "text/html": [
       "<table class=\"dataframe\">\n",
       "<caption>A data.table: 6 × 8</caption>\n",
       "<thead>\n",
       "\t<tr><th scope=col>hmm_state</th><th scope=col>mean_dist</th><th scope=col>id</th><th scope=col>frame_n</th><th scope=col>time_s</th><th scope=col>distance</th><th scope=col>angle</th><th scope=col>hmm_state_recoded</th></tr>\n",
       "\t<tr><th scope=col>&lt;int&gt;</th><th scope=col>&lt;dbl&gt;</th><th scope=col>&lt;chr&gt;</th><th scope=col>&lt;int&gt;</th><th scope=col>&lt;dbl&gt;</th><th scope=col>&lt;dbl&gt;</th><th scope=col>&lt;dbl&gt;</th><th scope=col>&lt;dbl&gt;</th></tr>\n",
       "</thead>\n",
       "<tbody>\n",
       "\t<tr><td>0</td><td>0.1005448</td><td>20190611_1331_icab_icab_R_no_q1_ref</td><td> 757</td><td>25.23333</td><td>0.2083191</td><td> 0.0000000</td><td>6</td></tr>\n",
       "\t<tr><td>0</td><td>0.1005448</td><td>20190611_1331_icab_icab_R_no_q1_ref</td><td> 761</td><td>25.36667</td><td>0.4425455</td><td> 0.0000000</td><td>6</td></tr>\n",
       "\t<tr><td>0</td><td>0.1005448</td><td>20190611_1331_icab_icab_R_no_q1_ref</td><td>1755</td><td>58.50000</td><td>1.2756671</td><td>-0.4597774</td><td>6</td></tr>\n",
       "\t<tr><td>0</td><td>0.1005448</td><td>20190611_1331_icab_icab_R_no_q1_ref</td><td>1779</td><td>59.30000</td><td>1.3794776</td><td>-0.1900450</td><td>6</td></tr>\n",
       "\t<tr><td>0</td><td>0.1005448</td><td>20190611_1331_icab_icab_R_no_q1_ref</td><td>1781</td><td>59.36667</td><td>1.3745458</td><td>-0.3463498</td><td>6</td></tr>\n",
       "\t<tr><td>0</td><td>0.1005448</td><td>20190611_1331_icab_icab_R_no_q1_ref</td><td>1787</td><td>59.56667</td><td>1.4936201</td><td>-0.3414281</td><td>6</td></tr>\n",
       "</tbody>\n",
       "</table>\n"
      ],
      "text/latex": [
       "A data.table: 6 × 8\n",
       "\\begin{tabular}{llllllll}\n",
       " hmm\\_state & mean\\_dist & id & frame\\_n & time\\_s & distance & angle & hmm\\_state\\_recoded\\\\\n",
       " <int> & <dbl> & <chr> & <int> & <dbl> & <dbl> & <dbl> & <dbl>\\\\\n",
       "\\hline\n",
       "\t 0 & 0.1005448 & 20190611\\_1331\\_icab\\_icab\\_R\\_no\\_q1\\_ref &  757 & 25.23333 & 0.2083191 &  0.0000000 & 6\\\\\n",
       "\t 0 & 0.1005448 & 20190611\\_1331\\_icab\\_icab\\_R\\_no\\_q1\\_ref &  761 & 25.36667 & 0.4425455 &  0.0000000 & 6\\\\\n",
       "\t 0 & 0.1005448 & 20190611\\_1331\\_icab\\_icab\\_R\\_no\\_q1\\_ref & 1755 & 58.50000 & 1.2756671 & -0.4597774 & 6\\\\\n",
       "\t 0 & 0.1005448 & 20190611\\_1331\\_icab\\_icab\\_R\\_no\\_q1\\_ref & 1779 & 59.30000 & 1.3794776 & -0.1900450 & 6\\\\\n",
       "\t 0 & 0.1005448 & 20190611\\_1331\\_icab\\_icab\\_R\\_no\\_q1\\_ref & 1781 & 59.36667 & 1.3745458 & -0.3463498 & 6\\\\\n",
       "\t 0 & 0.1005448 & 20190611\\_1331\\_icab\\_icab\\_R\\_no\\_q1\\_ref & 1787 & 59.56667 & 1.4936201 & -0.3414281 & 6\\\\\n",
       "\\end{tabular}\n"
      ],
      "text/markdown": [
       "\n",
       "A data.table: 6 × 8\n",
       "\n",
       "| hmm_state &lt;int&gt; | mean_dist &lt;dbl&gt; | id &lt;chr&gt; | frame_n &lt;int&gt; | time_s &lt;dbl&gt; | distance &lt;dbl&gt; | angle &lt;dbl&gt; | hmm_state_recoded &lt;dbl&gt; |\n",
       "|---|---|---|---|---|---|---|---|\n",
       "| 0 | 0.1005448 | 20190611_1331_icab_icab_R_no_q1_ref |  757 | 25.23333 | 0.2083191 |  0.0000000 | 6 |\n",
       "| 0 | 0.1005448 | 20190611_1331_icab_icab_R_no_q1_ref |  761 | 25.36667 | 0.4425455 |  0.0000000 | 6 |\n",
       "| 0 | 0.1005448 | 20190611_1331_icab_icab_R_no_q1_ref | 1755 | 58.50000 | 1.2756671 | -0.4597774 | 6 |\n",
       "| 0 | 0.1005448 | 20190611_1331_icab_icab_R_no_q1_ref | 1779 | 59.30000 | 1.3794776 | -0.1900450 | 6 |\n",
       "| 0 | 0.1005448 | 20190611_1331_icab_icab_R_no_q1_ref | 1781 | 59.36667 | 1.3745458 | -0.3463498 | 6 |\n",
       "| 0 | 0.1005448 | 20190611_1331_icab_icab_R_no_q1_ref | 1787 | 59.56667 | 1.4936201 | -0.3414281 | 6 |\n",
       "\n"
      ],
      "text/plain": [
       "  hmm_state mean_dist id                                  frame_n time_s  \n",
       "1 0         0.1005448 20190611_1331_icab_icab_R_no_q1_ref  757    25.23333\n",
       "2 0         0.1005448 20190611_1331_icab_icab_R_no_q1_ref  761    25.36667\n",
       "3 0         0.1005448 20190611_1331_icab_icab_R_no_q1_ref 1755    58.50000\n",
       "4 0         0.1005448 20190611_1331_icab_icab_R_no_q1_ref 1779    59.30000\n",
       "5 0         0.1005448 20190611_1331_icab_icab_R_no_q1_ref 1781    59.36667\n",
       "6 0         0.1005448 20190611_1331_icab_icab_R_no_q1_ref 1787    59.56667\n",
       "  distance  angle      hmm_state_recoded\n",
       "1 0.2083191  0.0000000 6                \n",
       "2 0.4425455  0.0000000 6                \n",
       "3 1.2756671 -0.4597774 6                \n",
       "4 1.3794776 -0.1900450 6                \n",
       "5 1.3745458 -0.3463498 6                \n",
       "6 1.4936201 -0.3414281 6                "
      ]
     },
     "metadata": {},
     "output_type": "display_data"
    }
   ],
   "source": [
    "df <- fread(\"/nfs/research/birney/users/saul/nextflow/medaka_behaviour_pilot/hmm/time_step0.08_n_states15_hmm.csv.gz\")\n",
    "df[, mean_dist := log10(mean(distance)), by = hmm_state]\n",
    "tmp <- df[, .(hmm_state, mean_dist)] |> distinct() |> as.data.table()\n",
    "tmp[, hmm_state_recoded := rank(mean_dist)]\n",
    "df <- merge(df, tmp, by = c(\"hmm_state\", \"mean_dist\"))\n",
    "head(df)"
   ]
  },
  {
   "cell_type": "code",
   "execution_count": 6,
   "id": "2120d3e4-181a-474a-b649-38d27681573f",
   "metadata": {},
   "outputs": [
    {
     "data": {
      "text/html": [
       "<table class=\"dataframe\">\n",
       "<caption>A data.table: 6 × 13</caption>\n",
       "<thead>\n",
       "\t<tr><th scope=col>id</th><th scope=col>date</th><th scope=col>time_string</th><th scope=col>ref_strain</th><th scope=col>test_strain</th><th scope=col>tank_side</th><th scope=col>assay</th><th scope=col>quadrant</th><th scope=col>fish_type</th><th scope=col>hmm_state</th><th scope=col>time_numeric_h</th><th scope=col>time_numeric_m</th><th scope=col>time_numeric</th></tr>\n",
       "\t<tr><th scope=col>&lt;chr&gt;</th><th scope=col>&lt;chr&gt;</th><th scope=col>&lt;chr&gt;</th><th scope=col>&lt;chr&gt;</th><th scope=col>&lt;chr&gt;</th><th scope=col>&lt;chr&gt;</th><th scope=col>&lt;chr&gt;</th><th scope=col>&lt;chr&gt;</th><th scope=col>&lt;chr&gt;</th><th scope=col>&lt;dbl&gt;</th><th scope=col>&lt;dbl&gt;</th><th scope=col>&lt;dbl&gt;</th><th scope=col>&lt;dbl&gt;</th></tr>\n",
       "</thead>\n",
       "<tbody>\n",
       "\t<tr><td>20190611_1331_icab_icab_R_no_q1_ref</td><td>20190611</td><td>1331</td><td>icab</td><td>icab</td><td>R</td><td>no</td><td>q1</td><td>ref</td><td>6</td><td>13</td><td>31</td><td>13.51667</td></tr>\n",
       "\t<tr><td>20190611_1331_icab_icab_R_no_q1_ref</td><td>20190611</td><td>1331</td><td>icab</td><td>icab</td><td>R</td><td>no</td><td>q1</td><td>ref</td><td>6</td><td>13</td><td>31</td><td>13.51667</td></tr>\n",
       "\t<tr><td>20190611_1331_icab_icab_R_no_q1_ref</td><td>20190611</td><td>1331</td><td>icab</td><td>icab</td><td>R</td><td>no</td><td>q1</td><td>ref</td><td>6</td><td>13</td><td>31</td><td>13.51667</td></tr>\n",
       "\t<tr><td>20190611_1331_icab_icab_R_no_q1_ref</td><td>20190611</td><td>1331</td><td>icab</td><td>icab</td><td>R</td><td>no</td><td>q1</td><td>ref</td><td>6</td><td>13</td><td>31</td><td>13.51667</td></tr>\n",
       "\t<tr><td>20190611_1331_icab_icab_R_no_q1_ref</td><td>20190611</td><td>1331</td><td>icab</td><td>icab</td><td>R</td><td>no</td><td>q1</td><td>ref</td><td>6</td><td>13</td><td>31</td><td>13.51667</td></tr>\n",
       "\t<tr><td>20190611_1331_icab_icab_R_no_q1_ref</td><td>20190611</td><td>1331</td><td>icab</td><td>icab</td><td>R</td><td>no</td><td>q1</td><td>ref</td><td>6</td><td>13</td><td>31</td><td>13.51667</td></tr>\n",
       "</tbody>\n",
       "</table>\n"
      ],
      "text/latex": [
       "A data.table: 6 × 13\n",
       "\\begin{tabular}{lllllllllllll}\n",
       " id & date & time\\_string & ref\\_strain & test\\_strain & tank\\_side & assay & quadrant & fish\\_type & hmm\\_state & time\\_numeric\\_h & time\\_numeric\\_m & time\\_numeric\\\\\n",
       " <chr> & <chr> & <chr> & <chr> & <chr> & <chr> & <chr> & <chr> & <chr> & <dbl> & <dbl> & <dbl> & <dbl>\\\\\n",
       "\\hline\n",
       "\t 20190611\\_1331\\_icab\\_icab\\_R\\_no\\_q1\\_ref & 20190611 & 1331 & icab & icab & R & no & q1 & ref & 6 & 13 & 31 & 13.51667\\\\\n",
       "\t 20190611\\_1331\\_icab\\_icab\\_R\\_no\\_q1\\_ref & 20190611 & 1331 & icab & icab & R & no & q1 & ref & 6 & 13 & 31 & 13.51667\\\\\n",
       "\t 20190611\\_1331\\_icab\\_icab\\_R\\_no\\_q1\\_ref & 20190611 & 1331 & icab & icab & R & no & q1 & ref & 6 & 13 & 31 & 13.51667\\\\\n",
       "\t 20190611\\_1331\\_icab\\_icab\\_R\\_no\\_q1\\_ref & 20190611 & 1331 & icab & icab & R & no & q1 & ref & 6 & 13 & 31 & 13.51667\\\\\n",
       "\t 20190611\\_1331\\_icab\\_icab\\_R\\_no\\_q1\\_ref & 20190611 & 1331 & icab & icab & R & no & q1 & ref & 6 & 13 & 31 & 13.51667\\\\\n",
       "\t 20190611\\_1331\\_icab\\_icab\\_R\\_no\\_q1\\_ref & 20190611 & 1331 & icab & icab & R & no & q1 & ref & 6 & 13 & 31 & 13.51667\\\\\n",
       "\\end{tabular}\n"
      ],
      "text/markdown": [
       "\n",
       "A data.table: 6 × 13\n",
       "\n",
       "| id &lt;chr&gt; | date &lt;chr&gt; | time_string &lt;chr&gt; | ref_strain &lt;chr&gt; | test_strain &lt;chr&gt; | tank_side &lt;chr&gt; | assay &lt;chr&gt; | quadrant &lt;chr&gt; | fish_type &lt;chr&gt; | hmm_state &lt;dbl&gt; | time_numeric_h &lt;dbl&gt; | time_numeric_m &lt;dbl&gt; | time_numeric &lt;dbl&gt; |\n",
       "|---|---|---|---|---|---|---|---|---|---|---|---|---|\n",
       "| 20190611_1331_icab_icab_R_no_q1_ref | 20190611 | 1331 | icab | icab | R | no | q1 | ref | 6 | 13 | 31 | 13.51667 |\n",
       "| 20190611_1331_icab_icab_R_no_q1_ref | 20190611 | 1331 | icab | icab | R | no | q1 | ref | 6 | 13 | 31 | 13.51667 |\n",
       "| 20190611_1331_icab_icab_R_no_q1_ref | 20190611 | 1331 | icab | icab | R | no | q1 | ref | 6 | 13 | 31 | 13.51667 |\n",
       "| 20190611_1331_icab_icab_R_no_q1_ref | 20190611 | 1331 | icab | icab | R | no | q1 | ref | 6 | 13 | 31 | 13.51667 |\n",
       "| 20190611_1331_icab_icab_R_no_q1_ref | 20190611 | 1331 | icab | icab | R | no | q1 | ref | 6 | 13 | 31 | 13.51667 |\n",
       "| 20190611_1331_icab_icab_R_no_q1_ref | 20190611 | 1331 | icab | icab | R | no | q1 | ref | 6 | 13 | 31 | 13.51667 |\n",
       "\n"
      ],
      "text/plain": [
       "  id                                  date     time_string ref_strain\n",
       "1 20190611_1331_icab_icab_R_no_q1_ref 20190611 1331        icab      \n",
       "2 20190611_1331_icab_icab_R_no_q1_ref 20190611 1331        icab      \n",
       "3 20190611_1331_icab_icab_R_no_q1_ref 20190611 1331        icab      \n",
       "4 20190611_1331_icab_icab_R_no_q1_ref 20190611 1331        icab      \n",
       "5 20190611_1331_icab_icab_R_no_q1_ref 20190611 1331        icab      \n",
       "6 20190611_1331_icab_icab_R_no_q1_ref 20190611 1331        icab      \n",
       "  test_strain tank_side assay quadrant fish_type hmm_state time_numeric_h\n",
       "1 icab        R         no    q1       ref       6         13            \n",
       "2 icab        R         no    q1       ref       6         13            \n",
       "3 icab        R         no    q1       ref       6         13            \n",
       "4 icab        R         no    q1       ref       6         13            \n",
       "5 icab        R         no    q1       ref       6         13            \n",
       "6 icab        R         no    q1       ref       6         13            \n",
       "  time_numeric_m time_numeric\n",
       "1 31             13.51667    \n",
       "2 31             13.51667    \n",
       "3 31             13.51667    \n",
       "4 31             13.51667    \n",
       "5 31             13.51667    \n",
       "6 31             13.51667    "
      ]
     },
     "metadata": {},
     "output_type": "display_data"
    }
   ],
   "source": [
    "df_sum <- df[, .(id, hmm_state = hmm_state_recoded)] |>\n",
    "    separate(\n",
    "        id,\n",
    "        into = c(\"date\", \"time_string\", \"ref_strain\", \"test_strain\", \"tank_side\", \"assay\", \"quadrant\", \"fish_type\"),\n",
    "        sep = \"_\",\n",
    "        remove = FALSE\n",
    "    ) |>\n",
    "    as.data.table()\n",
    "\n",
    "df_sum[, time_numeric_h := str_remove(time_string, \"..$\") |> as.numeric()]\n",
    "df_sum[, time_numeric_m := str_remove(time_string, \"^..\") |> as.numeric()]\n",
    "df_sum[, time_numeric := time_numeric_h + (time_numeric_m/60)]\n",
    "\n",
    "head(df_sum)"
   ]
  },
  {
   "cell_type": "code",
   "execution_count": 8,
   "id": "fa03c0d6-1a06-44a3-af73-06c6661313d5",
   "metadata": {},
   "outputs": [
    {
     "data": {
      "text/html": [
       "<table class=\"dataframe\">\n",
       "<caption>A data.table: 6 × 10</caption>\n",
       "<thead>\n",
       "\t<tr><th scope=col>hmm_state</th><th scope=col>id</th><th scope=col>date</th><th scope=col>time_numeric</th><th scope=col>test_strain</th><th scope=col>tank_side</th><th scope=col>assay</th><th scope=col>quadrant</th><th scope=col>fish_type</th><th scope=col>f_state</th></tr>\n",
       "\t<tr><th scope=col>&lt;dbl&gt;</th><th scope=col>&lt;chr&gt;</th><th scope=col>&lt;chr&gt;</th><th scope=col>&lt;dbl&gt;</th><th scope=col>&lt;chr&gt;</th><th scope=col>&lt;chr&gt;</th><th scope=col>&lt;chr&gt;</th><th scope=col>&lt;chr&gt;</th><th scope=col>&lt;chr&gt;</th><th scope=col>&lt;dbl&gt;</th></tr>\n",
       "</thead>\n",
       "<tbody>\n",
       "\t<tr><td> 6</td><td>20190611_1331_icab_icab_R_no_q1_ref</td><td>20190611</td><td>13.51667</td><td>icab</td><td>R</td><td>no</td><td>q1</td><td>ref</td><td>0.06634808</td></tr>\n",
       "\t<tr><td>10</td><td>20190611_1331_icab_icab_R_no_q1_ref</td><td>20190611</td><td>13.51667</td><td>icab</td><td>R</td><td>no</td><td>q1</td><td>ref</td><td>0.02256057</td></tr>\n",
       "\t<tr><td>11</td><td>20190611_1331_icab_icab_R_no_q1_ref</td><td>20190611</td><td>13.51667</td><td>icab</td><td>R</td><td>no</td><td>q1</td><td>ref</td><td>0.06868193</td></tr>\n",
       "\t<tr><td> 3</td><td>20190611_1331_icab_icab_R_no_q1_ref</td><td>20190611</td><td>13.51667</td><td>icab</td><td>R</td><td>no</td><td>q1</td><td>ref</td><td>0.06490331</td></tr>\n",
       "\t<tr><td> 9</td><td>20190611_1331_icab_icab_R_no_q1_ref</td><td>20190611</td><td>13.51667</td><td>icab</td><td>R</td><td>no</td><td>q1</td><td>ref</td><td>0.17470549</td></tr>\n",
       "\t<tr><td> 2</td><td>20190611_1331_icab_icab_R_no_q1_ref</td><td>20190611</td><td>13.51667</td><td>icab</td><td>R</td><td>no</td><td>q1</td><td>ref</td><td>0.06645921</td></tr>\n",
       "</tbody>\n",
       "</table>\n"
      ],
      "text/latex": [
       "A data.table: 6 × 10\n",
       "\\begin{tabular}{llllllllll}\n",
       " hmm\\_state & id & date & time\\_numeric & test\\_strain & tank\\_side & assay & quadrant & fish\\_type & f\\_state\\\\\n",
       " <dbl> & <chr> & <chr> & <dbl> & <chr> & <chr> & <chr> & <chr> & <chr> & <dbl>\\\\\n",
       "\\hline\n",
       "\t  6 & 20190611\\_1331\\_icab\\_icab\\_R\\_no\\_q1\\_ref & 20190611 & 13.51667 & icab & R & no & q1 & ref & 0.06634808\\\\\n",
       "\t 10 & 20190611\\_1331\\_icab\\_icab\\_R\\_no\\_q1\\_ref & 20190611 & 13.51667 & icab & R & no & q1 & ref & 0.02256057\\\\\n",
       "\t 11 & 20190611\\_1331\\_icab\\_icab\\_R\\_no\\_q1\\_ref & 20190611 & 13.51667 & icab & R & no & q1 & ref & 0.06868193\\\\\n",
       "\t  3 & 20190611\\_1331\\_icab\\_icab\\_R\\_no\\_q1\\_ref & 20190611 & 13.51667 & icab & R & no & q1 & ref & 0.06490331\\\\\n",
       "\t  9 & 20190611\\_1331\\_icab\\_icab\\_R\\_no\\_q1\\_ref & 20190611 & 13.51667 & icab & R & no & q1 & ref & 0.17470549\\\\\n",
       "\t  2 & 20190611\\_1331\\_icab\\_icab\\_R\\_no\\_q1\\_ref & 20190611 & 13.51667 & icab & R & no & q1 & ref & 0.06645921\\\\\n",
       "\\end{tabular}\n"
      ],
      "text/markdown": [
       "\n",
       "A data.table: 6 × 10\n",
       "\n",
       "| hmm_state &lt;dbl&gt; | id &lt;chr&gt; | date &lt;chr&gt; | time_numeric &lt;dbl&gt; | test_strain &lt;chr&gt; | tank_side &lt;chr&gt; | assay &lt;chr&gt; | quadrant &lt;chr&gt; | fish_type &lt;chr&gt; | f_state &lt;dbl&gt; |\n",
       "|---|---|---|---|---|---|---|---|---|---|\n",
       "|  6 | 20190611_1331_icab_icab_R_no_q1_ref | 20190611 | 13.51667 | icab | R | no | q1 | ref | 0.06634808 |\n",
       "| 10 | 20190611_1331_icab_icab_R_no_q1_ref | 20190611 | 13.51667 | icab | R | no | q1 | ref | 0.02256057 |\n",
       "| 11 | 20190611_1331_icab_icab_R_no_q1_ref | 20190611 | 13.51667 | icab | R | no | q1 | ref | 0.06868193 |\n",
       "|  3 | 20190611_1331_icab_icab_R_no_q1_ref | 20190611 | 13.51667 | icab | R | no | q1 | ref | 0.06490331 |\n",
       "|  9 | 20190611_1331_icab_icab_R_no_q1_ref | 20190611 | 13.51667 | icab | R | no | q1 | ref | 0.17470549 |\n",
       "|  2 | 20190611_1331_icab_icab_R_no_q1_ref | 20190611 | 13.51667 | icab | R | no | q1 | ref | 0.06645921 |\n",
       "\n"
      ],
      "text/plain": [
       "  hmm_state id                                  date     time_numeric\n",
       "1  6        20190611_1331_icab_icab_R_no_q1_ref 20190611 13.51667    \n",
       "2 10        20190611_1331_icab_icab_R_no_q1_ref 20190611 13.51667    \n",
       "3 11        20190611_1331_icab_icab_R_no_q1_ref 20190611 13.51667    \n",
       "4  3        20190611_1331_icab_icab_R_no_q1_ref 20190611 13.51667    \n",
       "5  9        20190611_1331_icab_icab_R_no_q1_ref 20190611 13.51667    \n",
       "6  2        20190611_1331_icab_icab_R_no_q1_ref 20190611 13.51667    \n",
       "  test_strain tank_side assay quadrant fish_type f_state   \n",
       "1 icab        R         no    q1       ref       0.06634808\n",
       "2 icab        R         no    q1       ref       0.02256057\n",
       "3 icab        R         no    q1       ref       0.06868193\n",
       "4 icab        R         no    q1       ref       0.06490331\n",
       "5 icab        R         no    q1       ref       0.17470549\n",
       "6 icab        R         no    q1       ref       0.06645921"
      ]
     },
     "metadata": {},
     "output_type": "display_data"
    }
   ],
   "source": [
    "df_sge <- df_sum[\n",
    "    fish_type == \"ref\" | test_strain == \"icab\", # I can use both fish in icab/icab pairs\n",
    "    .(hmm_state, n_tot = .N), by = c(\"id\", \"date\", \"time_numeric\", \"test_strain\", \"tank_side\", \"assay\", \"quadrant\", \"fish_type\")\n",
    "][\n",
    "    , .(f_state = .N/unique(n_tot)), by = c(\"hmm_state\", \"id\", \"date\", \"time_numeric\", \"test_strain\", \"tank_side\", \"assay\", \"quadrant\", \"fish_type\")\n",
    "]\n",
    "head(df_sge)"
   ]
  },
  {
   "cell_type": "code",
   "execution_count": 9,
   "id": "8ae74c4b-7d02-4122-b1ee-db987766629f",
   "metadata": {},
   "outputs": [
    {
     "data": {
      "text/html": [
       "<table class=\"dataframe\">\n",
       "<caption>A data.table: 5 × 2</caption>\n",
       "<thead>\n",
       "\t<tr><th scope=col>test_strain</th><th scope=col>N</th></tr>\n",
       "\t<tr><th scope=col>&lt;chr&gt;</th><th scope=col>&lt;int&gt;</th></tr>\n",
       "</thead>\n",
       "<tbody>\n",
       "\t<tr><td>icab</td><td>4043</td></tr>\n",
       "\t<tr><td>kaga</td><td>1382</td></tr>\n",
       "\t<tr><td>hni </td><td>2234</td></tr>\n",
       "\t<tr><td>hdr </td><td>1783</td></tr>\n",
       "\t<tr><td>ho5 </td><td>1678</td></tr>\n",
       "</tbody>\n",
       "</table>\n"
      ],
      "text/latex": [
       "A data.table: 5 × 2\n",
       "\\begin{tabular}{ll}\n",
       " test\\_strain & N\\\\\n",
       " <chr> & <int>\\\\\n",
       "\\hline\n",
       "\t icab & 4043\\\\\n",
       "\t kaga & 1382\\\\\n",
       "\t hni  & 2234\\\\\n",
       "\t hdr  & 1783\\\\\n",
       "\t ho5  & 1678\\\\\n",
       "\\end{tabular}\n"
      ],
      "text/markdown": [
       "\n",
       "A data.table: 5 × 2\n",
       "\n",
       "| test_strain &lt;chr&gt; | N &lt;int&gt; |\n",
       "|---|---|\n",
       "| icab | 4043 |\n",
       "| kaga | 1382 |\n",
       "| hni  | 2234 |\n",
       "| hdr  | 1783 |\n",
       "| ho5  | 1678 |\n",
       "\n"
      ],
      "text/plain": [
       "  test_strain N   \n",
       "1 icab        4043\n",
       "2 kaga        1382\n",
       "3 hni         2234\n",
       "4 hdr         1783\n",
       "5 ho5         1678"
      ]
     },
     "metadata": {},
     "output_type": "display_data"
    }
   ],
   "source": [
    "df_sge[, .N, by = test_strain]"
   ]
  },
  {
   "cell_type": "code",
   "execution_count": 10,
   "id": "04959230-2f77-40dc-a4b2-3d01aac94adc",
   "metadata": {},
   "outputs": [
    {
     "data": {
      "text/html": [
       "<table class=\"dataframe\">\n",
       "<caption>A data.table: 2 × 2</caption>\n",
       "<thead>\n",
       "\t<tr><th scope=col>fish_type</th><th scope=col>N</th></tr>\n",
       "\t<tr><th scope=col>&lt;chr&gt;</th><th scope=col>&lt;int&gt;</th></tr>\n",
       "</thead>\n",
       "<tbody>\n",
       "\t<tr><td>ref </td><td>9094</td></tr>\n",
       "\t<tr><td>test</td><td>2026</td></tr>\n",
       "</tbody>\n",
       "</table>\n"
      ],
      "text/latex": [
       "A data.table: 2 × 2\n",
       "\\begin{tabular}{ll}\n",
       " fish\\_type & N\\\\\n",
       " <chr> & <int>\\\\\n",
       "\\hline\n",
       "\t ref  & 9094\\\\\n",
       "\t test & 2026\\\\\n",
       "\\end{tabular}\n"
      ],
      "text/markdown": [
       "\n",
       "A data.table: 2 × 2\n",
       "\n",
       "| fish_type &lt;chr&gt; | N &lt;int&gt; |\n",
       "|---|---|\n",
       "| ref  | 9094 |\n",
       "| test | 2026 |\n",
       "\n"
      ],
      "text/plain": [
       "  fish_type N   \n",
       "1 ref       9094\n",
       "2 test      2026"
      ]
     },
     "metadata": {},
     "output_type": "display_data"
    }
   ],
   "source": [
    "df_sge[, .N, by = fish_type]"
   ]
  },
  {
   "cell_type": "code",
   "execution_count": 11,
   "id": "6887746f-fe59-4461-b6f8-34e441b20f99",
   "metadata": {},
   "outputs": [],
   "source": [
    "df_sge[, .(res = sum(f_state) - 1 < .Machine$double.eps), by = id][, all(res)] |> stopifnot()"
   ]
  },
  {
   "cell_type": "code",
   "execution_count": 12,
   "id": "676b7769-5b5a-4095-87bf-97fb5addb7c4",
   "metadata": {},
   "outputs": [],
   "source": [
    "df_sge[, f_state_norm := invnorm(f_state), by = c(\"assay\", \"hmm_state\")]"
   ]
  },
  {
   "cell_type": "code",
   "execution_count": 13,
   "id": "61a30405-8202-4fcb-a0bf-baac2397d037",
   "metadata": {},
   "outputs": [],
   "source": [
    "res <- list(\n",
    "    of = lapply(1:15, run_anova, data = df_sge, the_assay = \"of\"),\n",
    "    no = lapply(1:15, run_anova, data = df_sge, the_assay = \"no\")\n",
    ") |>\n",
    "    lapply(rbindlist) |>\n",
    "    rbindlist()"
   ]
  },
  {
   "cell_type": "code",
   "execution_count": 14,
   "id": "a000b39f-f595-460c-9b94-ff403acd24fd",
   "metadata": {},
   "outputs": [
    {
     "data": {
      "text/html": [
       "<table class=\"dataframe\">\n",
       "<caption>A data.table: 6 × 5</caption>\n",
       "<thead>\n",
       "\t<tr><th scope=col>assay</th><th scope=col>var_name</th><th scope=col>hmm_state</th><th scope=col>pval</th><th scope=col>var_exp</th></tr>\n",
       "\t<tr><th scope=col>&lt;chr&gt;</th><th scope=col>&lt;chr&gt;</th><th scope=col>&lt;int&gt;</th><th scope=col>&lt;dbl&gt;</th><th scope=col>&lt;dbl&gt;</th></tr>\n",
       "</thead>\n",
       "<tbody>\n",
       "\t<tr><td>of</td><td>date        </td><td>1</td><td>4.823720e-01</td><td>0.08148103</td></tr>\n",
       "\t<tr><td>of</td><td>time_numeric</td><td>1</td><td>8.988113e-01</td><td>0.08148103</td></tr>\n",
       "\t<tr><td>of</td><td>tank_side   </td><td>1</td><td>7.855785e-02</td><td>0.08148103</td></tr>\n",
       "\t<tr><td>of</td><td>quadrant    </td><td>1</td><td>6.099329e-02</td><td>0.08148103</td></tr>\n",
       "\t<tr><td>of</td><td>test_strain </td><td>1</td><td>1.996251e-06</td><td>0.08148103</td></tr>\n",
       "\t<tr><td>of</td><td>Residuals   </td><td>1</td><td>          NA</td><td>0.08148103</td></tr>\n",
       "</tbody>\n",
       "</table>\n"
      ],
      "text/latex": [
       "A data.table: 6 × 5\n",
       "\\begin{tabular}{lllll}\n",
       " assay & var\\_name & hmm\\_state & pval & var\\_exp\\\\\n",
       " <chr> & <chr> & <int> & <dbl> & <dbl>\\\\\n",
       "\\hline\n",
       "\t of & date         & 1 & 4.823720e-01 & 0.08148103\\\\\n",
       "\t of & time\\_numeric & 1 & 8.988113e-01 & 0.08148103\\\\\n",
       "\t of & tank\\_side    & 1 & 7.855785e-02 & 0.08148103\\\\\n",
       "\t of & quadrant     & 1 & 6.099329e-02 & 0.08148103\\\\\n",
       "\t of & test\\_strain  & 1 & 1.996251e-06 & 0.08148103\\\\\n",
       "\t of & Residuals    & 1 &           NA & 0.08148103\\\\\n",
       "\\end{tabular}\n"
      ],
      "text/markdown": [
       "\n",
       "A data.table: 6 × 5\n",
       "\n",
       "| assay &lt;chr&gt; | var_name &lt;chr&gt; | hmm_state &lt;int&gt; | pval &lt;dbl&gt; | var_exp &lt;dbl&gt; |\n",
       "|---|---|---|---|---|\n",
       "| of | date         | 1 | 4.823720e-01 | 0.08148103 |\n",
       "| of | time_numeric | 1 | 8.988113e-01 | 0.08148103 |\n",
       "| of | tank_side    | 1 | 7.855785e-02 | 0.08148103 |\n",
       "| of | quadrant     | 1 | 6.099329e-02 | 0.08148103 |\n",
       "| of | test_strain  | 1 | 1.996251e-06 | 0.08148103 |\n",
       "| of | Residuals    | 1 |           NA | 0.08148103 |\n",
       "\n"
      ],
      "text/plain": [
       "  assay var_name     hmm_state pval         var_exp   \n",
       "1 of    date         1         4.823720e-01 0.08148103\n",
       "2 of    time_numeric 1         8.988113e-01 0.08148103\n",
       "3 of    tank_side    1         7.855785e-02 0.08148103\n",
       "4 of    quadrant     1         6.099329e-02 0.08148103\n",
       "5 of    test_strain  1         1.996251e-06 0.08148103\n",
       "6 of    Residuals    1                   NA 0.08148103"
      ]
     },
     "metadata": {},
     "output_type": "display_data"
    }
   ],
   "source": [
    "head(res)"
   ]
  },
  {
   "cell_type": "code",
   "execution_count": 15,
   "id": "f1a3373c-33f4-4b19-ae7b-c8b2e90313f4",
   "metadata": {},
   "outputs": [],
   "source": [
    "res <- res[var_name != \"Residuals\"]"
   ]
  },
  {
   "cell_type": "code",
   "execution_count": 16,
   "id": "0f395337-2cd7-4039-8faf-c9ca547e6c1d",
   "metadata": {},
   "outputs": [],
   "source": [
    "res[, q := p.adjust(pval, method = \"fdr\")]\n",
    "res[, sig := q < 0.05]"
   ]
  },
  {
   "cell_type": "code",
   "execution_count": 17,
   "id": "96f72434-5b17-460a-9865-d41ee02eba73",
   "metadata": {},
   "outputs": [
    {
     "data": {
      "text/html": [
       "<table class=\"dataframe\">\n",
       "<caption>A data.table: 4 × 5</caption>\n",
       "<thead>\n",
       "\t<tr><th scope=col>sig</th><th scope=col>assay</th><th scope=col>n</th><th scope=col>min</th><th scope=col>max</th></tr>\n",
       "\t<tr><th scope=col>&lt;lgl&gt;</th><th scope=col>&lt;chr&gt;</th><th scope=col>&lt;int&gt;</th><th scope=col>&lt;dbl&gt;</th><th scope=col>&lt;dbl&gt;</th></tr>\n",
       "</thead>\n",
       "<tbody>\n",
       "\t<tr><td> TRUE</td><td>of</td><td> 2</td><td>1.58e-05</td><td>2.99e-05</td></tr>\n",
       "\t<tr><td>FALSE</td><td>of</td><td>13</td><td>9.43e-02</td><td>8.91e-01</td></tr>\n",
       "\t<tr><td> TRUE</td><td>no</td><td> 3</td><td>1.90e-05</td><td>1.54e-02</td></tr>\n",
       "\t<tr><td>FALSE</td><td>no</td><td>12</td><td>5.62e-02</td><td>4.26e-01</td></tr>\n",
       "</tbody>\n",
       "</table>\n"
      ],
      "text/latex": [
       "A data.table: 4 × 5\n",
       "\\begin{tabular}{lllll}\n",
       " sig & assay & n & min & max\\\\\n",
       " <lgl> & <chr> & <int> & <dbl> & <dbl>\\\\\n",
       "\\hline\n",
       "\t  TRUE & of &  2 & 1.58e-05 & 2.99e-05\\\\\n",
       "\t FALSE & of & 13 & 9.43e-02 & 8.91e-01\\\\\n",
       "\t  TRUE & no &  3 & 1.90e-05 & 1.54e-02\\\\\n",
       "\t FALSE & no & 12 & 5.62e-02 & 4.26e-01\\\\\n",
       "\\end{tabular}\n"
      ],
      "text/markdown": [
       "\n",
       "A data.table: 4 × 5\n",
       "\n",
       "| sig &lt;lgl&gt; | assay &lt;chr&gt; | n &lt;int&gt; | min &lt;dbl&gt; | max &lt;dbl&gt; |\n",
       "|---|---|---|---|---|\n",
       "|  TRUE | of |  2 | 1.58e-05 | 2.99e-05 |\n",
       "| FALSE | of | 13 | 9.43e-02 | 8.91e-01 |\n",
       "|  TRUE | no |  3 | 1.90e-05 | 1.54e-02 |\n",
       "| FALSE | no | 12 | 5.62e-02 | 4.26e-01 |\n",
       "\n"
      ],
      "text/plain": [
       "  sig   assay n  min      max     \n",
       "1  TRUE of     2 1.58e-05 2.99e-05\n",
       "2 FALSE of    13 9.43e-02 8.91e-01\n",
       "3  TRUE no     3 1.90e-05 1.54e-02\n",
       "4 FALSE no    12 5.62e-02 4.26e-01"
      ]
     },
     "metadata": {},
     "output_type": "display_data"
    }
   ],
   "source": [
    "res[var_name == \"test_strain\", .(n = .N, min = min(q) |> signif(3), max = max(q) |> signif(3)), by = c(\"sig\", \"assay\")]"
   ]
  },
  {
   "cell_type": "code",
   "execution_count": 18,
   "id": "b89c91d2-6457-4bc4-ae42-955d29b5313e",
   "metadata": {},
   "outputs": [
    {
     "data": {
      "text/html": [
       "0.0864"
      ],
      "text/latex": [
       "0.0864"
      ],
      "text/markdown": [
       "0.0864"
      ],
      "text/plain": [
       "[1] 0.0864"
      ]
     },
     "metadata": {},
     "output_type": "display_data"
    }
   ],
   "source": [
    "res[var_name == \"test_strain\", max(var_exp) |> signif(3)]"
   ]
  },
  {
   "cell_type": "code",
   "execution_count": 19,
   "id": "5641cf27-a172-4e1f-850f-b5f9515a67bd",
   "metadata": {},
   "outputs": [
    {
     "data": {
      "text/html": [
       "<table class=\"dataframe\">\n",
       "<caption>A data.table: 7 × 4</caption>\n",
       "<thead>\n",
       "\t<tr><th scope=col>assay</th><th scope=col>var_name</th><th scope=col>max</th><th scope=col>min</th></tr>\n",
       "\t<tr><th scope=col>&lt;chr&gt;</th><th scope=col>&lt;chr&gt;</th><th scope=col>&lt;dbl&gt;</th><th scope=col>&lt;dbl&gt;</th></tr>\n",
       "</thead>\n",
       "<tbody>\n",
       "\t<tr><td>of</td><td>tank_side   </td><td>0.01465638</td><td>3.689633e-03</td></tr>\n",
       "\t<tr><td>of</td><td>date        </td><td>0.03264000</td><td>5.079771e-08</td></tr>\n",
       "\t<tr><td>of</td><td>time_numeric</td><td>0.03997067</td><td>2.313998e-04</td></tr>\n",
       "\t<tr><td>no</td><td>date        </td><td>0.01671990</td><td>4.406312e-08</td></tr>\n",
       "\t<tr><td>no</td><td>time_numeric</td><td>0.03264000</td><td>4.912461e-03</td></tr>\n",
       "\t<tr><td>no</td><td>tank_side   </td><td>0.03264000</td><td>3.264000e-02</td></tr>\n",
       "\t<tr><td>no</td><td>quadrant    </td><td>0.04677343</td><td>4.677343e-02</td></tr>\n",
       "</tbody>\n",
       "</table>\n"
      ],
      "text/latex": [
       "A data.table: 7 × 4\n",
       "\\begin{tabular}{llll}\n",
       " assay & var\\_name & max & min\\\\\n",
       " <chr> & <chr> & <dbl> & <dbl>\\\\\n",
       "\\hline\n",
       "\t of & tank\\_side    & 0.01465638 & 3.689633e-03\\\\\n",
       "\t of & date         & 0.03264000 & 5.079771e-08\\\\\n",
       "\t of & time\\_numeric & 0.03997067 & 2.313998e-04\\\\\n",
       "\t no & date         & 0.01671990 & 4.406312e-08\\\\\n",
       "\t no & time\\_numeric & 0.03264000 & 4.912461e-03\\\\\n",
       "\t no & tank\\_side    & 0.03264000 & 3.264000e-02\\\\\n",
       "\t no & quadrant     & 0.04677343 & 4.677343e-02\\\\\n",
       "\\end{tabular}\n"
      ],
      "text/markdown": [
       "\n",
       "A data.table: 7 × 4\n",
       "\n",
       "| assay &lt;chr&gt; | var_name &lt;chr&gt; | max &lt;dbl&gt; | min &lt;dbl&gt; |\n",
       "|---|---|---|---|\n",
       "| of | tank_side    | 0.01465638 | 3.689633e-03 |\n",
       "| of | date         | 0.03264000 | 5.079771e-08 |\n",
       "| of | time_numeric | 0.03997067 | 2.313998e-04 |\n",
       "| no | date         | 0.01671990 | 4.406312e-08 |\n",
       "| no | time_numeric | 0.03264000 | 4.912461e-03 |\n",
       "| no | tank_side    | 0.03264000 | 3.264000e-02 |\n",
       "| no | quadrant     | 0.04677343 | 4.677343e-02 |\n",
       "\n"
      ],
      "text/plain": [
       "  assay var_name     max        min         \n",
       "1 of    tank_side    0.01465638 3.689633e-03\n",
       "2 of    date         0.03264000 5.079771e-08\n",
       "3 of    time_numeric 0.03997067 2.313998e-04\n",
       "4 no    date         0.01671990 4.406312e-08\n",
       "5 no    time_numeric 0.03264000 4.912461e-03\n",
       "6 no    tank_side    0.03264000 3.264000e-02\n",
       "7 no    quadrant     0.04677343 4.677343e-02"
      ]
     },
     "metadata": {},
     "output_type": "display_data"
    }
   ],
   "source": [
    "res[var_name != \"test_strain\" & sig == TRUE, .(max = max(q), min = min(q)), by = c(\"assay\", \"var_name\")]"
   ]
  },
  {
   "cell_type": "code",
   "execution_count": 20,
   "id": "87586d86-d5fc-41d6-ad13-b1b11f2b02cd",
   "metadata": {},
   "outputs": [
    {
     "data": {
      "text/html": [
       "<table class=\"dataframe\">\n",
       "<caption>A data.table: 2 × 3</caption>\n",
       "<thead>\n",
       "\t<tr><th scope=col>assay</th><th scope=col>max</th><th scope=col>min</th></tr>\n",
       "\t<tr><th scope=col>&lt;chr&gt;</th><th scope=col>&lt;dbl&gt;</th><th scope=col>&lt;dbl&gt;</th></tr>\n",
       "</thead>\n",
       "<tbody>\n",
       "\t<tr><td>of</td><td>0.865</td><td>5.08e-08</td></tr>\n",
       "\t<tr><td>no</td><td>0.881</td><td>4.41e-08</td></tr>\n",
       "</tbody>\n",
       "</table>\n"
      ],
      "text/latex": [
       "A data.table: 2 × 3\n",
       "\\begin{tabular}{lll}\n",
       " assay & max & min\\\\\n",
       " <chr> & <dbl> & <dbl>\\\\\n",
       "\\hline\n",
       "\t of & 0.865 & 5.08e-08\\\\\n",
       "\t no & 0.881 & 4.41e-08\\\\\n",
       "\\end{tabular}\n"
      ],
      "text/markdown": [
       "\n",
       "A data.table: 2 × 3\n",
       "\n",
       "| assay &lt;chr&gt; | max &lt;dbl&gt; | min &lt;dbl&gt; |\n",
       "|---|---|---|\n",
       "| of | 0.865 | 5.08e-08 |\n",
       "| no | 0.881 | 4.41e-08 |\n",
       "\n"
      ],
      "text/plain": [
       "  assay max   min     \n",
       "1 of    0.865 5.08e-08\n",
       "2 no    0.881 4.41e-08"
      ]
     },
     "metadata": {},
     "output_type": "display_data"
    }
   ],
   "source": [
    "res[var_name %in% c(\"quadrant\", \"date\"), .(max = max(q) |> signif(3), min = min(q) |> signif(3)), by = c(\"assay\")]"
   ]
  },
  {
   "cell_type": "code",
   "execution_count": 21,
   "id": "08bd947e-a0b9-410f-bdc9-16b0a229dbd3",
   "metadata": {},
   "outputs": [
    {
     "data": {
      "text/html": [
       "<table class=\"dataframe\">\n",
       "<caption>A data.table: 6 × 8</caption>\n",
       "<thead>\n",
       "\t<tr><th scope=col>assay</th><th scope=col>var_name</th><th scope=col>hmm_state</th><th scope=col>pval</th><th scope=col>var_exp</th><th scope=col>q</th><th scope=col>sig</th><th scope=col>q.signif</th></tr>\n",
       "\t<tr><th scope=col>&lt;chr&gt;</th><th scope=col>&lt;chr&gt;</th><th scope=col>&lt;int&gt;</th><th scope=col>&lt;dbl&gt;</th><th scope=col>&lt;dbl&gt;</th><th scope=col>&lt;dbl&gt;</th><th scope=col>&lt;lgl&gt;</th><th scope=col>&lt;chr&gt;</th></tr>\n",
       "</thead>\n",
       "<tbody>\n",
       "\t<tr><td>of</td><td>date        </td><td>1</td><td>4.823720e-01</td><td>0.081481028</td><td>5.930803e-01</td><td>FALSE</td><td>ns  </td></tr>\n",
       "\t<tr><td>of</td><td>time_numeric</td><td>1</td><td>8.988113e-01</td><td>0.081481028</td><td>9.048436e-01</td><td>FALSE</td><td>ns  </td></tr>\n",
       "\t<tr><td>of</td><td>tank_side   </td><td>1</td><td>7.855785e-02</td><td>0.081481028</td><td>1.914089e-01</td><td>FALSE</td><td>ns  </td></tr>\n",
       "\t<tr><td>of</td><td>quadrant    </td><td>1</td><td>6.099329e-02</td><td>0.081481028</td><td>1.663453e-01</td><td>FALSE</td><td>ns  </td></tr>\n",
       "\t<tr><td>of</td><td>test_strain </td><td>1</td><td>1.996251e-06</td><td>0.081481028</td><td>2.994376e-05</td><td> TRUE</td><td>****</td></tr>\n",
       "\t<tr><td>of</td><td>date        </td><td>2</td><td>1.128740e-01</td><td>0.003611797</td><td>2.351542e-01</td><td>FALSE</td><td>ns  </td></tr>\n",
       "</tbody>\n",
       "</table>\n"
      ],
      "text/latex": [
       "A data.table: 6 × 8\n",
       "\\begin{tabular}{llllllll}\n",
       " assay & var\\_name & hmm\\_state & pval & var\\_exp & q & sig & q.signif\\\\\n",
       " <chr> & <chr> & <int> & <dbl> & <dbl> & <dbl> & <lgl> & <chr>\\\\\n",
       "\\hline\n",
       "\t of & date         & 1 & 4.823720e-01 & 0.081481028 & 5.930803e-01 & FALSE & ns  \\\\\n",
       "\t of & time\\_numeric & 1 & 8.988113e-01 & 0.081481028 & 9.048436e-01 & FALSE & ns  \\\\\n",
       "\t of & tank\\_side    & 1 & 7.855785e-02 & 0.081481028 & 1.914089e-01 & FALSE & ns  \\\\\n",
       "\t of & quadrant     & 1 & 6.099329e-02 & 0.081481028 & 1.663453e-01 & FALSE & ns  \\\\\n",
       "\t of & test\\_strain  & 1 & 1.996251e-06 & 0.081481028 & 2.994376e-05 &  TRUE & ****\\\\\n",
       "\t of & date         & 2 & 1.128740e-01 & 0.003611797 & 2.351542e-01 & FALSE & ns  \\\\\n",
       "\\end{tabular}\n"
      ],
      "text/markdown": [
       "\n",
       "A data.table: 6 × 8\n",
       "\n",
       "| assay &lt;chr&gt; | var_name &lt;chr&gt; | hmm_state &lt;int&gt; | pval &lt;dbl&gt; | var_exp &lt;dbl&gt; | q &lt;dbl&gt; | sig &lt;lgl&gt; | q.signif &lt;chr&gt; |\n",
       "|---|---|---|---|---|---|---|---|\n",
       "| of | date         | 1 | 4.823720e-01 | 0.081481028 | 5.930803e-01 | FALSE | ns   |\n",
       "| of | time_numeric | 1 | 8.988113e-01 | 0.081481028 | 9.048436e-01 | FALSE | ns   |\n",
       "| of | tank_side    | 1 | 7.855785e-02 | 0.081481028 | 1.914089e-01 | FALSE | ns   |\n",
       "| of | quadrant     | 1 | 6.099329e-02 | 0.081481028 | 1.663453e-01 | FALSE | ns   |\n",
       "| of | test_strain  | 1 | 1.996251e-06 | 0.081481028 | 2.994376e-05 |  TRUE | **** |\n",
       "| of | date         | 2 | 1.128740e-01 | 0.003611797 | 2.351542e-01 | FALSE | ns   |\n",
       "\n"
      ],
      "text/plain": [
       "  assay var_name     hmm_state pval         var_exp     q            sig  \n",
       "1 of    date         1         4.823720e-01 0.081481028 5.930803e-01 FALSE\n",
       "2 of    time_numeric 1         8.988113e-01 0.081481028 9.048436e-01 FALSE\n",
       "3 of    tank_side    1         7.855785e-02 0.081481028 1.914089e-01 FALSE\n",
       "4 of    quadrant     1         6.099329e-02 0.081481028 1.663453e-01 FALSE\n",
       "5 of    test_strain  1         1.996251e-06 0.081481028 2.994376e-05  TRUE\n",
       "6 of    date         2         1.128740e-01 0.003611797 2.351542e-01 FALSE\n",
       "  q.signif\n",
       "1 ns      \n",
       "2 ns      \n",
       "3 ns      \n",
       "4 ns      \n",
       "5 ****    \n",
       "6 ns      "
      ]
     },
     "metadata": {},
     "output_type": "display_data"
    }
   ],
   "source": [
    "res <- res |> rstatix::add_significance(p.col = \"q\") |> as.data.table()\n",
    "head(res)"
   ]
  },
  {
   "cell_type": "code",
   "execution_count": 22,
   "id": "1e6365bb-4eb2-4137-87cb-f21453f7a050",
   "metadata": {},
   "outputs": [
    {
     "data": {
      "text/html": [
       "<table class=\"dataframe\">\n",
       "<caption>A data.table: 30 × 5</caption>\n",
       "<thead>\n",
       "\t<tr><th scope=col>Assay component</th><th scope=col>HMM State</th><th scope=col>p-value (FDR-adjusted)</th><th scope=col>Significance</th><th scope=col>Variance explained</th></tr>\n",
       "\t<tr><th scope=col>&lt;chr&gt;</th><th scope=col>&lt;int&gt;</th><th scope=col>&lt;chr&gt;</th><th scope=col>&lt;chr&gt;</th><th scope=col>&lt;dbl&gt;</th></tr>\n",
       "</thead>\n",
       "<tbody>\n",
       "\t<tr><td>Open field  </td><td> 1</td><td>2.99e-05</td><td>****</td><td>0.08150</td></tr>\n",
       "\t<tr><td>Open field  </td><td> 2</td><td>8.81e-01</td><td>ns  </td><td>0.00361</td></tr>\n",
       "\t<tr><td>Open field  </td><td> 3</td><td>8.91e-01</td><td>ns  </td><td>0.00310</td></tr>\n",
       "\t<tr><td>Open field  </td><td> 4</td><td>1.58e-05</td><td>****</td><td>0.08640</td></tr>\n",
       "\t<tr><td>Open field  </td><td> 5</td><td>4.74e-01</td><td>ns  </td><td>0.01020</td></tr>\n",
       "\t<tr><td>Open field  </td><td> 6</td><td>4.45e-01</td><td>ns  </td><td>0.01080</td></tr>\n",
       "\t<tr><td>Open field  </td><td> 7</td><td>6.82e-01</td><td>ns  </td><td>0.00696</td></tr>\n",
       "\t<tr><td>Open field  </td><td> 8</td><td>2.40e-01</td><td>ns  </td><td>0.01690</td></tr>\n",
       "\t<tr><td>Open field  </td><td> 9</td><td>6.74e-01</td><td>ns  </td><td>0.00709</td></tr>\n",
       "\t<tr><td>Open field  </td><td>10</td><td>2.02e-01</td><td>ns  </td><td>0.02100</td></tr>\n",
       "\t<tr><td>Open field  </td><td>11</td><td>1.14e-01</td><td>ns  </td><td>0.02690</td></tr>\n",
       "\t<tr><td>Open field  </td><td>12</td><td>9.43e-02</td><td>ns  </td><td>0.02850</td></tr>\n",
       "\t<tr><td>Open field  </td><td>13</td><td>1.29e-01</td><td>ns  </td><td>0.02330</td></tr>\n",
       "\t<tr><td>Open field  </td><td>14</td><td>1.60e-01</td><td>ns  </td><td>0.02440</td></tr>\n",
       "\t<tr><td>Open field  </td><td>15</td><td>6.85e-01</td><td>ns  </td><td>0.00719</td></tr>\n",
       "\t<tr><td>Novel object</td><td> 1</td><td>3.07e-05</td><td>****</td><td>0.07740</td></tr>\n",
       "\t<tr><td>Novel object</td><td> 2</td><td>1.15e-01</td><td>ns  </td><td>0.02650</td></tr>\n",
       "\t<tr><td>Novel object</td><td> 3</td><td>1.15e-01</td><td>ns  </td><td>0.02630</td></tr>\n",
       "\t<tr><td>Novel object</td><td> 4</td><td>1.90e-05</td><td>****</td><td>0.08150</td></tr>\n",
       "\t<tr><td>Novel object</td><td> 5</td><td>2.88e-01</td><td>ns  </td><td>0.01650</td></tr>\n",
       "\t<tr><td>Novel object</td><td> 6</td><td>2.53e-01</td><td>ns  </td><td>0.01800</td></tr>\n",
       "\t<tr><td>Novel object</td><td> 7</td><td>1.54e-02</td><td>*   </td><td>0.03930</td></tr>\n",
       "\t<tr><td>Novel object</td><td> 8</td><td>5.62e-02</td><td>ns  </td><td>0.02920</td></tr>\n",
       "\t<tr><td>Novel object</td><td> 9</td><td>2.35e-01</td><td>ns  </td><td>0.02030</td></tr>\n",
       "\t<tr><td>Novel object</td><td>10</td><td>2.40e-01</td><td>ns  </td><td>0.01990</td></tr>\n",
       "\t<tr><td>Novel object</td><td>11</td><td>1.60e-01</td><td>ns  </td><td>0.02460</td></tr>\n",
       "\t<tr><td>Novel object</td><td>12</td><td>1.62e-01</td><td>ns  </td><td>0.02430</td></tr>\n",
       "\t<tr><td>Novel object</td><td>13</td><td>2.31e-01</td><td>ns  </td><td>0.01820</td></tr>\n",
       "\t<tr><td>Novel object</td><td>14</td><td>2.38e-01</td><td>ns  </td><td>0.01910</td></tr>\n",
       "\t<tr><td>Novel object</td><td>15</td><td>4.26e-01</td><td>ns  </td><td>0.01380</td></tr>\n",
       "</tbody>\n",
       "</table>\n"
      ],
      "text/latex": [
       "A data.table: 30 × 5\n",
       "\\begin{tabular}{lllll}\n",
       " Assay component & HMM State & p-value (FDR-adjusted) & Significance & Variance explained\\\\\n",
       " <chr> & <int> & <chr> & <chr> & <dbl>\\\\\n",
       "\\hline\n",
       "\t Open field   &  1 & 2.99e-05 & **** & 0.08150\\\\\n",
       "\t Open field   &  2 & 8.81e-01 & ns   & 0.00361\\\\\n",
       "\t Open field   &  3 & 8.91e-01 & ns   & 0.00310\\\\\n",
       "\t Open field   &  4 & 1.58e-05 & **** & 0.08640\\\\\n",
       "\t Open field   &  5 & 4.74e-01 & ns   & 0.01020\\\\\n",
       "\t Open field   &  6 & 4.45e-01 & ns   & 0.01080\\\\\n",
       "\t Open field   &  7 & 6.82e-01 & ns   & 0.00696\\\\\n",
       "\t Open field   &  8 & 2.40e-01 & ns   & 0.01690\\\\\n",
       "\t Open field   &  9 & 6.74e-01 & ns   & 0.00709\\\\\n",
       "\t Open field   & 10 & 2.02e-01 & ns   & 0.02100\\\\\n",
       "\t Open field   & 11 & 1.14e-01 & ns   & 0.02690\\\\\n",
       "\t Open field   & 12 & 9.43e-02 & ns   & 0.02850\\\\\n",
       "\t Open field   & 13 & 1.29e-01 & ns   & 0.02330\\\\\n",
       "\t Open field   & 14 & 1.60e-01 & ns   & 0.02440\\\\\n",
       "\t Open field   & 15 & 6.85e-01 & ns   & 0.00719\\\\\n",
       "\t Novel object &  1 & 3.07e-05 & **** & 0.07740\\\\\n",
       "\t Novel object &  2 & 1.15e-01 & ns   & 0.02650\\\\\n",
       "\t Novel object &  3 & 1.15e-01 & ns   & 0.02630\\\\\n",
       "\t Novel object &  4 & 1.90e-05 & **** & 0.08150\\\\\n",
       "\t Novel object &  5 & 2.88e-01 & ns   & 0.01650\\\\\n",
       "\t Novel object &  6 & 2.53e-01 & ns   & 0.01800\\\\\n",
       "\t Novel object &  7 & 1.54e-02 & *    & 0.03930\\\\\n",
       "\t Novel object &  8 & 5.62e-02 & ns   & 0.02920\\\\\n",
       "\t Novel object &  9 & 2.35e-01 & ns   & 0.02030\\\\\n",
       "\t Novel object & 10 & 2.40e-01 & ns   & 0.01990\\\\\n",
       "\t Novel object & 11 & 1.60e-01 & ns   & 0.02460\\\\\n",
       "\t Novel object & 12 & 1.62e-01 & ns   & 0.02430\\\\\n",
       "\t Novel object & 13 & 2.31e-01 & ns   & 0.01820\\\\\n",
       "\t Novel object & 14 & 2.38e-01 & ns   & 0.01910\\\\\n",
       "\t Novel object & 15 & 4.26e-01 & ns   & 0.01380\\\\\n",
       "\\end{tabular}\n"
      ],
      "text/markdown": [
       "\n",
       "A data.table: 30 × 5\n",
       "\n",
       "| Assay component &lt;chr&gt; | HMM State &lt;int&gt; | p-value (FDR-adjusted) &lt;chr&gt; | Significance &lt;chr&gt; | Variance explained &lt;dbl&gt; |\n",
       "|---|---|---|---|---|\n",
       "| Open field   |  1 | 2.99e-05 | **** | 0.08150 |\n",
       "| Open field   |  2 | 8.81e-01 | ns   | 0.00361 |\n",
       "| Open field   |  3 | 8.91e-01 | ns   | 0.00310 |\n",
       "| Open field   |  4 | 1.58e-05 | **** | 0.08640 |\n",
       "| Open field   |  5 | 4.74e-01 | ns   | 0.01020 |\n",
       "| Open field   |  6 | 4.45e-01 | ns   | 0.01080 |\n",
       "| Open field   |  7 | 6.82e-01 | ns   | 0.00696 |\n",
       "| Open field   |  8 | 2.40e-01 | ns   | 0.01690 |\n",
       "| Open field   |  9 | 6.74e-01 | ns   | 0.00709 |\n",
       "| Open field   | 10 | 2.02e-01 | ns   | 0.02100 |\n",
       "| Open field   | 11 | 1.14e-01 | ns   | 0.02690 |\n",
       "| Open field   | 12 | 9.43e-02 | ns   | 0.02850 |\n",
       "| Open field   | 13 | 1.29e-01 | ns   | 0.02330 |\n",
       "| Open field   | 14 | 1.60e-01 | ns   | 0.02440 |\n",
       "| Open field   | 15 | 6.85e-01 | ns   | 0.00719 |\n",
       "| Novel object |  1 | 3.07e-05 | **** | 0.07740 |\n",
       "| Novel object |  2 | 1.15e-01 | ns   | 0.02650 |\n",
       "| Novel object |  3 | 1.15e-01 | ns   | 0.02630 |\n",
       "| Novel object |  4 | 1.90e-05 | **** | 0.08150 |\n",
       "| Novel object |  5 | 2.88e-01 | ns   | 0.01650 |\n",
       "| Novel object |  6 | 2.53e-01 | ns   | 0.01800 |\n",
       "| Novel object |  7 | 1.54e-02 | *    | 0.03930 |\n",
       "| Novel object |  8 | 5.62e-02 | ns   | 0.02920 |\n",
       "| Novel object |  9 | 2.35e-01 | ns   | 0.02030 |\n",
       "| Novel object | 10 | 2.40e-01 | ns   | 0.01990 |\n",
       "| Novel object | 11 | 1.60e-01 | ns   | 0.02460 |\n",
       "| Novel object | 12 | 1.62e-01 | ns   | 0.02430 |\n",
       "| Novel object | 13 | 2.31e-01 | ns   | 0.01820 |\n",
       "| Novel object | 14 | 2.38e-01 | ns   | 0.01910 |\n",
       "| Novel object | 15 | 4.26e-01 | ns   | 0.01380 |\n",
       "\n"
      ],
      "text/plain": [
       "   Assay component HMM State p-value (FDR-adjusted) Significance\n",
       "1  Open field       1        2.99e-05               ****        \n",
       "2  Open field       2        8.81e-01               ns          \n",
       "3  Open field       3        8.91e-01               ns          \n",
       "4  Open field       4        1.58e-05               ****        \n",
       "5  Open field       5        4.74e-01               ns          \n",
       "6  Open field       6        4.45e-01               ns          \n",
       "7  Open field       7        6.82e-01               ns          \n",
       "8  Open field       8        2.40e-01               ns          \n",
       "9  Open field       9        6.74e-01               ns          \n",
       "10 Open field      10        2.02e-01               ns          \n",
       "11 Open field      11        1.14e-01               ns          \n",
       "12 Open field      12        9.43e-02               ns          \n",
       "13 Open field      13        1.29e-01               ns          \n",
       "14 Open field      14        1.60e-01               ns          \n",
       "15 Open field      15        6.85e-01               ns          \n",
       "16 Novel object     1        3.07e-05               ****        \n",
       "17 Novel object     2        1.15e-01               ns          \n",
       "18 Novel object     3        1.15e-01               ns          \n",
       "19 Novel object     4        1.90e-05               ****        \n",
       "20 Novel object     5        2.88e-01               ns          \n",
       "21 Novel object     6        2.53e-01               ns          \n",
       "22 Novel object     7        1.54e-02               *           \n",
       "23 Novel object     8        5.62e-02               ns          \n",
       "24 Novel object     9        2.35e-01               ns          \n",
       "25 Novel object    10        2.40e-01               ns          \n",
       "26 Novel object    11        1.60e-01               ns          \n",
       "27 Novel object    12        1.62e-01               ns          \n",
       "28 Novel object    13        2.31e-01               ns          \n",
       "29 Novel object    14        2.38e-01               ns          \n",
       "30 Novel object    15        4.26e-01               ns          \n",
       "   Variance explained\n",
       "1  0.08150           \n",
       "2  0.00361           \n",
       "3  0.00310           \n",
       "4  0.08640           \n",
       "5  0.01020           \n",
       "6  0.01080           \n",
       "7  0.00696           \n",
       "8  0.01690           \n",
       "9  0.00709           \n",
       "10 0.02100           \n",
       "11 0.02690           \n",
       "12 0.02850           \n",
       "13 0.02330           \n",
       "14 0.02440           \n",
       "15 0.00719           \n",
       "16 0.07740           \n",
       "17 0.02650           \n",
       "18 0.02630           \n",
       "19 0.08150           \n",
       "20 0.01650           \n",
       "21 0.01800           \n",
       "22 0.03930           \n",
       "23 0.02920           \n",
       "24 0.02030           \n",
       "25 0.01990           \n",
       "26 0.02460           \n",
       "27 0.02430           \n",
       "28 0.01820           \n",
       "29 0.01910           \n",
       "30 0.01380           "
      ]
     },
     "metadata": {},
     "output_type": "display_data"
    }
   ],
   "source": [
    "pretty_df <- res[\n",
    "    var_name == \"test_strain\",\n",
    "    .(\n",
    "        `Assay component` = ifelse(assay == \"of\", \"Open field\", \"Novel object\"),\n",
    "        `HMM State` = hmm_state,\n",
    "        `p-value (FDR-adjusted)` = signif(q, 3) |> format(scientific = TRUE),\n",
    "        `Significance` = q.signif,\n",
    "        `Variance explained` = signif(var_exp, 3)\n",
    "    )\n",
    "]\n",
    "\n",
    "pretty_df"
   ]
  },
  {
   "cell_type": "code",
   "execution_count": 23,
   "id": "dcaba87b-32ed-40b2-923a-e5b25a11b7fe",
   "metadata": {},
   "outputs": [],
   "source": [
    "fwrite(pretty_df, \"tableS2.csv\")"
   ]
  }
 ],
 "metadata": {
  "kernelspec": {
   "display_name": "r_data_science",
   "language": "R",
   "name": "r_data_science"
  },
  "language_info": {
   "codemirror_mode": "r",
   "file_extension": ".r",
   "mimetype": "text/x-r-source",
   "name": "R",
   "pygments_lexer": "r",
   "version": "4.3.3"
  }
 },
 "nbformat": 4,
 "nbformat_minor": 5
}
